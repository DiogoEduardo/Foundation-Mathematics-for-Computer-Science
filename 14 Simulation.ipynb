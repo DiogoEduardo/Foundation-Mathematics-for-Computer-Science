{
 "cells": [
  {
   "cell_type": "markdown",
   "metadata": {},
   "source": [
    "# Exercício 1 \n",
    "\n",
    "In the early 1600s, Galileo was asked to explain the fact that, although the\n",
    "number of triples of integers from 1 to 6 with sum 9 is the same as the number\n",
    "of such triples with sum 10, when three dice are rolled, a 9 seemed to come\n",
    "up less often than a 10—supposedly in the experience of gamblers.\n",
    "\n",
    "(a) Write a program to simulate the roll of three dice a large number of\n",
    "times and keep track of the proportion of times that the sum is 9 and\n",
    "the proportion of times it is 10.\n",
    "\n",
    "(b) Can you conclude from your simulations that the gamblers were correct?"
   ]
  },
  {
   "cell_type": "code",
   "execution_count": 5,
   "metadata": {},
   "outputs": [
    {
     "name": "stdout",
     "output_type": "stream",
     "text": [
      "Proportion for sum 9 =  11.576605 %\n",
      "Proportion for sum 10 =  12.502165 %\n"
     ]
    }
   ],
   "source": [
    "from random import randint\n",
    "\n",
    "sum10 = 0\n",
    "sum9 = 0\n",
    "\n",
    "for i in range(100000000):\n",
    "    dice1 = randint(1,6)\n",
    "    dice2 = randint(1,6)\n",
    "    dice3 = randint(1,6)\n",
    "    \n",
    "    if dice1 + dice2 + dice3 == 9:\n",
    "        sum9 += 1\n",
    "    if dice1 + dice2 + dice3 == 10:\n",
    "        sum10 += 1\n",
    "        \n",
    "print(\"Proportion for sum 9 = \", sum9/1000000,\"%\")\n",
    "print(\"Proportion for sum 10 = \", sum10/1000000,\"%\")"
   ]
  },
  {
   "cell_type": "code",
   "execution_count": 9,
   "metadata": {},
   "outputs": [
    {
     "name": "stdout",
     "output_type": "stream",
     "text": [
      "Difference between the proportions:  7.995090097658156 %\n"
     ]
    }
   ],
   "source": [
    "print(\"Difference between the proportions: \",(sum10/1000000 - sum9/1000000)*100/(sum9/1000000), \"%\")"
   ]
  },
  {
   "cell_type": "markdown",
   "metadata": {},
   "source": [
    "### No, we can not. The simulation showed above is based on pseudo aleatory numbers which we can generate using computers, then it is not a perfect implementation of statistic inference. It could be an indicator, but in this case we would need to define a relevant difference between the proportions to consider it a good indicator. For this $n = 100000000$ the difference between the proportions is less than $8\\%$ that is not a good indicator considering it is not a real aleatory experiment."
   ]
  },
  {
   "cell_type": "markdown",
   "metadata": {},
   "source": [
    "### \"It may seem perverse to use a computer, that most precise and deterministic of all machines conceived by the human mind, to produce 'random' numbers. More than perverse, it may seem to be a conceptual impossibility. Any program, after all, will produce output that is entirely predictable, hence not truly 'random'.\" - Numerical Recipes in Fortran 77 (Book)"
   ]
  },
  {
   "cell_type": "markdown",
   "metadata": {},
   "source": [
    "# Exercício 2\n",
    "\n",
    "In raquetball, a player continues to serve as long as she is winning; a point\n",
    "is scored only when a player is serving and wins the volley. The first player\n",
    "to win 21 points wins the game. Assume that you serve first and have a\n",
    "probability .6 of winning a volley when you serve and probability .5 when\n",
    "your opponent serves. Estimate, by simulation, the probability that you will\n",
    "win a game."
   ]
  },
  {
   "cell_type": "code",
   "execution_count": 68,
   "metadata": {},
   "outputs": [
    {
     "name": "stdout",
     "output_type": "stream",
     "text": [
      "Win:  826491  times \n",
      "Loose:  86652  times\n",
      "The probability of winning the game is  82.6491 %\n"
     ]
    }
   ],
   "source": [
    "from random import randint\n",
    "\n",
    "win = 0\n",
    "loose = 0\n",
    "\n",
    "for i in range(1000000):\n",
    "    points1 = 0\n",
    "    points2 = 0\n",
    "    while points1 < 21 and points2 < 21:\n",
    "        p = randint(0,9)\n",
    "        \n",
    "        if p >= 4:\n",
    "            points1 += 1\n",
    "\n",
    "        else:\n",
    "            p = randint(0,9)\n",
    "            if p <= 4:\n",
    "                points2 += 1\n",
    "                p = randint(0,9)\n",
    "                while p <= 4:\n",
    "                    points2 += 1\n",
    "                    p = randint(0,9)\n",
    "\n",
    "\n",
    "    if points1 == 21:\n",
    "        win += 1\n",
    "\n",
    "    if points2 == 21: \n",
    "        loose +=1\n",
    "\n",
    "print(\"Win: \",win,\" times\", \"\\nLoose: \", loose, \" times\")\n",
    "print(\"The probability of winning the game is \", win/10000,\"%\")"
   ]
  },
  {
   "cell_type": "markdown",
   "metadata": {},
   "source": [
    "# Exercício 3\n",
    "\n",
    "In an upcoming national election for the President of the United States, a\n",
    "pollster plans to predict the winner of the popular vote by taking a random\n",
    "sample of 1000 voters and declaring that the winner will be the one obtaining\n",
    "the most votes in his sample. \n",
    "\n",
    "Suppose that 48 percent of the voters plan\n",
    "to vote for the Republican candidate and 52 percent plan to vote for the\n",
    "Democratic candidate. \n",
    "\n",
    "To get some idea of how reasonable the pollster’s\n",
    "plan is, write a program to make this prediction by simulation. Repeat the\n",
    "simulation 100 times and see how many times the pollster’s prediction would\n",
    "come true. \n",
    "\n",
    "Repeat your experiment, assuming now that 49 percent of the\n",
    "population plan to vote for the Republican candidate; first with a sample of\n",
    "1000 and then with a sample of 3000."
   ]
  },
  {
   "cell_type": "code",
   "execution_count": 127,
   "metadata": {},
   "outputs": [
    {
     "name": "stdout",
     "output_type": "stream",
     "text": [
      "Prediction works:  14 times or  14 %\n"
     ]
    }
   ],
   "source": [
    "predictionworks = 0\n",
    "\n",
    "for j in range(100):\n",
    "    democratic = 0\n",
    "    republican = 0\n",
    "    \n",
    "    for i in range(1000):\n",
    "        p = randint(1,2)\n",
    "        if p == 2:\n",
    "            democratic += 1\n",
    "        if p == 1:\n",
    "            republican += 1\n",
    "            \n",
    "    if round(democratic/10) == 52:\n",
    "        predictionworks += 1\n",
    "\n",
    "\n",
    "print(\"Prediction works: \", predictionworks, \"times or \", predictionworks,\"%\")\n"
   ]
  },
  {
   "cell_type": "code",
   "execution_count": 128,
   "metadata": {},
   "outputs": [
    {
     "name": "stdout",
     "output_type": "stream",
     "text": [
      "Prediction works:  23  times or  23 %\n"
     ]
    }
   ],
   "source": [
    "predictionworks = 0\n",
    "for j in range(100):\n",
    "    democratic = 0\n",
    "    republican = 0\n",
    "    \n",
    "    for i in range(1000):\n",
    "        p = randint(1,2)\n",
    "        if p == 2:\n",
    "            democratic += 1\n",
    "        if p == 1:\n",
    "            republican += 1\n",
    "            \n",
    "    if round(democratic/10) == 51:\n",
    "        predictionworks += 1\n",
    "\n",
    "\n",
    "print(\"Prediction works: \", predictionworks, \" times or \", predictionworks,\"%\")"
   ]
  },
  {
   "cell_type": "code",
   "execution_count": 129,
   "metadata": {},
   "outputs": [
    {
     "name": "stdout",
     "output_type": "stream",
     "text": [
      "Prediction works:  25  times or  25 %\n"
     ]
    }
   ],
   "source": [
    "predictionworks = 0\n",
    "for j in range(100):\n",
    "    democratic = 0\n",
    "    republican = 0\n",
    "    \n",
    "    for i in range(3000):\n",
    "        p = randint(1,2)\n",
    "        if p == 2:\n",
    "            democratic += 1\n",
    "        if p == 1:\n",
    "            republican += 1\n",
    "            \n",
    "    if round(democratic/30) == 51:\n",
    "        predictionworks += 1\n",
    "\n",
    "\n",
    "print(\"Prediction works: \", predictionworks, \" times or \", predictionworks,\"%\")"
   ]
  }
 ],
 "metadata": {
  "kernelspec": {
   "display_name": "Python 3",
   "language": "python",
   "name": "python3"
  },
  "language_info": {
   "codemirror_mode": {
    "name": "ipython",
    "version": 3
   },
   "file_extension": ".py",
   "mimetype": "text/x-python",
   "name": "python",
   "nbconvert_exporter": "python",
   "pygments_lexer": "ipython3",
   "version": "3.7.3"
  }
 },
 "nbformat": 4,
 "nbformat_minor": 2
}
