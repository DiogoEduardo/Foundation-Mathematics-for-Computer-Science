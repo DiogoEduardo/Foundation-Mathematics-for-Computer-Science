{
 "cells": [
  {
   "cell_type": "markdown",
   "metadata": {},
   "source": [
    "# Lista 6"
   ]
  },
  {
   "cell_type": "code",
   "execution_count": 65,
   "metadata": {},
   "outputs": [],
   "source": [
    "import mpmath as mp"
   ]
  },
  {
   "cell_type": "code",
   "execution_count": 66,
   "metadata": {},
   "outputs": [
    {
     "name": "stdout",
     "output_type": "stream",
     "text": [
      "[0.867136863601611]\n",
      "[ -2.1187918504528]\n"
     ]
    }
   ],
   "source": [
    "vars = sp.var('x, y')\n",
    "\n",
    "F = [3*x*y - y**3 - 4, x**2 - x*y**3 - 9]\n",
    "\n",
    "J = sp.Matrix(F).jacobian(vars)\n",
    "\n",
    "f = lambda x0,y0 : [Fc.subs(list(zip(vars, [x0,y0]))) for Fc in F]\n",
    "Jac = lambda x0,y0 : J.subs(list(zip(vars, [x0,y0]))).tolist()\n",
    "\n",
    "inicio = [-1, -2]\n",
    "\n",
    "raizes = mp.findroot(f, inicio, J = Jac,xtool=1e-16)\n",
    "print(raizes)"
   ]
  }
 ],
 "metadata": {
  "kernelspec": {
   "display_name": "Python 3",
   "language": "python",
   "name": "python3"
  },
  "language_info": {
   "codemirror_mode": {
    "name": "ipython",
    "version": 3
   },
   "file_extension": ".py",
   "mimetype": "text/x-python",
   "name": "python",
   "nbconvert_exporter": "python",
   "pygments_lexer": "ipython3",
   "version": "3.7.1"
  }
 },
 "nbformat": 4,
 "nbformat_minor": 2
}
