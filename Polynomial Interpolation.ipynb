{
 "cells": [
  {
   "cell_type": "markdown",
   "metadata": {},
   "source": [
    "# Polynomial Interpolation"
   ]
  },
  {
   "cell_type": "markdown",
   "metadata": {},
   "source": [
    "# Exercicio 1) a-"
   ]
  },
  {
   "cell_type": "markdown",
   "metadata": {},
   "source": [
    "$$ f(x) = \\sqrt{x}$$\n",
    "$$ x_{0} = 1; x_{1} = 1.1; x_{2} = 1.15$$\n",
    "$$ f(x_{0}) = 1; f(x_{1}) = 1.049; x_{2} = 1.072$$\n",
    "\n",
    "O polinomio e dado pela seguinte expressao:\n",
    "\n",
    "$$p_{2}(x) = f(x_{0}) + f[x_{0}, x_{1}](x-x_{0}) + f[x_{0}, x_{1}, x_{2}](x-x_{0})(x-x_{1}) $$\n",
    "\n",
    "Vamos entao encontrar os operadores de diferenca dividida:\n",
    "\n",
    "$$f(x_{0}) = 1$$\n",
    "$$f[x_{0},x_{1}] = (1,049-1)/(1,1-1) = 0,49 $$\n",
    "$$f[x_{1},x_{2}] = (1,072-1,049)/(1,15-1,1) = 0,46 $$\n",
    "$$f[x_{0},x_{1}, x_{2}] = (0,46-0,49)/(1,15-1) = -0,2 $$\n",
    "\n",
    "Entao:\n",
    "\n",
    "$$p_{2}(x) = 1 + 0,49(x-1) + (-0,2)(x-1)(x-1,1) $$\n",
    "\n",
    "Usando $x = 1,12$:\n",
    "\n",
    "$$p_{2}(1,12) = 1 + 0,49(1,12-1) + (-0,2)(1,12-1)(1,12-1,1) = 1,05832$$"
   ]
  },
  {
   "cell_type": "markdown",
   "metadata": {},
   "source": [
    "# b -\n",
    "\n",
    "Utilizando o teorema 4\n",
    "\n",
    "\n",
    "3 pontos $\\Rightarrow n = 2$\n",
    "\n",
    "$$ |E_{2}(x)| \\leq |(x-x_{0})(x-x_{1})(x-x_{2})| max(t) \\frac{\\sqrt{|t|}}{3!} $$\n",
    "$$ |E_{2}(x)| \\leq |(x-x_{0})(x-x_{1})(x-x_{2})| max(t) \\frac{\\sqrt{x_{2}}}{6} $$\n",
    "\n",
    "$(x-x_{0})(x-x_{1})(x-x_{2})$ atinge o valor maximo ($0,000264076$) quando $x = 1,03924$, logo:\n",
    "\n",
    "$$E_{2}(x) \\leq 0,000264076 \\frac{\\sqrt{1,15}}{6}$$\n",
    "\n",
    "que implica em $E_{2}(x) \\leq 0,000004719 $ para todo $ x \\in [1,1.15]$\n"
   ]
  },
  {
   "cell_type": "markdown",
   "metadata": {},
   "source": [
    "# Exercicio 2"
   ]
  },
  {
   "cell_type": "markdown",
   "metadata": {},
   "source": [
    "Formula do erro:\n",
    "    \n",
    "$$ E_{n}(z) = f(z) - p_{n}(z) = (z - x_0)...(z-x_{n})f[x_0,...,x_n,z]$$\n",
    "\n",
    "Formula $p_{n+1}(x)$:\n",
    "\n",
    "$$p_{n+1}(x) = p_n(x) + (x-x_0)...(x-x_n)f[x_0,...,x_n,z]$$\n",
    "\n",
    "Fazendo $x = z$ temos que $p_{n+1}(z) = f(z)$, pois $p_{n+1}$ interpola este ponto. Assim, substituindo na formula do erro, temos:\n",
    "\n",
    "$$E_n(z) = p_n(z) - p_{n+1}(z) = 0$$"
   ]
  },
  {
   "cell_type": "markdown",
   "metadata": {},
   "source": [
    "# Exercicio 3\n",
    "\n",
    "Provar que $f^{(k)} = (k+3x)3^{k-1}e^{3x}$ por inducao\n",
    "\n",
    "base k=1\n",
    "\n",
    "$$f' = (1+3x)3^0e^{3x} = e^{3x}(3x+1)$$\n",
    "\n",
    "caso base correto!\n",
    "\n",
    "Suposicao:\n",
    "\n",
    "$f^{(k-1)} = (k-1+3x)3^{k-2}e^{3x}$\n",
    "\n",
    "derivando dos dois lados temos:\n",
    "\n",
    "$f^{(k)} = (k+3x)3^{k-1}e^{3x}$\n",
    "\n",
    "Terminando a prova por inducao\n",
    "\n",
    "Substituindo esse resultado e $h$ por $(x_{n}-x_{0})/n$ na formula do erro temos:\n",
    "\n",
    "$$|E_{n} (x)| \\leq \\frac{(0,4/n)^{n+1}(n+2,2)3^n e^{1,2}}{4n+4} \\leq 10^{-7}$$\n",
    "\n",
    "Isolando o $n$ temos: $n \\approx 7,29 \\Rightarrow n = 8$ e como temos $n+1$ pontos sao necessarios $9$ pontos para ter um erro inferior a $10^{-7}$"
   ]
  },
  {
   "cell_type": "markdown",
   "metadata": {},
   "source": [
    "# Exercicio 4"
   ]
  },
  {
   "cell_type": "code",
   "execution_count": 76,
   "metadata": {},
   "outputs": [
    {
     "data": {
      "image/png": "[encoded data removed]",
      "text/plain": [
       "<Figure size 432x288 with 1 Axes>"
      ]
     },
     "metadata": {
      "needs_background": "light"
     },
     "output_type": "display_data"
    }
   ],
   "source": [
    "import matplotlib.pyplot as plt\n",
    "import numpy as np\n",
    "\n",
    "\n",
    "# Definindo a lista de pontos a serem interpolados\n",
    "X = [0.9, 1.3, 1.9, 2.1, 2.6, 3.0, 3.9, 4.4, 4.7, 5.0, 6.0, 7.0, 8.0, 9.2, 10.5, 11.3, 11.6, 12.0, 12.6, 13.0, 13.3]\n",
    "Y = [1.3, 1.5, 1.85, 2.1, 2.6, 2.7, 2.4, 2.15, 1.95, 2.1, 2.25, 2.3, 2.25, 1.95, 1.4, 0.9, 0.7, 0.6, 0.5, 0.4, 0.25]\n",
    "\n",
    "\n",
    "# Criando uma lista de listas para a tabela de diferencas divididas \n",
    "dd=[Y] #ordem 0\n",
    "\n",
    "# Gerando a tabela de dif. div. a partir da ordem 1 em diante\n",
    "for o in range(1, len(X)):\n",
    "    dd.append([])   # Adiciona uma lista vazia para armazenar as dds de ordem 1\n",
    "    for k in range(0, len(X)-o, 1): \n",
    "        valor = (dd[o-1][k+1]-dd[o-1][k])/(X[k+o]-X[k])    \n",
    "        dd[o].append(valor)\n",
    "\n",
    "\n",
    "def produtorio(x,n):\n",
    "    prod = 1.\n",
    "    for i in range(n):\n",
    "        prod = prod * (x-X[i])\n",
    "    return prod\n",
    "\n",
    "\n",
    "def calculaP(x):\n",
    "    soma = dd[0][0]\n",
    "    for i in range(1,len(X)):\n",
    "        soma = soma + produtorio(x,i)*dd[i][0]\n",
    "    return soma\n",
    "\n",
    "Z = []\n",
    "Z = np.arange(0.9,13.4,0.1)\n",
    "Yp = []\n",
    "for z in Z:\n",
    "    y = calculaP(z)\n",
    "    Yp.append(y)\n",
    "    \n",
    "# A linha vermelha representa a aproximacao e as bolinhas sao os pontos originais definidos inicialmente\n",
    "\n",
    "plt.plot(Z, Yp, '-r', X, Y, 'bo',)\n",
    "plt.ylim(0, 10)\n",
    "plt.xlim(0, 14)\n",
    "plt.show()"
   ]
  },
  {
   "cell_type": "markdown",
   "metadata": {},
   "source": [
    "# Como podemos ver ocorreu o Fenomeno de Runge. Para evita-lo vou repetir o processo com conjuntos de 4 pontos:"
   ]
  },
  {
   "cell_type": "code",
   "execution_count": 77,
   "metadata": {
    "scrolled": true
   },
   "outputs": [
    {
     "data": {
      "image/png": "[encoded data removed]",
      "text/plain": [
       "<Figure size 432x288 with 1 Axes>"
      ]
     },
     "metadata": {
      "needs_background": "light"
     },
     "output_type": "display_data"
    }
   ],
   "source": [
    "# Definindo a lista de pontos a serem interpolados\n",
    "X = [0.9, 1.3, 1.9, 2.1, 2.6, 3.0, 3.9, 4.4, 4.7, 5.0, 6.0, 7.0, 8.0, 9.2, 10.5, 11.3, 11.6, 12.0, 12.6, 13.0, 13.3]\n",
    "Y = [1.3, 1.5, 1.85, 2.1, 2.6, 2.7, 2.4, 2.15, 1.95, 2.1, 2.25, 2.3, 2.25, 1.95, 1.4, 0.9, 0.7, 0.6, 0.5, 0.4, 0.25]\n",
    "\n",
    "def interpola (X,Y):\n",
    "    # Criando uma lista de listas para a tabela de diferencas divididas \n",
    "    dd=[Y] #ordem 0\n",
    "\n",
    "    # Gerando a tabela de dif. div. a partir da ordem 1 em diante\n",
    "    for o in range(1, len(X)):\n",
    "        dd.append([])   # Adiciona uma lista vazia para armazenar as dds de ordem 1\n",
    "        for k in range(0, len(X)-o, 1): \n",
    "            valor = (dd[o-1][k+1]-dd[o-1][k])/(X[k+o]-X[k])    \n",
    "            dd[o].append(valor)\n",
    "\n",
    "\n",
    "    def produtorio(x,n):\n",
    "        prod = 1.\n",
    "        for i in range(n):\n",
    "            prod = prod * (x-X[i])\n",
    "        return prod\n",
    "\n",
    "\n",
    "    def calculaP(x):\n",
    "        soma = dd[0][0]\n",
    "        for i in range(1,len(X)):\n",
    "            soma = soma + produtorio(x,i)*dd[i][0]\n",
    "        return soma\n",
    "\n",
    "    Z = []\n",
    "    Z = np.arange(X[0],X[3]+0.1,0.1)\n",
    "    \n",
    "    #print(Z)\n",
    "    Yp = []\n",
    "    for z in Z:\n",
    "        y = calculaP(z)\n",
    "        Yp.append(y)\n",
    "\n",
    "    plt.plot(Z, Yp, '-r')\n",
    "\n",
    "#Interpolando de 4 em 4 pontos\n",
    "for i in range(0,6):\n",
    "    interpola(X[i*3:i*3+4],Y[i*3:i*3+4])\n",
    "    \n",
    "interpola(X[17:21], Y[17:21])\n",
    "\n",
    "#plt.plot(X, Y, 'bo')\n",
    "#plt.ylim(0, 10)\n",
    "#plt.xlim(0, 14)\n",
    "plt.show()"
   ]
  },
  {
   "cell_type": "markdown",
   "metadata": {},
   "source": [
    "# Podemos ver que o grafico apresenta alguns bicos nas juncoes, mas nao foi mais afetado pelo fenomeno Runge"
   ]
  }
 ],
 "metadata": {
  "kernelspec": {
   "display_name": "Python 3",
   "language": "python",
   "name": "python3"
  },
  "language_info": {
   "codemirror_mode": {
    "name": "ipython",
    "version": 3
   },
   "file_extension": ".py",
   "mimetype": "text/x-python",
   "name": "python",
   "nbconvert_exporter": "python",
   "pygments_lexer": "ipython3",
   "version": "3.7.1"
  }
 },
 "nbformat": 4,
 "nbformat_minor": 2
}
