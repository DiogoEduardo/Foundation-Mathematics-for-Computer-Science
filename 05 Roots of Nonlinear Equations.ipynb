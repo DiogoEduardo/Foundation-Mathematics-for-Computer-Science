{
 "cells": [
  {
   "cell_type": "markdown",
   "metadata": {},
   "source": [
    "# Exercicios"
   ]
  },
  {
   "cell_type": "markdown",
   "metadata": {},
   "source": [
    "![title](img/051.png)\n",
    "![title](img/052.png)"
   ]
  },
  {
   "cell_type": "markdown",
   "metadata": {},
   "source": [
    "# Raízes para Equações Não-Lineares"
   ]
  },
  {
   "cell_type": "code",
   "execution_count": 1,
   "metadata": {},
   "outputs": [],
   "source": [
    "import matplotlib.pyplot as plt\n",
    "import numpy as np\n",
    "import math"
   ]
  },
  {
   "cell_type": "markdown",
   "metadata": {},
   "source": [
    "# Exercicio 1 - Usando Log na base 10"
   ]
  },
  {
   "cell_type": "markdown",
   "metadata": {},
   "source": [
    "Seja $f(x) = x^2/2 + x(\\log_{10}{x} -1)$\n",
    "\n",
    "Sabemos que nos pontos extremos $f'(x) = 0$\n",
    "\n",
    "$f'(x) = x + \\log_{10}(x)$\n",
    "\n",
    "Logo podemos usar o metodo da bissecao em f'(x) para encontrar o ponto extremo:\n",
    "\n",
    "Vamos usar o intervalo $[0.1,2]$ e supor que existe apenas uma raiz neste intervalo:\n",
    "\n",
    "Vamos checar se $f(a)f(b) < 0$:"
   ]
  },
  {
   "cell_type": "code",
   "execution_count": 2,
   "metadata": {},
   "outputs": [
    {
     "data": {
      "text/plain": [
       "-2.070926996097583"
      ]
     },
     "execution_count": 2,
     "metadata": {},
     "output_type": "execute_result"
    }
   ],
   "source": [
    "(0.1 + math.log10(0.1))*((2 + math.log10(2)))"
   ]
  },
  {
   "cell_type": "markdown",
   "metadata": {},
   "source": [
    "Como vimos realmente ha uma raiz neste intervalo, entao vamos aplicar o metodo:"
   ]
  },
  {
   "cell_type": "code",
   "execution_count": 3,
   "metadata": {},
   "outputs": [
    {
     "name": "stdout",
     "output_type": "stream",
     "text": [
      " k        a             b             x           f(a)           f(b)          f(x)         (b-a)/2\n",
      " 0 0.10000000000 2.00000000000 1.05000000000 -0.90000000000 2.30102999566 1.07118929907 0.95000000000\n",
      "---------------------------------------------------------------------------------------------------------\n",
      " 1 0.10000000000 1.05000000000 0.57500000000 -0.90000000000 1.07118929907 0.33466784469 0.47500000000\n",
      "---------------------------------------------------------------------------------------------------------\n",
      " 2 0.10000000000 0.57500000000 0.33750000000 -0.90000000000 0.33466784469 -0.13422622283 0.23750000000\n",
      "---------------------------------------------------------------------------------------------------------\n",
      " 3 0.33750000000 0.57500000000 0.45625000000 -0.13422622283 0.33466784469 0.11545287746 0.11875000000\n",
      "---------------------------------------------------------------------------------------------------------\n",
      " 4 0.33750000000 0.45625000000 0.39687500000 -0.13422622283 0.11545287746 -0.00447125736 0.05937500000\n",
      "---------------------------------------------------------------------------------------------------------\n",
      " 5 0.39687500000 0.45625000000 0.42656250000 -0.00447125736 0.11545287746 0.05654517306 0.02968750000\n",
      "---------------------------------------------------------------------------------------------------------\n",
      " 6 0.39687500000 0.42656250000 0.41171875000 -0.00447125736 0.05654517306 0.02631939556 0.01484375000\n",
      "---------------------------------------------------------------------------------------------------------\n",
      " 7 0.39687500000 0.41171875000 0.40429687500 -0.00447125736 0.02631939556 0.01099725948 0.00742187500\n",
      "---------------------------------------------------------------------------------------------------------\n",
      " 8 0.39687500000 0.40429687500 0.40058593750 -0.00447125736 0.01099725948 0.00328163689 0.00371093750\n",
      "---------------------------------------------------------------------------------------------------------\n",
      " 9 0.39687500000 0.40058593750 0.39873046875 -0.00447125736 0.00328163689 -0.00059010797 0.00185546875\n",
      "---------------------------------------------------------------------------------------------------------\n",
      "10 0.39873046875 0.40058593750 0.39965820313 -0.00059010797 0.00328163689 0.00134693457 0.00092773437\n",
      "---------------------------------------------------------------------------------------------------------\n",
      "11 0.39873046875 0.39965820313 0.39919433594 -0.00059010797 0.00134693457 0.00037870651 0.00046386719\n",
      "---------------------------------------------------------------------------------------------------------\n",
      "12 0.39873046875 0.39919433594 0.39896240234 -0.00059010797 0.00037870651 -0.00010562734 0.00023193359\n",
      "---------------------------------------------------------------------------------------------------------\n",
      "13 0.39896240234 0.39919433594 0.39907836914 -0.00010562734 0.00037870651 0.00013655792 0.00011596680\n",
      "---------------------------------------------------------------------------------------------------------\n",
      "14 0.39896240234 0.39907836914 0.39902038574 -0.00010562734 0.00013655792 0.00001546987 0.00005798340\n",
      "---------------------------------------------------------------------------------------------------------\n",
      "15 0.39896240234 0.39902038574 0.39899139404 -0.00010562734 0.00001546987 -0.00004507759 0.00002899170\n",
      "---------------------------------------------------------------------------------------------------------\n",
      "16 0.39899139404 0.39902038574 0.39900588989 -0.00004507759 0.00001546987 -0.00001480357 0.00001449585\n",
      "---------------------------------------------------------------------------------------------------------\n",
      "17 0.39900588989 0.39902038574 0.39901313782 -0.00001480357 0.00001546987 0.00000033322 0.00000724792\n",
      "---------------------------------------------------------------------------------------------------------\n",
      "18 0.39900588989 0.39901313782 0.39900951385 -0.00001480357 0.00000033322 -0.00000723516 0.00000362396\n",
      "---------------------------------------------------------------------------------------------------------\n",
      "19 0.39900951385 0.39901313782 0.39901132584 -0.00000723516 0.00000033322 -0.00000345096 0.00000181198\n",
      "---------------------------------------------------------------------------------------------------------\n",
      "20 0.39901132584 0.39901313782 0.39901223183 -0.00000345096 0.00000033322 -0.00000155887 0.00000090599\n",
      "---------------------------------------------------------------------------------------------------------\n"
     ]
    }
   ],
   "source": [
    "x = []\n",
    "a = []\n",
    "b = []\n",
    "a.append(0.1)\n",
    "b.append(2)\n",
    "x.append((a[0]+b[0])/2)\n",
    "\n",
    "for i in range(1,21):\n",
    "    \n",
    "    if (a[i-1] + math.log10(a[i-1]))*(x[i-1] + math.log10(x[i-1])) < 0:\n",
    "                            b.append(x[i-1])\n",
    "                            a.append(a[i-1])\n",
    "            \n",
    "    else:\n",
    "        a.append(x[i-1])\n",
    "        b.append(b[i-1])\n",
    "    \n",
    "    x.append((a[i]+b[i])/2)\n",
    "        \n",
    "print(' k','       a', '            b', '            x', '          f(a)', '          f(b)', '         f(x)', '        (b-a)/2')\n",
    "for i in range(0,21): \n",
    "    \n",
    "    print('%2d %1.11f %1.11f %1.11f % 1.11f %1.11f %1.11f %1.11f' % (i, a[i], b[i], x[i],(a[i] + math.log10(a[i])), (b[i] + math.log10(b[i])),(x[i] + math.log10(x[i])), (b[i]-a[i])/2))\n",
    "    print('-' * 105)\n",
    "    #print(i, a[i], b[i], x[0],(a[i] + math.log10(a[i])), (b[i] + math.log10(b[i])),(x[i] + math.log10(x[i])), (a[i]+b[i])/2)"
   ]
  },
  {
   "cell_type": "markdown",
   "metadata": {},
   "source": [
    "### Temos como xk, com k =20:"
   ]
  },
  {
   "cell_type": "code",
   "execution_count": 4,
   "metadata": {},
   "outputs": [
    {
     "name": "stdout",
     "output_type": "stream",
     "text": [
      "0.3990122318267823\n"
     ]
    }
   ],
   "source": [
    "xk = x[len(x) -1] \n",
    "print(xk)"
   ]
  },
  {
   "cell_type": "markdown",
   "metadata": {},
   "source": [
    "### Substituindo xk na funcao f'(x) podemos ver que o valor eh bem proximo de zero:"
   ]
  },
  {
   "cell_type": "code",
   "execution_count": 5,
   "metadata": {},
   "outputs": [
    {
     "data": {
      "text/plain": [
       "-1.558868798712254e-06"
      ]
     },
     "execution_count": 5,
     "metadata": {},
     "output_type": "execute_result"
    }
   ],
   "source": [
    "(xk + math.log10(xk))"
   ]
  },
  {
   "cell_type": "markdown",
   "metadata": {},
   "source": [
    "### Substituindo xk na funcao f(x):"
   ]
  },
  {
   "cell_type": "code",
   "execution_count": 6,
   "metadata": {},
   "outputs": [
    {
     "data": {
      "text/plain": [
       "-0.15921138315510835"
      ]
     },
     "execution_count": 6,
     "metadata": {},
     "output_type": "execute_result"
    }
   ],
   "source": [
    "xk*2/2 + xk*(math.log10(xk)-1)"
   ]
  },
  {
   "cell_type": "markdown",
   "metadata": {},
   "source": [
    "### Construindo a funcao f(x) e plotando nosso ponto aproximado xk:"
   ]
  },
  {
   "cell_type": "code",
   "execution_count": 7,
   "metadata": {},
   "outputs": [
    {
     "data": {
      "image/png": "[encoded data removed]",
      "text/plain": [
       "<Figure size 432x288 with 1 Axes>"
      ]
     },
     "metadata": {
      "needs_background": "light"
     },
     "output_type": "display_data"
    }
   ],
   "source": [
    "def calculaF(x):\n",
    "    r = x*2/2 + x*(math.log10(x) -1)\n",
    "    return r\n",
    "\n",
    "Z = []\n",
    "Z = np.arange(0.01,3,0.01)\n",
    "Y = []\n",
    "\n",
    "for z in Z:\n",
    "    y = calculaF(z)\n",
    "    Y.append(y)\n",
    "    \n",
    "# A linha vermelha representa a aproximacao e as bolinhas sao os pontos originais definidos inicialmente\n",
    "\n",
    "plt.plot(xk, calculaF(xk), 'bo', label = \"Ponto Extremo Aproximado\")\n",
    "plt.plot(Z, Y, '-r', label = \"Funcao f(x)\")\n",
    "plt.legend(loc='upper left')\n",
    "plt.show()"
   ]
  },
  {
   "cell_type": "markdown",
   "metadata": {},
   "source": [
    "# Exercicio 2"
   ]
  },
  {
   "cell_type": "markdown",
   "metadata": {},
   "source": [
    "Dados $f(x) = \\cos{x}- x^2$ e $x = \\sqrt{\\cos{x}}$\n",
    "\n",
    "Usando $x_{k+1} = g(x_k)$ e $x_0 = 0,5$ temos:"
   ]
  },
  {
   "cell_type": "code",
   "execution_count": 8,
   "metadata": {},
   "outputs": [
    {
     "name": "stdout",
     "output_type": "stream",
     "text": [
      "Tabela formada por: 1 coluna = k; 2 coluna = xk; 3 coluna = xk-xk-1\n",
      "\n",
      "0 0.9367937670001721 0.43679376700017214\n",
      "1 0.7696585012448757 0.16713526575529647\n",
      "2 0.8474363439585529 0.07777784271367727\n",
      "3 0.8135766709484796 0.03385967301007331\n",
      "4 0.8287964112823839 0.015219740333904275\n",
      "5 0.8220483178672121 0.006748093415171796\n",
      "6 0.8250588815975857 0.003010563730373561\n",
      "7 0.8237194383409016 0.0013394432566841141\n",
      "8 0.8243161060732416 0.0005966677323400171\n",
      "9 0.8240504594183742 0.0002656466548673908\n"
     ]
    }
   ],
   "source": [
    "x = []\n",
    "x.append(0.5)\n",
    "for i in range(1,11):\n",
    "    x.append(math.sqrt(math.cos(x[i-1])))\n",
    "print(\"Tabela formada por: 1 coluna = k; 2 coluna = xk; 3 coluna = xk-xk-1\")\n",
    "print('')\n",
    "for i in range(1,11): \n",
    "    print(i-1, x[i], math.fabs(x[i]-x[i-1]))"
   ]
  },
  {
   "cell_type": "markdown",
   "metadata": {},
   "source": [
    "Sabemos que $f(x) = 0$ quando $x \\approx 824132$ e pela tabela podemos ver que usando esta funcao de iteracao o metodo converge para a raiz."
   ]
  },
  {
   "cell_type": "markdown",
   "metadata": {},
   "source": [
    "# Exercicio 3\n",
    "# Item a - $\\sin{x} = 0$ "
   ]
  },
  {
   "cell_type": "markdown",
   "metadata": {},
   "source": [
    "Pelo Metodo de Newton temos a seguinte funcao de iteracao:\n",
    "$$ \\varphi(x) = x - \\frac{f(x)}{f'(x)} $$\n",
    "$$ \\varphi(x) = x - \\frac{\\sin{x}}{\\cos{x}}  $$"
   ]
  },
  {
   "cell_type": "code",
   "execution_count": 9,
   "metadata": {},
   "outputs": [
    {
     "name": "stdout",
     "output_type": "stream",
     "text": [
      "Tabela formada por: 1 coluna = k; 2 coluna = xk; 3 coluna = xk-xk-1\n",
      "\n",
      "0 3.142546543074278 0.14254654307427783\n",
      "1 3.141592653300477 0.0009538897738008423\n",
      "2 3.141592653589793 2.893161266115385e-10\n",
      "3 3.141592653589793 0.0\n"
     ]
    }
   ],
   "source": [
    "y = []\n",
    "y.append(3)\n",
    "for i in range(1,5):\n",
    "    y.append(y[i-1] - (math.sin(y[i-1])/math.cos(y[i-1])))\n",
    "print(\"Tabela formada por: 1 coluna = k; 2 coluna = xk; 3 coluna = xk-xk-1\")\n",
    "print('')\n",
    "for i in range(1,5): \n",
    "    print(i-1, y[i], math.fabs(y[i] - y[i-1]))"
   ]
  },
  {
   "cell_type": "markdown",
   "metadata": {},
   "source": [
    "# Item b - $\\cos{x}+1 = 0$"
   ]
  },
  {
   "cell_type": "markdown",
   "metadata": {},
   "source": [
    "Pelo Metodo de Newton temos a seguinte funcao de iteracao:\n",
    "$$ \\varphi(x) = x - \\frac{\\cos{x}+1}{-\\sin{x}}  $$\n",
    "\n",
    "$$ \\varphi(x) = x + \\frac{\\cos{x}+1}{\\sin{x}}  $$"
   ]
  },
  {
   "cell_type": "code",
   "execution_count": 10,
   "metadata": {},
   "outputs": [
    {
     "name": "stdout",
     "output_type": "stream",
     "text": [
      "Tabela formada por: 1 coluna = k; 2 coluna = xk; 3 coluna = xk-xk-1\n",
      "\n",
      "0 3.070914844302653 0.07091484430265282\n",
      "1 3.106268467156334 0.035353622853681266\n",
      "2 3.123932397162858 0.017663930006523998\n",
      "3 3.132762754881942 0.008830357719083803\n",
      "4 3.1371777329211668 0.004414978039224859\n",
      "5 3.1393851968410607 0.002207463919893904\n",
      "6 3.1404889256636337 0.0011037288225730357\n",
      "7 3.141040789682765 0.0005518640191310986\n",
      "8 3.1413167216433333 0.00027593196056852065\n",
      "9 3.141454687617567 0.00013796597423354484\n",
      "10 3.1415236706037244 6.898298615753973e-05\n",
      "11 3.1415581620967434 3.4491493019039865e-05\n",
      "12 3.14157540784243 1.7245745686622627e-05\n",
      "13 3.141584030718072 8.622875641961514e-06\n",
      "14 3.141588342150435 4.311432363124368e-06\n",
      "15 3.141590497864868 2.1557144327388755e-06\n",
      "16 3.1415915757323365 1.0778674686129364e-06\n",
      "17 3.141592114642823 5.389104864583771e-07\n",
      "18 3.1415923840889457 2.6944612274704127e-07\n"
     ]
    }
   ],
   "source": [
    "z = []\n",
    "z.append(3)\n",
    "for i in range(1,20):\n",
    "    z.append(z[i-1] + ((math.cos(z[i-1])+1)/math.sin(z[i-1])))\n",
    "print(\"Tabela formada por: 1 coluna = k; 2 coluna = xk; 3 coluna = xk-xk-1\")\n",
    "print('')\n",
    "for i in range(1,20): \n",
    "    print(i-1, z[i], math.fabs(z[i] - z[i-1]))"
   ]
  },
  {
   "cell_type": "markdown",
   "metadata": {},
   "source": [
    "### Como Podemos ver, no item a levou apenas 3 iteracoes para obtermos um resultado com precisao $10^{-7}$ enquanto no item b levou 18 iteracoes para obter um resultado com mesma precisao"
   ]
  },
  {
   "cell_type": "markdown",
   "metadata": {},
   "source": [
    "Isso ocorreu pois a nossa funcao b possui uma multiplicidade $m$ diferente. Ou seja:\n",
    "\n",
    "\n",
    "$\\begin{align}\n",
    "f(x)=& +\\cos(x) + 1& x &=2\\pi &\\implies& cos(2\\pi)+1 = 0 \\\\\n",
    "f'(x)=& - \\sin(x) & x &=0 &\\implies& - sin(0) = 0\\\\\n",
    "f''(x)=& -\\cos(x) & x &= \\pi/2 &\\implies& -cos(\\pi/2) = 0\\\\\n",
    "f'''(x)=&+\\sin(x)& x &=0 &\\implies& + sin(0) = 0\\\\\n",
    "\\end{align}$\n",
    "\n",
    "A função apresenta três raizes. E sob essas condicoes ocorre redução da velocidade do método."
   ]
  },
  {
   "cell_type": "markdown",
   "metadata": {},
   "source": [
    "# Exercicio 4"
   ]
  },
  {
   "cell_type": "markdown",
   "metadata": {},
   "source": [
    "# Item a -"
   ]
  },
  {
   "cell_type": "markdown",
   "metadata": {},
   "source": [
    "Como funcao temos: $f(x) = 1/x -a/b$\n",
    "\n",
    "Logo nossa funcao de iteracao eh: $\\varphi(x) = x-(x^{-1} - a)(-x^{2}) = \\frac{-ax^2}{b} + 2x$\n",
    "\n",
    "E podemos usa-la para calcular divisoes sem usar a divisao explicitamente no computador, vamos testar com $a = 1,2,3$ considerando $b = 1$ a seguir:"
   ]
  },
  {
   "cell_type": "code",
   "execution_count": 11,
   "metadata": {},
   "outputs": [],
   "source": [
    "a = 1"
   ]
  },
  {
   "cell_type": "code",
   "execution_count": 12,
   "metadata": {},
   "outputs": [],
   "source": [
    "b = 1"
   ]
  },
  {
   "cell_type": "code",
   "execution_count": 13,
   "metadata": {},
   "outputs": [
    {
     "name": "stdout",
     "output_type": "stream",
     "text": [
      "a =  1\n",
      "b =  1\n",
      "Tabela formada por: 1 coluna = k; 2 coluna = xk; 3 coluna = xk-xk-1\n",
      "\n",
      "0 0.75 0.25\n",
      "1 0.9375 0.1875\n",
      "2 0.99609375 0.05859375\n",
      "3 0.9999847412109375 0.0038909912109375\n",
      "4 0.9999999997671694 1.5258556231856346e-05\n",
      "5 1.0 2.3283064365386963e-10\n",
      "6 1.0 0.0\n",
      "\n"
     ]
    }
   ],
   "source": [
    "print(\"a = \", a)\n",
    "print(\"b = \", b)\n",
    "w = []\n",
    "w.append(0.5)\n",
    "\n",
    "for i in range(1,8):\n",
    "    w.append((-a/b)*w[i-1]**2 + 2*w[i-1])\n",
    "\n",
    "print(\"Tabela formada por: 1 coluna = k; 2 coluna = xk; 3 coluna = xk-xk-1\")\n",
    "print('')\n",
    "\n",
    "for i in range(1,8): \n",
    "    print(i-1, w[i], math.fabs(w[i] - w[i-1]))\n",
    "\n",
    "print(\"\")"
   ]
  },
  {
   "cell_type": "code",
   "execution_count": 14,
   "metadata": {},
   "outputs": [],
   "source": [
    "a = 2"
   ]
  },
  {
   "cell_type": "code",
   "execution_count": 15,
   "metadata": {},
   "outputs": [],
   "source": [
    "b = 1"
   ]
  },
  {
   "cell_type": "code",
   "execution_count": 16,
   "metadata": {},
   "outputs": [
    {
     "name": "stdout",
     "output_type": "stream",
     "text": [
      "a =  2\n",
      "b =  1\n",
      "Tabela formada por: 1 coluna = k; 2 coluna = xk; 3 coluna = xk-xk-1\n",
      "\n",
      "0 0.18 0.07999999999999999\n",
      "1 0.2952 0.11520000000000002\n",
      "2 0.41611392 0.12091392000000001\n",
      "3 0.4859262511644672 0.06981233116446717\n",
      "4 0.49960385918742867 0.013677608022961474\n",
      "5 0.49999968614491325 0.00039582695748457963\n",
      "6 0.499999999999803 3.13854889744114e-07\n",
      "7 0.5 1.9700907571973403e-13\n",
      "8 0.5 0.0\n",
      "\n"
     ]
    }
   ],
   "source": [
    "print(\"a = \", a)\n",
    "print(\"b = \", b)\n",
    "w = []\n",
    "w.append(0.1)\n",
    "\n",
    "for i in range(1,10):\n",
    "    w.append((-a/b)*w[i-1]**2 + 2*w[i-1])\n",
    "\n",
    "print(\"Tabela formada por: 1 coluna = k; 2 coluna = xk; 3 coluna = xk-xk-1\")\n",
    "print('')\n",
    "\n",
    "for i in range(1,10): \n",
    "    print(i-1, w[i], math.fabs(w[i] - w[i-1]))\n",
    "\n",
    "print(\"\")"
   ]
  },
  {
   "cell_type": "code",
   "execution_count": 17,
   "metadata": {},
   "outputs": [],
   "source": [
    "a = 3"
   ]
  },
  {
   "cell_type": "code",
   "execution_count": 18,
   "metadata": {},
   "outputs": [],
   "source": [
    "b = 1"
   ]
  },
  {
   "cell_type": "code",
   "execution_count": 19,
   "metadata": {},
   "outputs": [
    {
     "name": "stdout",
     "output_type": "stream",
     "text": [
      "a =  3\n",
      "b =  1\n",
      "Tabela formada por: 1 coluna = k; 2 coluna = xk; 3 coluna = xk-xk-1\n",
      "\n",
      "0 0.11999999999999988 0.4800000000000001\n",
      "1 0.19679999999999986 0.07679999999999998\n",
      "2 0.27740927999999987 0.08060928\n",
      "3 0.32395083410964476 0.04654155410964489\n",
      "4 0.3330692394582858 0.009118405348641057\n",
      "5 0.3333331240966088 0.0002638846383229976\n",
      "6 0.333333333333202 2.0923659316274268e-07\n",
      "7 0.33333333333333337 1.3139489496438728e-13\n",
      "8 0.33333333333333337 0.0\n",
      "\n"
     ]
    }
   ],
   "source": [
    "print(\"a = \", a)\n",
    "print(\"b = \", b)\n",
    "w = []\n",
    "w.append(0.6)\n",
    "\n",
    "for i in range(1,10):\n",
    "    w.append((-a/b)*w[i-1]**2 + 2*w[i-1])\n",
    "\n",
    "print(\"Tabela formada por: 1 coluna = k; 2 coluna = xk; 3 coluna = xk-xk-1\")\n",
    "print('')\n",
    "\n",
    "for i in range(1,10): \n",
    "    print(i-1, w[i], math.fabs(w[i] - w[i-1]))\n",
    "\n",
    "print(\"\")"
   ]
  },
  {
   "cell_type": "markdown",
   "metadata": {},
   "source": [
    "# Item b -"
   ]
  },
  {
   "cell_type": "markdown",
   "metadata": {},
   "source": [
    "Usando o Teorema 2 vamos verificar se o intervalo dado esta dentro das condicoes de convergencia:\n",
    "\n",
    "$(i) \\varphi \\in C' [1/2a,3/2a]$ com $I \\subset [1/2a,3/2a]$\n",
    "\n",
    "Sabemos que a funcao eh continua e diferenciavel entao este quesito esta ok\n",
    "\n",
    "$(ii) |\\varphi'(3/2a)| = \\lambda <1$\n",
    "\n",
    "$|-2a(3/2a) + 2| = 1$\n",
    "\n",
    "Entao este quesito tambem esta ok desde que o ponto $3/2a$ nao esteja incluido no intervalo e $x_0 \\in [1/2a,3/2a]$.\n",
    "\n",
    "Logo, demonstramos que nessas situacoes o metodo converge."
   ]
  },
  {
   "cell_type": "markdown",
   "metadata": {},
   "source": [
    "# Item c -"
   ]
  },
  {
   "cell_type": "code",
   "execution_count": 20,
   "metadata": {},
   "outputs": [],
   "source": [
    "a = 9"
   ]
  },
  {
   "cell_type": "code",
   "execution_count": 21,
   "metadata": {},
   "outputs": [],
   "source": [
    "b = 10"
   ]
  },
  {
   "cell_type": "code",
   "execution_count": 22,
   "metadata": {},
   "outputs": [
    {
     "name": "stdout",
     "output_type": "stream",
     "text": [
      "a =  9\n",
      "b =  10\n",
      "Tabela formada por: 1 coluna = k; 2 coluna = xk; 3 coluna = xk-xk-1\n",
      "\n",
      "0 0.519 0.21900000000000003\n",
      "1 0.7955751 0.27657509999999996\n",
      "2 1.021504434233991 0.22592933423399097\n",
      "3 1.1038846902242465 0.08238025599025556\n",
      "4 1.1110641120681604 0.007179421843913847\n",
      "5 1.111111109123092 4.699705493171891e-05\n",
      "6 1.1111111111111112 1.988019082688197e-09\n",
      "7 1.111111111111111 2.220446049250313e-16\n",
      "8 1.111111111111111 0.0\n",
      "\n"
     ]
    }
   ],
   "source": [
    "\n",
    "print(\"a = \", a)\n",
    "print(\"b = \", b)\n",
    "w = []\n",
    "w.append(0.3)\n",
    "\n",
    "for i in range(1,10):\n",
    "    w.append((-a/b)*w[i-1]**2 + 2*w[i-1])\n",
    "\n",
    "print(\"Tabela formada por: 1 coluna = k; 2 coluna = xk; 3 coluna = xk-xk-1\")\n",
    "print('')\n",
    "\n",
    "for i in range(1,10): \n",
    "    print(i-1, w[i], math.fabs(w[i] - w[i-1]))\n",
    "\n",
    "print(\"\")"
   ]
  },
  {
   "cell_type": "markdown",
   "metadata": {},
   "source": [
    "### Como podemos ver o metodo funcionou e convergiu rapidamente"
   ]
  },
  {
   "cell_type": "markdown",
   "metadata": {},
   "source": [
    "# Exercicio 5\n",
    "# Item a-"
   ]
  },
  {
   "cell_type": "markdown",
   "metadata": {},
   "source": [
    "Para a funcao $f(x) = x^2 - b$ temos a funcao de iteracao $\\varphi(x) = x - \\frac{x^2 - b}{2x}$ usando o metodo de Newton. Note que assim vamos chegar ao valor de $\\sqrt{b}$ sem usar explicitamente nenhuma operacao de radiciacao.\n",
    "\n",
    "Escolha o numero que deseja extrair a raiz quadrada:"
   ]
  },
  {
   "cell_type": "code",
   "execution_count": 23,
   "metadata": {},
   "outputs": [],
   "source": [
    "b = 9"
   ]
  },
  {
   "cell_type": "markdown",
   "metadata": {},
   "source": [
    "Escolha a aproximacao inicial:"
   ]
  },
  {
   "cell_type": "code",
   "execution_count": 24,
   "metadata": {},
   "outputs": [],
   "source": [
    "x0 = 5"
   ]
  },
  {
   "cell_type": "markdown",
   "metadata": {},
   "source": [
    "Rodando o codigo de iteracao abaixo eh possivel ver como o metodo converge rapidamente caso seja escolhido um x0 proximo o bastante:"
   ]
  },
  {
   "cell_type": "code",
   "execution_count": 25,
   "metadata": {},
   "outputs": [
    {
     "name": "stdout",
     "output_type": "stream",
     "text": [
      "Tabela formada por: 1 coluna = k; 2 coluna = xk; 3 coluna = xk-xk-1\n",
      "\n",
      "0 3.4 1.6\n",
      "1 3.023529411764706 0.3764705882352941\n",
      "2 3.00009155413138 0.02343785763332562\n",
      "3 3.000000001396984 9.155273439631628e-05\n",
      "4 3.0 1.3969838619232178e-09\n",
      "5 3.0 0.0\n"
     ]
    }
   ],
   "source": [
    "u = []\n",
    "u.append(x0)\n",
    "for i in range(1,7):\n",
    "    u.append(u[i-1] - ((u[i-1]**2 - b)/(2*u[i-1])))\n",
    "print(\"Tabela formada por: 1 coluna = k; 2 coluna = xk; 3 coluna = xk-xk-1\")\n",
    "print('')\n",
    "for i in range(1,7): \n",
    "    print(i-1, u[i], math.fabs(u[i] - u[i-1]))"
   ]
  },
  {
   "cell_type": "markdown",
   "metadata": {},
   "source": [
    "# Item b -\n",
    "Seguem exemplos solicitados de $ 1 \\leq n \\leq 5$"
   ]
  },
  {
   "cell_type": "code",
   "execution_count": 26,
   "metadata": {},
   "outputs": [
    {
     "name": "stdout",
     "output_type": "stream",
     "text": [
      "x =  2\n",
      "Tabela formada por: 1 coluna = k; 2 coluna = xk; 3 coluna = xk-xk-1\n",
      "\n",
      "0 1.5 0.5\n",
      "1 1.4166666666666667 0.08333333333333326\n",
      "2 1.4142156862745099 0.002450980392156854\n",
      "3 1.4142135623746899 2.123899820016817e-06\n",
      "4 1.4142135623730951 1.5947243525715749e-12\n",
      "5 1.414213562373095 2.220446049250313e-16\n",
      "6 1.4142135623730951 2.220446049250313e-16\n",
      "7 1.414213562373095 2.220446049250313e-16\n",
      "8 1.4142135623730951 2.220446049250313e-16\n",
      "\n",
      "x =  3\n",
      "Tabela formada por: 1 coluna = k; 2 coluna = xk; 3 coluna = xk-xk-1\n",
      "\n",
      "0 2.0 1.0\n",
      "1 1.75 0.25\n",
      "2 1.7321428571428572 0.017857142857142794\n",
      "3 1.7320508100147276 9.204712812960203e-05\n",
      "4 1.7320508075688772 2.445850411092465e-09\n",
      "5 1.7320508075688774 2.220446049250313e-16\n",
      "6 1.7320508075688772 2.220446049250313e-16\n",
      "7 1.7320508075688774 2.220446049250313e-16\n",
      "8 1.7320508075688772 2.220446049250313e-16\n",
      "\n",
      "x =  4\n",
      "Tabela formada por: 1 coluna = k; 2 coluna = xk; 3 coluna = xk-xk-1\n",
      "\n",
      "0 2.5 1.5\n",
      "1 2.05 0.4500000000000002\n",
      "2 2.000609756097561 0.04939024390243896\n",
      "3 2.0000000929222947 0.0006096631752661175\n",
      "4 2.000000000000002 9.292229252721995e-08\n",
      "5 2.0 2.220446049250313e-15\n",
      "6 2.0 0.0\n",
      "7 2.0 0.0\n",
      "8 2.0 0.0\n",
      "\n",
      "x =  5\n",
      "Tabela formada por: 1 coluna = k; 2 coluna = xk; 3 coluna = xk-xk-1\n",
      "\n",
      "0 3.0 2.0\n",
      "1 2.3333333333333335 0.6666666666666665\n",
      "2 2.238095238095238 0.09523809523809534\n",
      "3 2.2360688956433634 0.0020263424518747186\n",
      "4 2.236067977499978 9.18143385320036e-07\n",
      "5 2.23606797749979 1.8829382497642655e-13\n",
      "6 2.23606797749979 0.0\n",
      "7 2.23606797749979 0.0\n",
      "8 2.23606797749979 0.0\n",
      "\n"
     ]
    }
   ],
   "source": [
    "for i in range(2,6):\n",
    "    \n",
    "    print(\"x = \", i)\n",
    "    b = i\n",
    "    u = []\n",
    "    u.append(i)\n",
    "    for i in range(1,10):\n",
    "        u.append(u[i-1] - ((u[i-1]**2 - b)/(2*u[i-1])))\n",
    "    print(\"Tabela formada por: 1 coluna = k; 2 coluna = xk; 3 coluna = xk-xk-1\")\n",
    "    print('')\n",
    "    for i in range(1,10): \n",
    "        print(i-1, u[i], math.fabs(u[i] - u[i-1]))\n",
    "    print(\"\")"
   ]
  }
 ],
 "metadata": {
  "kernelspec": {
   "display_name": "Python 3",
   "language": "python",
   "name": "python3"
  },
  "language_info": {
   "codemirror_mode": {
    "name": "ipython",
    "version": 3
   },
   "file_extension": ".py",
   "mimetype": "text/x-python",
   "name": "python",
   "nbconvert_exporter": "python",
   "pygments_lexer": "ipython3",
   "version": "3.7.3"
  }
 },
 "nbformat": 4,
 "nbformat_minor": 2
}
