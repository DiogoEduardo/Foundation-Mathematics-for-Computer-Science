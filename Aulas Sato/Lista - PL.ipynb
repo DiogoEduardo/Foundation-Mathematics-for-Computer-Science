{
 "cells": [
  {
   "cell_type": "markdown",
   "metadata": {},
   "source": [
    "# Programação Linear\n",
    "\n",
    "Aqui está um tutorial para instalar o solver e escrever programas lineares e inteiros:\n",
    "\n",
    "Parte 1: https://github.com/IBMDecisionOptimization/docplex-examples/blob/master/examples/mp/jupyter/tutorials/Linear_Programming.ipynb\n",
    "\n",
    "Parte 2: https://github.com/IBMDecisionOptimization/docplex-examples/blob/master/examples/mp/jupyter/tutorials/Beyond_Linear_Programming.ipynb"
   ]
  },
  {
   "cell_type": "markdown",
   "metadata": {},
   "source": [
    "# Exercício 1 - Modelagem\n",
    "\n",
    "  Considere a seguinte tabela de informação nutricional de vários\n",
    "  tipos de alimentos (os preços, calorias, gorduras, proteínas e\n",
    "  carboidratos são por porção):\n",
    "\n",
    "  <style type=\"text/css\">\n",
    ".tg  {border-collapse:collapse;border-spacing:0;}\n",
    ".tg td{font-family:Arial, sans-serif;font-size:14px;padding:10px 5px;border-style:solid;border-width:1px;overflow:hidden;word-break:normal;border-color:black;}\n",
    ".tg th{font-family:Arial, sans-serif;font-size:14px;font-weight:normal;padding:10px 5px;border-style:solid;border-width:1px;overflow:hidden;word-break:normal;border-color:black;}\n",
    ".tg .tg-0pky{border-color:inherit;text-align:left;vertical-align:top}\n",
    ".tg .tg-0lax{text-align:left;vertical-align:top}\n",
    "</style>\n",
    "<table class=\"tg\">\n",
    "  <tr>\n",
    "    <th class=\"tg-0pky\">Alimento</th>\n",
    "    <th class=\"tg-0pky\">Preço</th>\n",
    "    <th class=\"tg-0pky\">Calorias (cal)</th>\n",
    "    <th class=\"tg-0pky\">Gorduras (g)</th>\n",
    "    <th class=\"tg-0pky\">Proteínas (g)</th>\n",
    "    <th class=\"tg-0lax\">Carboidratos (g)</th>\n",
    "  </tr>\n",
    "  <tr>\n",
    "    <td class=\"tg-0lax\">Batata crua</td>\n",
    "    <td class=\"tg-0lax\">0.14</td>\n",
    "    <td class=\"tg-0lax\">23</td>\n",
    "    <td class=\"tg-0lax\">0.1</td>\n",
    "    <td class=\"tg-0lax\">0.6</td>\n",
    "     <td class=\"tg-0lax\">6</td>\n",
    "  </tr>\n",
    "  <tr>\n",
    "    <td class=\"tg-0lax\">Batata assada</td>\n",
    "    <td class=\"tg-0lax\">0.12</td>\n",
    "    <td class=\"tg-0lax\">171</td>\n",
    "    <td class=\"tg-0lax\">0.2</td>\n",
    "    <td class=\"tg-0lax\">3.7</td>\n",
    "    <td class=\"tg-0lax\">30</td>\n",
    "  </tr>\n",
    "  <tr>\n",
    "    <td class=\"tg-0lax\">Pão</td>\n",
    "    <td class=\"tg-0lax\">0.20</td>\n",
    "    <td class=\"tg-0lax\">65</td>\n",
    "    <td class=\"tg-0lax\">0.0</td>\n",
    "    <td class=\"tg-0lax\">2.2</td>\n",
    "    <td class=\"tg-0lax\">13</td>\n",
    "  </tr>\n",
    "  <tr>\n",
    "    <td class=\"tg-0lax\">Cheddar</td>\n",
    "    <td class=\"tg-0lax\">0.75</td>\n",
    "    <td class=\"tg-0lax\">112</td>\n",
    "    <td class=\"tg-0lax\">9.3</td>\n",
    "    <td class=\"tg-0lax\">7.0</td>\n",
    "    <td class=\"tg-0lax\">0</td>\n",
    "  </tr>\n",
    "  <tr>\n",
    "    <td class=\"tg-0lax\">Amendoim</td>\n",
    "    <td class=\"tg-0lax\">0.15</td>\n",
    "    <td class=\"tg-0lax\">188</td>\n",
    "    <td class=\"tg-0lax\">16.0</td>\n",
    "    <td class=\"tg-0lax\">7.7</td>\n",
    "    <td class=\"tg-0lax\">2</td>\n",
    "  </tr>\n",
    "</table>\n",
    "  \n",
    "\n",
    "  Você deve montar uma dieta decidindo quantas porções dos alimentos\n",
    "  comprar de modo que o custo total pago seja minimizado e que\n",
    "  os seguintes requisitos sejam cumpridos:\n",
    " \n",
    "  - O número de calorias de ser pelo menos $2000$,\n",
    "  - o total de gordura deve ser pelo menos $50$g\n",
    "  - o total de proteínas deve ser pelo menbos $100$g,\n",
    "  - o total de carboidratos deve ser pelo menos $250$g.\n",
    "  \n",
    "  O número de porções pode ser um número fracionário (por exemplo,\n",
    "  você poderia pegar $2.156$ porções de batata).\n",
    "    \n",
    "  Escreva um programa linear e resolva usando o solver."
   ]
  },
  {
   "cell_type": "code",
   "execution_count": 3,
   "metadata": {
    "scrolled": true
   },
   "outputs": [
    {
     "name": "stdout",
     "output_type": "stream",
     "text": [
      "Model: Dieta\n",
      " - number of variables: 5\n",
      "   - binary=0, integer=0, continuous=5\n",
      " - number of constraints: 4\n",
      "   - linear=4\n",
      " - parameters: defaults\n",
      "\n",
      "Resultado: \n",
      "\n",
      "objective: 2.318\n",
      "  batataassada=7.715\n",
      "  amendoim=9.280\n"
     ]
    }
   ],
   "source": [
    "import sys\n",
    "from docplex.mp.model import Model\n",
    "m = Model(name='Dieta')\n",
    "\n",
    "batatacrua = m.continuous_var(name='batatacrua')\n",
    "batataassada = m.continuous_var(name='batataassada')\n",
    "pao = m.continuous_var(name='pao')\n",
    "cheddar = m.continuous_var(name='cheddar')\n",
    "amendoim = m.continuous_var(name='amendoim')\n",
    "\n",
    "# write constraints\n",
    "# constraint #1:\n",
    "m.add_constraint(23*batatacrua + 171*batataassada + 65*pao + 112*cheddar + 188*amendoim >= 2000)\n",
    "\n",
    "# constraint #2:\n",
    "m.add_constraint(0.1*batatacrua + 0.2*batataassada + 9.3*cheddar + 16*amendoim >= 50)\n",
    "\n",
    "# constraint #3:\n",
    "m.add_constraint(0.6*batatacrua + 3.7*batataassada + 2.2*pao + 7*cheddar + 7.7*amendoim >= 100)\n",
    "\n",
    "# constraint #4:\n",
    "m.add_constraint(6*batatacrua + 30*batataassada + 13*pao + 2*amendoim >= 250)\n",
    "\n",
    "m.minimize(0.14*batatacrua + 0.12*batataassada + 0.2*pao + 0.75*cheddar + 0.15*amendoim)\n",
    "\n",
    "m.print_information()\n",
    "\n",
    "s = m.solve()\n",
    "\n",
    "print(\"\\nResultado: \\n\")\n",
    "\n",
    "m.print_solution()\n"
   ]
  },
  {
   "cell_type": "markdown",
   "metadata": {},
   "source": [
    "# Exercício 2 - Set cover\n",
    "\n",
    "## Problema: **Set Cover** \n",
    "\n",
    "Entrada: $m,n, (S_1,..., S_n) , w$, onde $\\bigcup_{i=1}^n S_i = \\{1,2,\\dotsc, m\\}$ e $w$ é um vetor de custos positivos de tamanho $n$.\n",
    "\n",
    "Objetivo: Encontrar $I\\subseteq \\{1,\\dotsc n\\}$ tal que $\\bigcup_{i\\in I}S_i = \\{1,\\dotsc, m\\}$ de modo a minimizar $\\sum_{i\\in I}w_i$."
   ]
  },
  {
   "cell_type": "code",
   "execution_count": 9,
   "metadata": {},
   "outputs": [
    {
     "name": "stdout",
     "output_type": "stream",
     "text": [
      "20 \n",
      " 10 \n",
      " [[10, 13, 5], [4, 8, 16, 17, 6], [1, 7, 8, 13, 16, 18], [7, 9, 11, 12, 19, 20], [10, 13, 14, 17], [1, 2, 4, 8, 16, 18], [8, 10, 14], [3, 4, 7, 9, 14, 16], [4, 10, 13, 15, 20], [1, 17]] \n",
      " [4, 2, 4, 3, 3, 1, 4, 2, 5, 2]\n"
     ]
    }
   ],
   "source": [
    "# Gerador aleatório\n",
    "\n",
    "import random as rd\n",
    "\n",
    "def geraAleatorio(p, mincost, maxcost,n, m): \n",
    "    # p deve ser um numero de 0 a 1. Os conjuntos terao tamanho esperado p*m\n",
    "    # mincost = menor custo possivel, maxcost = maior custo possivel\n",
    "    w = [rd.randint(mincost,maxcost) for i in range(0, n)]\n",
    "    S = []\n",
    "    inc = m*[0]\n",
    "    for i in range (0,n):\n",
    "        C = []\n",
    "        for j in range(1,m+1):\n",
    "            if p > rd.random():\n",
    "                C.append(j)\n",
    "                inc[j-1] = 1\n",
    "        S.append(C)\n",
    "    for j in range(0,m):\n",
    "        if inc[j]==0:\n",
    "            i = rd.randint(0,n-1)\n",
    "            S[i].append(j+1)\n",
    "    # checagem\n",
    "    chec = m*[0]\n",
    "    for i in range(0,n):\n",
    "        for j in S[i]:\n",
    "            chec[j-1]=1\n",
    "    for j in range(0,m):\n",
    "        if chec[j]==0:\n",
    "            print(\"Erro\",str(j+1),\"nao foi incluido em nenhum conjunto\")\n",
    "    return (m,n,S,w)\n",
    "   \n",
    "# Exemplo de uso\n",
    "m,n,S,w = geraAleatorio(0.2, 1,5, 10, 20)\n",
    "\n",
    "print(m,\"\\n\",n,\"\\n\",S,\"\\n\",w)"
   ]
  },
  {
   "cell_type": "code",
   "execution_count": 10,
   "metadata": {},
   "outputs": [],
   "source": [
    "def set_cover_int(m,n,S,w):\n",
    "    \n",
    "    scm = Model(name='SetCover')\n",
    " \n",
    "    for i in n:\n",
    "        x[i] = scm.integer_var(name='x_{0}')\n",
    "\n",
    "    for i in n:\n",
    "        scm.add_constraint((x[i]) >= 1)\n",
    "    \n",
    "    C = {(i): scm.integer_var(name='C_{0}'.format(i)) for i in n}\n",
    "    \n",
    "    #{(x[S[i][j]] for j in len(S[i])) : scm.integer_var(name='C_{0}'.format(i)) for i in n}\n",
    "    \n",
    "    for i in n:\n",
    "        scm.add_constraint(C[i] == scm.sum(x[j]) for j in len(S[i]))\n",
    "    \n",
    "    scm.minimize(scm.sum(C[i]*w[i] for i in n))\n",
    "    \n",
    "    print(\"\\n\")\n",
    "    \n",
    "    scm.print_information()\n",
    "    \n",
    "    print(\"\\nResultado:\\n\")\n",
    "    \n",
    "    scm.print_solution()\n",
    "    "
   ]
  },
  {
   "cell_type": "code",
   "execution_count": 11,
   "metadata": {},
   "outputs": [
    {
     "ename": "TypeError",
     "evalue": "'int' object is not iterable",
     "output_type": "error",
     "traceback": [
      "\u001b[0;31m---------------------------------------------------------------------------\u001b[0m",
      "\u001b[0;31mTypeError\u001b[0m                                 Traceback (most recent call last)",
      "\u001b[0;32m<ipython-input-11-be874cbdbca2>\u001b[0m in \u001b[0;36m<module>\u001b[0;34m\u001b[0m\n\u001b[0;32m----> 1\u001b[0;31m \u001b[0mset_cover_int\u001b[0m\u001b[0;34m(\u001b[0m\u001b[0mm\u001b[0m\u001b[0;34m,\u001b[0m\u001b[0mn\u001b[0m\u001b[0;34m,\u001b[0m\u001b[0mS\u001b[0m\u001b[0;34m,\u001b[0m\u001b[0mw\u001b[0m\u001b[0;34m)\u001b[0m\u001b[0;34m\u001b[0m\u001b[0;34m\u001b[0m\u001b[0m\n\u001b[0m",
      "\u001b[0;32m<ipython-input-10-60c9a99a5e93>\u001b[0m in \u001b[0;36mset_cover_int\u001b[0;34m(m, n, S, w)\u001b[0m\n\u001b[1;32m      3\u001b[0m     \u001b[0mscm\u001b[0m \u001b[0;34m=\u001b[0m \u001b[0mModel\u001b[0m\u001b[0;34m(\u001b[0m\u001b[0mname\u001b[0m\u001b[0;34m=\u001b[0m\u001b[0;34m'SetCover'\u001b[0m\u001b[0;34m)\u001b[0m\u001b[0;34m\u001b[0m\u001b[0;34m\u001b[0m\u001b[0m\n\u001b[1;32m      4\u001b[0m \u001b[0;34m\u001b[0m\u001b[0m\n\u001b[0;32m----> 5\u001b[0;31m     \u001b[0;32mfor\u001b[0m \u001b[0mi\u001b[0m \u001b[0;32min\u001b[0m \u001b[0mn\u001b[0m\u001b[0;34m:\u001b[0m\u001b[0;34m\u001b[0m\u001b[0;34m\u001b[0m\u001b[0m\n\u001b[0m\u001b[1;32m      6\u001b[0m         \u001b[0mx\u001b[0m\u001b[0;34m[\u001b[0m\u001b[0mi\u001b[0m\u001b[0;34m]\u001b[0m \u001b[0;34m=\u001b[0m \u001b[0mscm\u001b[0m\u001b[0;34m.\u001b[0m\u001b[0minteger_var\u001b[0m\u001b[0;34m(\u001b[0m\u001b[0mname\u001b[0m\u001b[0;34m=\u001b[0m\u001b[0;34m'x_{0}'\u001b[0m\u001b[0;34m)\u001b[0m\u001b[0;34m\u001b[0m\u001b[0;34m\u001b[0m\u001b[0m\n\u001b[1;32m      7\u001b[0m \u001b[0;34m\u001b[0m\u001b[0m\n",
      "\u001b[0;31mTypeError\u001b[0m: 'int' object is not iterable"
     ]
    }
   ],
   "source": [
    "set_cover_int(m,n,S,w)"
   ]
  },
  {
   "cell_type": "code",
   "execution_count": 38,
   "metadata": {},
   "outputs": [],
   "source": [
    "def set_cover_relax(m,n, S, w):\n",
    "    \n",
    "    scm = Model(name='SetCover')\n",
    "    \n",
    "    x = {(i): scm.continuous_var(name='x_{0}'.format(i)) for i in n}\n",
    "        \n",
    "    for i in n:\n",
    "        scm.add_constraint((x[i]) >= 1)\n",
    "    \n",
    "    C = {(x[S[i][j]] for j in len(S[i])) : scm.continuous_var(name='C_{0}'.format(i)) for i in n}\n",
    "    \n",
    "    scm.minimize(scm.sum(C[i]*w[i] for i in n))\n",
    "    \n",
    "    print(\"\\n\")\n",
    "    \n",
    "    scm.print_information()\n",
    "    \n",
    "    print(\"\\nResultado:\\n\")\n",
    "    \n",
    "    scm.print_solution()\n",
    "    "
   ]
  },
  {
   "cell_type": "markdown",
   "metadata": {},
   "source": [
    "(a) Faça uma função `set_cover_int(m,n, S, w)` que cria e resolve o programa **inteiro** para Set Cover (use o solver). `S` é uma lista formada de $n$ listas e $w$ é uma lista de tamanho $n$. (Veja o que o gerador aleatório devolve).\n",
    "\n",
    "(b) Faça uma função `set_cover_relax(m,n, S, w)` que cria e resolve o programa linear que é uma relaxação para Set Cover.\n",
    "\n",
    "(c) Faça testes com as funções acima e o gerador aleatório verificando a diferença de tempo de execução e dos valores ótimos encontrados. Deixe as suas execuções rodadas aqui no notebook. De preferência, inclua um gráfico com os resultados obtidos. Escreva um parágrafo (em Markdown) analisando os resultados obtidos."
   ]
  },
  {
   "cell_type": "code",
   "execution_count": null,
   "metadata": {},
   "outputs": [],
   "source": []
  },
  {
   "cell_type": "markdown",
   "metadata": {},
   "source": [
    "# Exercício 3 - Algoritmo probabilístico para Set Cover\n",
    "\n",
    "Implemente a estratégia probabilística vista em sala utilizando a função implementada em 2(b).\n",
    "\n",
    "Faça testes utilizando o gerador aleatório e verificando diferença de tempo de execução do algoritmo com a função de 2(a) e os valores ótimos. Deixe as suas execuções rodadas aqui no notebook. De preferência, inclua um gráfico com os resultados obtidos. Escreva um parágrafo (em Markdown) analisando os resultados obtidos."
   ]
  },
  {
   "cell_type": "code",
   "execution_count": null,
   "metadata": {},
   "outputs": [],
   "source": []
  }
 ],
 "metadata": {
  "kernelspec": {
   "display_name": "Python 3",
   "language": "python",
   "name": "python3"
  },
  "language_info": {
   "codemirror_mode": {
    "name": "ipython",
    "version": 3
   },
   "file_extension": ".py",
   "mimetype": "text/x-python",
   "name": "python",
   "nbconvert_exporter": "python",
   "pygments_lexer": "ipython3",
   "version": "3.7.3"
  }
 },
 "nbformat": 4,
 "nbformat_minor": 2
}
