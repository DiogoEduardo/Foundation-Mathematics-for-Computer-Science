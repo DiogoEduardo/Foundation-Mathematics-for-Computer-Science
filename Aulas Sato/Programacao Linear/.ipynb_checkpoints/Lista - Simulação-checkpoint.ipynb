{
 "cells": [
  {
   "cell_type": "markdown",
   "metadata": {},
   "source": [
    "# Exercício 1 \n",
    "\n",
    "In the early 1600s, Galileo was asked to explain the fact that, although the\n",
    "number of triples of integers from 1 to 6 with sum 9 is the same as the number\n",
    "of such triples with sum 10, when three dice are rolled, a 9 seemed to come\n",
    "up less often than a 10—supposedly in the experience of gamblers.\n",
    "\n",
    "(a) Write a program to simulate the roll of three dice a large number of\n",
    "times and keep track of the proportion of times that the sum is 9 and\n",
    "the proportion of times it is 10.\n",
    "\n",
    "(b) Can you conclude from your simulations that the gamblers were correct?"
   ]
  },
  {
   "cell_type": "code",
   "execution_count": null,
   "metadata": {},
   "outputs": [],
   "source": []
  },
  {
   "cell_type": "code",
   "execution_count": null,
   "metadata": {},
   "outputs": [],
   "source": []
  },
  {
   "cell_type": "markdown",
   "metadata": {},
   "source": [
    "# Exercício 2\n",
    "\n",
    "In raquetball, a player continues to serve as long as she is winning; a point\n",
    "is scored only when a player is serving and wins the volley. The first player\n",
    "to win 21 points wins the game. Assume that you serve first and have a\n",
    "probability .6 of winning a volley when you serve and probability .5 when\n",
    "your opponent serves. Estimate, by simulation, the probability that you will\n",
    "win a game."
   ]
  },
  {
   "cell_type": "code",
   "execution_count": null,
   "metadata": {},
   "outputs": [],
   "source": []
  },
  {
   "cell_type": "code",
   "execution_count": null,
   "metadata": {},
   "outputs": [],
   "source": []
  },
  {
   "cell_type": "markdown",
   "metadata": {},
   "source": [
    "# Exercício 3\n",
    "\n",
    "In an upcoming national election for the President of the United States, a\n",
    "pollster plans to predict the winner of the popular vote by taking a random\n",
    "sample of 1000 voters and declaring that the winner will be the one obtaining\n",
    "the most votes in his sample. \n",
    "\n",
    "Suppose that 48 percent of the voters plan\n",
    "to vote for the Republican candidate and 52 percent plan to vote for the\n",
    "Democratic candidate. \n",
    "\n",
    "To get some idea of how reasonable the pollster’s\n",
    "plan is, write a program to make this prediction by simulation. Repeat the\n",
    "simulation 100 times and see how many times the pollster’s prediction would\n",
    "come true. \n",
    "\n",
    "Repeat your experiment, assuming now that 49 percent of the\n",
    "population plan to vote for the Republican candidate; first with a sample of\n",
    "1000 and then with a sample of 3000."
   ]
  },
  {
   "cell_type": "code",
   "execution_count": null,
   "metadata": {},
   "outputs": [],
   "source": []
  },
  {
   "cell_type": "code",
   "execution_count": null,
   "metadata": {},
   "outputs": [],
   "source": []
  }
 ],
 "metadata": {
  "kernelspec": {
   "display_name": "Python 3",
   "language": "python",
   "name": "python3"
  },
  "language_info": {
   "codemirror_mode": {
    "name": "ipython",
    "version": 3
   },
   "file_extension": ".py",
   "mimetype": "text/x-python",
   "name": "python",
   "nbconvert_exporter": "python",
   "pygments_lexer": "ipython3",
   "version": "3.7.3"
  }
 },
 "nbformat": 4,
 "nbformat_minor": 2
}
