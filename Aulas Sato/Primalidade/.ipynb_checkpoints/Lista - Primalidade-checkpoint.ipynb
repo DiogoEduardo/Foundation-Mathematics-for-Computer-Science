{
 "cells": [
  {
   "cell_type": "markdown",
   "metadata": {},
   "source": [
    "# Exercício 1\n",
    "\n",
    "Não copie códigos prontos para os itens abaixo!\n",
    "\n",
    "(a) Implemente o algoritmo ingênuo (indo até raiz de n) para testar primalidade em uma função primo_simples(n).\n",
    "\n",
    "(b) Implemente o teste de Fermat em uma função primo_fermat(n), não esqueça de usar **repeated squaring** para calcular a potência.\n",
    "\n",
    "PSEUDOCÓDIGO \n",
    "primo_fermat(n):\n",
    "- sorteie um valor $x$ de $1$ a $n-1$ aleatoriamente com distribuição uniforme.\n",
    "- se $x^{n-1} \\not\\equiv 1$ (mod $n)$ retorne \"composto\"\n",
    "- caso contrário retorne \"provavelmente primo\"\n",
    "\n",
    "(c) Implemente o teste de Miller-Rabin em uma função primo_mr(n), não esqueça de usar **repeated squaring** para calcular as potências.\n",
    "\n",
    "PSEUDOCÓDIGO \n",
    "primo_mr(n):\n",
    "- se $n$ é par e $n>2$ então returne \"composto\"\n",
    "- Encontre o maior valor possível de $s$ tal que $n-1 = 2^s t$.\n",
    "- sorteie um valor $x$ de $1$ a $n-1$ aleatoriamente com distribuição uniforme.\n",
    "- Calcule as potências $x^t, x^{2t}, x^{4t},x^{8t},..., x^{2^st}=n-1$.\n",
    "- se $x^{n-1} \\not\\equiv 1$ (mod $n$) retorne \"composto\"\n",
    "- para cada $i$ de $0$ a $n-2$:\n",
    "    - se $x^{2^i t} \\not\\equiv \\pm 1$ (mod $n$) e $x^{2^{i+1} t} \\equiv 1$ (mod $n$), então retorne \"composto\" \n",
    "- retorne \"provavelmente primo\"\n",
    "\n",
    "(c) Faça diversos testes usando as três funções acima para comparar o tempo de execução. Faça um gráfico com os tempos de execução.\n",
    "\n",
    "(d) Faça diversos testes usando a função do item (c) para números compostos e verifique a média de tentativas até obter a resposta correta. Sugira um número de vezes que devemos rodar o primo_mr(n) para obter uma boa probabilidade de acerto. Justifique.\n"
   ]
  },
  {
   "cell_type": "code",
   "execution_count": null,
   "metadata": {},
   "outputs": [],
   "source": []
  },
  {
   "cell_type": "code",
   "execution_count": null,
   "metadata": {},
   "outputs": [],
   "source": []
  },
  {
   "cell_type": "code",
   "execution_count": null,
   "metadata": {},
   "outputs": [],
   "source": []
  },
  {
   "cell_type": "code",
   "execution_count": null,
   "metadata": {},
   "outputs": [],
   "source": []
  },
  {
   "cell_type": "code",
   "execution_count": null,
   "metadata": {},
   "outputs": [],
   "source": []
  },
  {
   "cell_type": "code",
   "execution_count": null,
   "metadata": {},
   "outputs": [],
   "source": []
  }
 ],
 "metadata": {
  "kernelspec": {
   "display_name": "Python 3",
   "language": "python",
   "name": "python3"
  },
  "language_info": {
   "codemirror_mode": {
    "name": "ipython",
    "version": 3
   },
   "file_extension": ".py",
   "mimetype": "text/x-python",
   "name": "python",
   "nbconvert_exporter": "python",
   "pygments_lexer": "ipython3",
   "version": "3.7.3"
  }
 },
 "nbformat": 4,
 "nbformat_minor": 2
}
