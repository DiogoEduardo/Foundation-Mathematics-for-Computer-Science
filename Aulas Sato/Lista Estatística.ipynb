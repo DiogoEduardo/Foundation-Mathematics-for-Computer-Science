{
 "cells": [
  {
   "cell_type": "markdown",
   "metadata": {},
   "source": [
    "# Regras\n",
    "Nesta lista, você pode usar o numpy para calcular médias, variâncias, etc. Você também pode usar o pacote scipy para olhar os valores das tabelas para Normal e $t$-Student (Você pode olhar esses valores usando outra fonte). Mas não use o pacote pronto para teste de hipóteses.\n",
    "\n",
    "# Exercício 1\n",
    "Considere os dados na lista ``dados``. \n",
    "\n",
    "(a) Estime a média e a variância dos dados (use a variância amostral).\n",
    "\n",
    "(b) Assumindo que os dados seguem uma distribuição normal e assumindo variância $=2$, calcule o intervalo de confiança para obter o nível de confiança $95\\%$.\n",
    "\n",
    "(c) Assumindo que a variância não é conhecida, calcule o intervalo de confiança usando a distribuição $t$ para obter um intervalo de confiança de $95\\%$. Compare os resultados com o item (b)."
   ]
  },
  {
   "cell_type": "code",
   "execution_count": 2,
   "metadata": {},
   "outputs": [],
   "source": [
    "dados = [7.483949993599486,11.53428395027559,9.23325081858609,10.34626428033337,\n",
    "         6.710549339380137,13.588624769778345,9.179081753735463,10.639340239454883,\n",
    "         11.075959432311887,9.27294119249618,9.039572104536035,13.320218589053955,\n",
    "         9.542582595499525,14.769935093883342,11.509769459962474,9.113440054099593,\n",
    "         7.544870427860122,10.453162816309206,7.288017449608732,11.063559993725582,\n",
    "         10.03923198230927,9.82613185845934,12.769742107960713,9.180108200816537,\n",
    "         9.021225478750061,10.113164377392774,7.946351687101929,11.81037693823061,\n",
    "         9.962938997361647,11.209479639362531,8.092878176967485,13.501348784378088,\n",
    "         12.22474375250185,9.123571285842289,8.147390561130534,8.978174537906758,\n",
    "         11.680308998736972,8.334143720266129,10.994787164331889,10.567644338235505,\n",
    "         9.541018302977019,7.921073758054236,10.485343678952711,7.186393882231506,\n",
    "         9.110078517304053,11.789333420219464,9.394174091290369,12.470922894886296]\n",
    "dados2 = [8.021605541916317,15.860036758626123,11.051119506362133,12.651729569463376,\n",
    "          11.120124120892418,17.085558538302763,10.457120128402394,10.879325655718606,\n",
    "          10.608073069434347,11.067563517001984,9.784741234678133,10.715431925116315,\n",
    "          10.629537525516561,11.712605885311888,11.647223847921376,10.019759015346738,\n",
    "          13.623684174365478,11.884505191179871,11.512170968116779,9.238548510406238,\n",
    "          7.975573760583469,12.482435422400998,10.474088992547326,10.139391541173131,\n",
    "          8.815905574768838,7.209063957039051,10.859389649700166,12.931215421204538,\n",
    "          11.473336745937392,9.079401908937207,11.320405373035248,8.482214840543708,\n",
    "          12.930923506642456,9.016348173909918,10.66611714449423,10.387241643957738,\n",
    "          14.17370478204764,10.127595095155904,12.941847386257779,9.00221533646604,]"
   ]
  },
  {
   "cell_type": "code",
   "execution_count": 3,
   "metadata": {},
   "outputs": [
    {
     "name": "stdout",
     "output_type": "stream",
     "text": [
      "Media dados:  10.08607198934268 Variancia dados:  3.460713386667301 \n",
      "Media dados2:  11.001472023522064 Variancia dados2: 4.09498349378788\n"
     ]
    }
   ],
   "source": [
    "import numpy as np\n",
    "import scipy.stats as sc\n",
    "\n",
    "#exercicio a\n",
    "\n",
    "media1 = np.mean(dados)\n",
    "\n",
    "var1 = np.var(dados, ddof=1)\n",
    "\n",
    "n1 = len(dados)\n",
    "\n",
    "media2 = np.mean(dados2)\n",
    "\n",
    "var2 = np.var(dados2, ddof=1)\n",
    "\n",
    "n2 = len(dados2)\n",
    "\n",
    "print(\"Media dados: \",media1,\"Variancia dados: \",var1,\"\\nMedia dados2: \",media2,\"Variancia dados2:\",var2)"
   ]
  },
  {
   "cell_type": "code",
   "execution_count": 4,
   "metadata": {},
   "outputs": [
    {
     "name": "stdout",
     "output_type": "stream",
     "text": [
      "\n",
      "Com confianca de 95% obtemos o intervalo:  (9.55979995961559, 10.612344019069768)  para os dados1\n",
      "Com confianca de 95% obtemos o intervalo:  (10.37436137812509, 11.628582668919037)  para os dados2\n"
     ]
    }
   ],
   "source": [
    "#exercicio b\n",
    "\n",
    "nivelConfianca = 0.95\n",
    "\n",
    "varianciaassumida = 2\n",
    "\n",
    "#Z critico da tabela\n",
    "Zc = sc.norm.ppf(1-((1-nivelConfianca)/2))\n",
    "\n",
    "IC1 = (media1 - Zc*(np.sqrt(var1/n1)), media1 + Zc*(np.sqrt(var1/n1)))\n",
    "\n",
    "IC2 = (media2 - Zc*(np.sqrt(var2/n2)), media2 + Zc*(np.sqrt(var2/n2)))\n",
    "\n",
    "print(\"\\nCom confianca de 95% obtemos o intervalo: \",IC1, \" para os dados1\") \n",
    "\n",
    "print(\"Com confianca de 95% obtemos o intervalo: \",IC2, \" para os dados2\") "
   ]
  },
  {
   "cell_type": "code",
   "execution_count": 5,
   "metadata": {},
   "outputs": [
    {
     "name": "stdout",
     "output_type": "stream",
     "text": [
      "\n",
      "Com confianca de 95% obtemos o intervalo:  (9.545897389154433, 10.626246589530925)  para os dados1\n",
      "Com confianca de 95% obtemos o intervalo:  (10.354291252292626, 11.648652794751502)  para os dados2\n"
     ]
    }
   ],
   "source": [
    "#exercicio c\n",
    "\n",
    "graus1 = n1 - 1\n",
    "\n",
    "tc1 = sc.t.interval(nivelConfianca, graus1, loc=0, scale=1)\n",
    "\n",
    "graus2 = n2 - 1\n",
    "\n",
    "tc2 = sc.t.interval(nivelConfianca, graus2, loc=0, scale=1)\n",
    "\n",
    "IC1 = (media1 - tc1[1] * (np.sqrt(var1/n1)), media1 + tc1[1]*(np.sqrt(var1/n1)))\n",
    "\n",
    "IC2 = (media2 - tc2[1]*(np.sqrt(var2/n2)), media2 + tc2[1]*(np.sqrt(var2/n2)))\n",
    "\n",
    "print(\"\\nCom confianca de 95% obtemos o intervalo: \",IC1, \" para os dados1\") \n",
    "\n",
    "print(\"Com confianca de 95% obtemos o intervalo: \",IC2, \" para os dados2\") "
   ]
  },
  {
   "cell_type": "markdown",
   "metadata": {},
   "source": [
    "# Os Intervalos nao mudaram muito, porem podemos ver que no caso em que supomos variancia desconhecida o intervalo foi maior com para o mesmo nivel de confianca, ou seja, obtivemos um resultado melhor com a variancia fornecida previamente."
   ]
  },
  {
   "cell_type": "markdown",
   "metadata": {},
   "source": [
    "# Exercício 2\n",
    "Faça um teste de hipótese para as seguintes hipóteses. \n",
    "\n",
    "Assuma que ``dados`` foi gerado por uma Normal$(m_1, 2)$ e ``dados2`` por uma Normal$(m_2, 2)$ (cada entrada independente das  outras).\n",
    "- $H_0$: $m_1=m_2$\n",
    "- $H_1$: $m_1 \\neq m_2$\n",
    "\n",
    "Mostre os seus passos (pode ser no código ou como Markdown). Descreva suas conclusões. "
   ]
  },
  {
   "cell_type": "code",
   "execution_count": 6,
   "metadata": {},
   "outputs": [
    {
     "data": {
      "text/plain": [
       "-3.0234668046808033"
      ]
     },
     "execution_count": 6,
     "metadata": {},
     "output_type": "execute_result"
    }
   ],
   "source": [
    "zobs = (media1 - media2)/(np.sqrt(2/n1 + 2/n2))\n",
    "zobs"
   ]
  },
  {
   "cell_type": "code",
   "execution_count": 7,
   "metadata": {},
   "outputs": [
    {
     "name": "stdout",
     "output_type": "stream",
     "text": [
      "Ao nivel de 5%, nao ha evidencias para se aceitar a hipotese de que m1 seja igual a m2\n"
     ]
    }
   ],
   "source": [
    "#Usando 5% de significancia, teste bilateral\n",
    "\n",
    "Zc = sc.norm.ppf(1-((1-0.95)/2))\n",
    "Zc\n",
    "\n",
    "# o z observado pertence a Regiao Critica, logo rejeita H0 e aceita H1\n",
    "\n",
    "print(\"Ao nivel de 5%, nao ha evidencias para se aceitar a hipotese de que m1 seja igual a m2\")"
   ]
  },
  {
   "cell_type": "markdown",
   "metadata": {},
   "source": [
    "# Exercício 3\n",
    "Considere os dados em ``dados3``.\n",
    "\n",
    "Faça um teste de hipótese para as seguintes hipóteses. Descreva suas conclusões. Assuma que ``dados3`` foi gerado por uma variável Bernoulli(p).\n",
    "\n",
    "- $H_0$: $p = 0.5$\n",
    "- $H_1$: $p = 0.8$\n",
    "\n",
    "\n",
    "\n",
    "Aqui você deve descrever a região de rejeição e a de aceitação, pois ambas as hipóteses definem uma distribuição de probabilidade. Calcule a probabilidade de falsa rejeição e de falsa aceitação.\n",
    "\n",
    "Mostre seus cálculos (pode ser no código ou como Markdown).\n",
    "\n",
    "\n"
   ]
  },
  {
   "cell_type": "code",
   "execution_count": 2,
   "metadata": {},
   "outputs": [],
   "source": [
    "dados3 = [0, 0, 0, 1, 1, 1, 0, 1, 1, 1, 1, 1, 1, 1, 1, 1, 1, 0, 1]"
   ]
  },
  {
   "cell_type": "code",
   "execution_count": 3,
   "metadata": {},
   "outputs": [
    {
     "name": "stdout",
     "output_type": "stream",
     "text": [
      "19\n"
     ]
    }
   ],
   "source": [
    "print(len(dados3))"
   ]
  },
  {
   "cell_type": "markdown",
   "metadata": {},
   "source": [
    "# LRT\n",
    "\n",
    "\n",
    "\n",
    "Likehood Ratio:\n",
    "\n",
    "\\begin{align}\n",
    "L(x)& = \\frac{\\binom{n}{x}\\mathbb{P}_x(x; H_1)}{\\binom{n}{x}\\mathbb{P}_x(x;H_0)}\\\\\n",
    "L(x)& = \\frac{\\theta^x_1\\left(1-\\theta_1\\right)^{n-x}}{\\theta^x_0\\left(1-\\theta_0\\right)^{n-x}} \\\\\n",
    "L(x)& = \\left( \\frac{\\theta_1}{\\theta_0} \\cdot \\frac{1-\\theta_0}{1-\\theta_1} \\right)^x \\cdot \\left( \\frac{1-\\theta_1}{1-\\theta_0} \\right)^n \\\\ \n",
    "L(x)& = \\left( \\frac{8}{5} \\cdot \\frac{5}{2}\\right)^x \\cdot \\left( \\frac{2}{5}\\right)^n = \\left( 4\\right)^x \\cdot \\left( \\frac{2}{5}\\right)^n\\\\\n",
    "L(x) &=  \\left( 4\\right)^x \\cdot \\left( \\frac{2}{5}\\right)^{19}\\\\\n",
    "\\end{align}\n",
    "\n",
    "Nosso $L(x)$ é monotone crescente em função de $x$. Portanto, a condicao de rejeicao $L(x)>\\xi$ é equivalente à condicao $x > \\gamma$ para algum valor de $\\gamma$. Logo LRT toma a forma:\n",
    "\n",
    "$ \\text{rejeita }H_0\\text{ if } X > \\gamma $\n",
    "\n",
    "Considerando uma aproximacao baseada no teorema do limite central podemos encontrar $\\gamma$. Sob $H_0$:\n",
    "\n",
    "\\begin{align}\n",
    "Z = \\frac{X - n\\theta_0}{\\sqrt{n\\theta_0 (1-\\theta_0)}} = \\frac{X-9.5}{\\sqrt{4.75}}\n",
    "\\end{align}\n",
    "\n",
    "É aproximadamente uma variável aleatária normal. Então:\n",
    "\n",
    "$0.1 =  \\mathbb{P}(X >\\gamma; H_0) = \\mathbb{P}(\\frac{X-9.5}{\\sqrt{4.75}} > \\frac{\\gamma-9.5}{\\sqrt{4.75}}; H_0) =\\mathbb{P}( Z > \\frac{\\gamma - 9.5}{\\sqrt{4.75}})$\n",
    "\n",
    "Da tabela normal, temos $\\phi(1.28) = 0.9$ then we have:\n",
    "\n",
    "$\\frac{\\gamma - 9.5}{\\sqrt{4.75}} = 1.28 \\Rightarrow \\gamma = 12.28$\n",
    "\n",
    "Como $X$ é uma variável inteira, temos:\n",
    "\n",
    "$ \\text{rejeita }H_0\\text{ if } X > 12 $ (No caso do dados3 como temos $X = 14$ rejeitariamos a hipotese nula ($p=0.5$) e aceitariamos a hipotese alternativa($p = 0.8$)\n",
    "\n",
    "e complementarmente temos:\n",
    "\n",
    "$ \\text{aceita }H_0\\text{ if } X \\leq 12 $\n",
    "\n",
    "Como determinamos $\\alpha = 0.1$ e $\\beta = ?$"
   ]
  },
  {
   "cell_type": "code",
   "execution_count": null,
   "metadata": {},
   "outputs": [],
   "source": []
  }
 ],
 "metadata": {
  "kernelspec": {
   "display_name": "Python 3",
   "language": "python",
   "name": "python3"
  },
  "language_info": {
   "codemirror_mode": {
    "name": "ipython",
    "version": 3
   },
   "file_extension": ".py",
   "mimetype": "text/x-python",
   "name": "python",
   "nbconvert_exporter": "python",
   "pygments_lexer": "ipython3",
   "version": "3.7.3"
  }
 },
 "nbformat": 4,
 "nbformat_minor": 2
}
