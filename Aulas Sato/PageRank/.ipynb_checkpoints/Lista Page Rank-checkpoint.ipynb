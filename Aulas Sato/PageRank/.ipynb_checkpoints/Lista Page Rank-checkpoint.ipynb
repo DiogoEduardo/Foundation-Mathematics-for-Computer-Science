{
 "cells": [
  {
   "cell_type": "markdown",
   "metadata": {},
   "source": [
    "# Exercício 1\n",
    "Faça uma função `matrixPageRank(arquivo, alpha)` que recebe um digrafo $D$ no arquivo `arquivo` e um número $\\alpha$ e devolve a matriz \n",
    "$$M = \\alpha S + (1-\\alpha) J$$.\n",
    "\n",
    "O digrafo é dado no formato em https://snap.stanford.edu/data/p2p-Gnutella06.html em um arquivo txt.\n",
    "\n",
    "Rode para o digrafo do link (mas não imprima a matriz inteira, o digrafo é grande) com $\\alpha = 0.85$\n",
    "\n",
    "**Definições**: Para um digrafo com $n$ vértices:\n",
    "* $J$ é a matriz $n$ por $n$ em que todas as entradas são 1\n",
    "* $S$ é a matriz obtida da matriz $H$ em que colunas de zeros são substituídas por colunas em que todas as entradas são $1/n$\n",
    "* $H$ é a matriz $n$ por $n$ tal que\n",
    "    * $H(i,j) = 1/links(j)$, se $j$ tem um link para $i$ e $links(j)$ é o número de links saindo de $j$;\n",
    "    * $H(i,j) = 0$, caso contrário.\n",
    "    \n",
    "**Sugestão: use o numpy**\n",
    "\n",
    "**Crie quantas células de código quiser**\n"
   ]
  },
  {
   "cell_type": "code",
   "execution_count": 1,
   "metadata": {},
   "outputs": [],
   "source": [
    "import numpy as np"
   ]
  },
  {
   "cell_type": "code",
   "execution_count": 2,
   "metadata": {},
   "outputs": [],
   "source": [
    "n = 8717"
   ]
  },
  {
   "cell_type": "code",
   "execution_count": 3,
   "metadata": {},
   "outputs": [],
   "source": [
    "def matrixPageRank(arquivo, alpha):\n",
    "    \n",
    "    # Information about arquivo:\n",
    "    # Directed graph (each unordered pair of nodes is saved once): p2p-Gnutella06.txt \n",
    "    # Directed Gnutella P2P network from August 6 2002\n",
    "    # Nodes: 8717 Edges: 31525\n",
    "    # FromNodeId\tToNodeId   \n",
    "\n",
    "    edges_list = np.array(arquivo.readlines())\n",
    "    \n",
    "    print(\"Edges = \", len(edges_list))\n",
    "    \n",
    "    edges = np.zeros((31525,2),dtype=int)\n",
    "    \n",
    "    for i in range(31525):\n",
    "                    \n",
    "        edge = edges_list[i].split()\n",
    "        edges[i,0] = edge[0]\n",
    "        edges[i,1] = edge[1]\n",
    "        \n",
    "    J = np.ones((n,n))\n",
    "    H = np.zeros((n,n))\n",
    "    \n",
    "    jlinks = np.zeros(n)\n",
    "    \n",
    "    #counting degree of each vextex\n",
    "    for i in range(31525):\n",
    "        jlinks[edges[i][0]] +=1\n",
    "    \n",
    "    #creating matrix H\n",
    "    for s in range(31525):\n",
    "        H[edges[s][1]][edges[s][0]] = 1/jlinks[edges[s][0]]\n",
    "\n",
    "    \n",
    "    #creating matrix S\n",
    "    S = H\n",
    "    for j in range(n):\n",
    "        contzeros = 0\n",
    "        for i in range(n):\n",
    "            if S[i][j] == 0:\n",
    "                contzeros += 1\n",
    "\n",
    "        if contzeros == n:\n",
    "            for s in range(n):\n",
    "                S[s][j] = 1/n\n",
    "\n",
    "        \n",
    "    M = alpha*S + (1-alpha)*J\n",
    "    return M"
   ]
  },
  {
   "cell_type": "code",
   "execution_count": 4,
   "metadata": {},
   "outputs": [
    {
     "name": "stdout",
     "output_type": "stream",
     "text": [
      "Edges =  31525\n"
     ]
    }
   ],
   "source": [
    "arquivo = open(\"p2p-Gnutella06.txt\",\"r\")\n",
    "alpha = 0.85\n",
    "\n",
    "M = matrixPageRank(arquivo, alpha)\n",
    "\n",
    "arquivo.close()"
   ]
  },
  {
   "cell_type": "code",
   "execution_count": 5,
   "metadata": {},
   "outputs": [
    {
     "name": "stdout",
     "output_type": "stream",
     "text": [
      "[[0.15       0.15009751 0.15009751 ... 0.15       0.15009751 0.15      ]\n",
      " [0.235      0.15009751 0.15009751 ... 0.15       0.15009751 0.15      ]\n",
      " [0.235      0.15009751 0.15009751 ... 0.15       0.15009751 0.15      ]\n",
      " ...\n",
      " [0.15       0.15009751 0.15009751 ... 0.15       0.15009751 0.15      ]\n",
      " [0.15       0.15009751 0.15009751 ... 0.15       0.15009751 0.15      ]\n",
      " [0.15       0.15009751 0.15009751 ... 0.235      0.15009751 0.15      ]]\n"
     ]
    }
   ],
   "source": [
    "print(M)"
   ]
  },
  {
   "cell_type": "markdown",
   "metadata": {},
   "source": [
    "# Exercício 2\n",
    "Faça uma função `resolve_ex2(M)` que retorna o vetor de relevância $r$ para a matriz $M$. \n",
    "\n",
    "Para encontrar $r$, sugiro utilizar o pacote numpy.linalg com a função eig.\n",
    "\n",
    "Calcule o tempo que demora para resolver o digrafo grande do link."
   ]
  },
  {
   "cell_type": "code",
   "execution_count": null,
   "metadata": {},
   "outputs": [],
   "source": [
    "def resolve_ex2(M):\n",
    "    \n",
    "    start = time.time()\n",
    "    vals, vecs = np.linalg.eig(M)\n",
    "    \n",
    "    #w,v = linalg.eig(A)\n",
    "    #return abs(real(v[:n,0])/linalg.norm(v[:n,0],1))\n",
    "    # Discard Complex variables\n",
    "    #eigenvector = []\n",
    "    #for vec in vecs:\n",
    "    #    eigenvector.append(float(vec[0]))\n",
    "    \n",
    "    #print(\"Autovetor: \", eigenvector)\n",
    "    \n",
    "    end = time.time()\n",
    "\n",
    "    elapsed = end - start\n",
    "    print(elapsed, \"segundos\")\n",
    "    return np.abs(np.real(vecs[:n,0])/np.linalg.norm(vecs[:n,0],1))"
   ]
  },
  {
   "cell_type": "code",
   "execution_count": null,
   "metadata": {},
   "outputs": [],
   "source": [
    "import time\n",
    "ave = resolve_ex2(M)\n",
    "print(ave)"
   ]
  },
  {
   "cell_type": "markdown",
   "metadata": {},
   "source": [
    "# Exercício 3\n",
    "Faça uma função `resolve_ex3(M, k)` que retorna uma aproximação para o vetor de relevância $r$ utilizando o power method.\n",
    "\n",
    "Lembre-se que o power method nos diz que para $M^k x$ converge para $r$ com $k\\to\\infty$ e $x = (1/n,\\dotsc, 1/n)$.\n",
    "\n",
    "Ou seja, basta calcular $M^k x$\n",
    "\n",
    "Calcule o tempo que demora para resolver o digrafo grande do link (com $k=50$)."
   ]
  },
  {
   "cell_type": "code",
   "execution_count": 27,
   "metadata": {},
   "outputs": [],
   "source": [
    "def resolve_ex3(M, k):\n",
    "    \n",
    "    start = time.time()\n",
    "    \n",
    "    Mk = np.power(M,k)\n",
    "    \n",
    "    x = np.ones(n)\n",
    "    \n",
    "    x = x*1/n\n",
    "        \n",
    "    r = np.multiply(Mk,x)\n",
    "    \n",
    "    end = time.time()\n",
    "    \n",
    "    elapsed = end - start\n",
    "    print(elapsed, \"segundos\")\n",
    "    \n",
    "    return r"
   ]
  },
  {
   "cell_type": "code",
   "execution_count": 28,
   "metadata": {},
   "outputs": [
    {
     "name": "stdout",
     "output_type": "stream",
     "text": [
      "5.9667909145355225 segundos\n",
      "[[7.31468969e-46 7.55626930e-46 7.55626930e-46 ... 7.31468969e-46\n",
      "  7.55626930e-46 7.31468969e-46]\n",
      " [4.10228725e-36 7.55626930e-46 7.55626930e-46 ... 7.31468969e-46\n",
      "  7.55626930e-46 7.31468969e-46]\n",
      " [4.10228725e-36 7.55626930e-46 7.55626930e-46 ... 7.31468969e-46\n",
      "  7.55626930e-46 7.31468969e-46]\n",
      " ...\n",
      " [7.31468969e-46 7.55626930e-46 7.55626930e-46 ... 7.31468969e-46\n",
      "  7.55626930e-46 7.31468969e-46]\n",
      " [7.31468969e-46 7.55626930e-46 7.55626930e-46 ... 7.31468969e-46\n",
      "  7.55626930e-46 7.31468969e-46]\n",
      " [7.31468969e-46 7.55626930e-46 7.55626930e-46 ... 4.10228725e-36\n",
      "  7.55626930e-46 7.31468969e-46]]\n"
     ]
    }
   ],
   "source": [
    "r = resolve_ex3(M,50)\n",
    "print(r)"
   ]
  },
  {
   "cell_type": "markdown",
   "metadata": {},
   "source": [
    "# Exercício 4\n",
    "Usando os exercícios anteriores, faça uma função `top20` que recebe M e r e imprime os 20 sites mais relevantes de acordo com $r$.\n",
    "\n",
    "Compare essa lista para r obtido no Exercício 2 e no Exercício 3. Qual o menor $k$ para qual as listas de top 20 coincindem?"
   ]
  },
  {
   "cell_type": "code",
   "execution_count": 31,
   "metadata": {},
   "outputs": [],
   "source": [
    "def top20(M,r):\n",
    "    \n",
    "    ordemr = np.sort(r)\n",
    "    \n",
    "    for i in range(20):\n",
    "        print(ordemr[n-i-1])\n",
    "        \n",
    "    ordemave = np.sort(ave)\n",
    "    \n",
    "    for j in range(20):\n",
    "        print(ordemave[n-j-1])\n",
    "        \n",
    "    equal = 0 \n",
    "    k = 50\n",
    "    \n",
    "    #while(equal != 20):\n",
    "    #    equal = 0\n",
    "    #    \n",
    "    #    for s in range(20):\n",
    "    #        if ave[n-s-1] == r[n-s-1]:\n",
    "    #            equal += 1\n",
    "    #    \n",
    "    #    k += 1\n",
    "    #    r = resolve_ex3(M,k)\n",
    "    \n",
    "    print(\"k = \", k-1)"
   ]
  },
  {
   "cell_type": "code",
   "execution_count": 32,
   "metadata": {},
   "outputs": [
    {
     "name": "stdout",
     "output_type": "stream",
     "text": [
      "[7.31468969e-46 7.31468969e-46 7.31468969e-46 ... 7.55626930e-46\n",
      " 7.55626930e-46 4.10228725e-36]\n",
      "[7.31468969e-46 7.31468969e-46 7.31468969e-46 ... 7.55626930e-46\n",
      " 7.55626930e-46 2.01359845e-31]\n",
      "[7.31468969e-46 7.31468969e-46 7.31468969e-46 ... 7.55626930e-46\n",
      " 7.55626930e-46 4.10228725e-36]\n",
      "[7.31468969e-46 7.31468969e-46 7.31468969e-46 ... 7.55626930e-46\n",
      " 7.55626930e-46 4.10228725e-36]\n",
      "[7.31468969e-46 7.31468969e-46 7.31468969e-46 ... 7.55626930e-46\n",
      " 7.55626930e-46 4.10228725e-36]\n",
      "[7.31468969e-46 7.31468969e-46 7.31468969e-46 ... 7.55626930e-46\n",
      " 7.55626930e-46 4.10228725e-36]\n",
      "[7.31468969e-46 7.31468969e-46 7.31468969e-46 ... 7.55626930e-46\n",
      " 7.55626930e-46 1.14718366e-04]\n",
      "[7.31468969e-46 7.31468969e-46 7.31468969e-46 ... 7.55626930e-46\n",
      " 2.01359845e-31 1.14718366e-04]\n",
      "[7.31468969e-46 7.31468969e-46 7.31468969e-46 ... 7.55626930e-46\n",
      " 7.55626930e-46 4.10228725e-36]\n",
      "[7.31468969e-46 7.31468969e-46 7.31468969e-46 ... 7.55626930e-46\n",
      " 7.55626930e-46 4.10228725e-36]\n",
      "[7.31468969e-46 7.31468969e-46 7.31468969e-46 ... 7.55626930e-46\n",
      " 7.55626930e-46 4.10228725e-36]\n",
      "[7.31468969e-46 7.31468969e-46 7.31468969e-46 ... 7.55626930e-46\n",
      " 7.55626930e-46 4.10228725e-36]\n",
      "[7.31468969e-46 7.31468969e-46 7.31468969e-46 ... 7.55626930e-46\n",
      " 7.55626930e-46 2.07554364e-29]\n",
      "[7.31468969e-46 7.31468969e-46 7.31468969e-46 ... 7.55626930e-46\n",
      " 7.55626930e-46 4.10228725e-36]\n",
      "[7.31468969e-46 7.31468969e-46 7.31468969e-46 ... 7.55626930e-46\n",
      " 7.55626930e-46 4.10228725e-36]\n",
      "[7.31468969e-46 7.31468969e-46 7.31468969e-46 ... 7.55626930e-46\n",
      " 7.55626930e-46 4.10228725e-36]\n",
      "[7.31468969e-46 7.31468969e-46 7.31468969e-46 ... 7.55626930e-46\n",
      " 7.55626930e-46 4.10228725e-36]\n",
      "[7.31468969e-46 7.31468969e-46 7.31468969e-46 ... 7.55626930e-46\n",
      " 7.55626930e-46 2.94199224e-35]\n",
      "[7.31468969e-46 7.31468969e-46 7.31468969e-46 ... 7.55626930e-46\n",
      " 7.55626930e-46 2.94199224e-35]\n",
      "[7.31468969e-46 7.31468969e-46 7.31468969e-46 ... 7.55626930e-46\n",
      " 7.55626930e-46 2.94199224e-35]\n"
     ]
    },
    {
     "ename": "AxisError",
     "evalue": "axis -1 is out of bounds for array of dimension 0",
     "output_type": "error",
     "traceback": [
      "\u001b[0;31m---------------------------------------------------------------------------\u001b[0m",
      "\u001b[0;31mAxisError\u001b[0m                                 Traceback (most recent call last)",
      "\u001b[0;32m<ipython-input-32-c08be8bffbf4>\u001b[0m in \u001b[0;36m<module>\u001b[0;34m\u001b[0m\n\u001b[0;32m----> 1\u001b[0;31m \u001b[0mtop20\u001b[0m\u001b[0;34m(\u001b[0m\u001b[0mM\u001b[0m\u001b[0;34m,\u001b[0m\u001b[0mr\u001b[0m\u001b[0;34m)\u001b[0m\u001b[0;34m\u001b[0m\u001b[0;34m\u001b[0m\u001b[0m\n\u001b[0m",
      "\u001b[0;32m<ipython-input-31-5c5dfc1a8601>\u001b[0m in \u001b[0;36mtop20\u001b[0;34m(M, r)\u001b[0m\n\u001b[1;32m      6\u001b[0m         \u001b[0mprint\u001b[0m\u001b[0;34m(\u001b[0m\u001b[0mordemr\u001b[0m\u001b[0;34m[\u001b[0m\u001b[0mn\u001b[0m\u001b[0;34m-\u001b[0m\u001b[0mi\u001b[0m\u001b[0;34m-\u001b[0m\u001b[0;36m1\u001b[0m\u001b[0;34m]\u001b[0m\u001b[0;34m)\u001b[0m\u001b[0;34m\u001b[0m\u001b[0;34m\u001b[0m\u001b[0m\n\u001b[1;32m      7\u001b[0m \u001b[0;34m\u001b[0m\u001b[0m\n\u001b[0;32m----> 8\u001b[0;31m     \u001b[0mordemave\u001b[0m \u001b[0;34m=\u001b[0m \u001b[0mnp\u001b[0m\u001b[0;34m.\u001b[0m\u001b[0msort\u001b[0m\u001b[0;34m(\u001b[0m\u001b[0mave\u001b[0m\u001b[0;34m)\u001b[0m\u001b[0;34m\u001b[0m\u001b[0;34m\u001b[0m\u001b[0m\n\u001b[0m\u001b[1;32m      9\u001b[0m \u001b[0;34m\u001b[0m\u001b[0m\n\u001b[1;32m     10\u001b[0m     \u001b[0;32mfor\u001b[0m \u001b[0mj\u001b[0m \u001b[0;32min\u001b[0m \u001b[0mrange\u001b[0m\u001b[0;34m(\u001b[0m\u001b[0;36m20\u001b[0m\u001b[0;34m)\u001b[0m\u001b[0;34m:\u001b[0m\u001b[0;34m\u001b[0m\u001b[0;34m\u001b[0m\u001b[0m\n",
      "\u001b[0;32m~/anaconda3/lib/python3.7/site-packages/numpy/core/fromnumeric.py\u001b[0m in \u001b[0;36msort\u001b[0;34m(a, axis, kind, order)\u001b[0m\n\u001b[1;32m    932\u001b[0m     \u001b[0;32melse\u001b[0m\u001b[0;34m:\u001b[0m\u001b[0;34m\u001b[0m\u001b[0;34m\u001b[0m\u001b[0m\n\u001b[1;32m    933\u001b[0m         \u001b[0ma\u001b[0m \u001b[0;34m=\u001b[0m \u001b[0masanyarray\u001b[0m\u001b[0;34m(\u001b[0m\u001b[0ma\u001b[0m\u001b[0;34m)\u001b[0m\u001b[0;34m.\u001b[0m\u001b[0mcopy\u001b[0m\u001b[0;34m(\u001b[0m\u001b[0morder\u001b[0m\u001b[0;34m=\u001b[0m\u001b[0;34m\"K\"\u001b[0m\u001b[0;34m)\u001b[0m\u001b[0;34m\u001b[0m\u001b[0;34m\u001b[0m\u001b[0m\n\u001b[0;32m--> 934\u001b[0;31m     \u001b[0ma\u001b[0m\u001b[0;34m.\u001b[0m\u001b[0msort\u001b[0m\u001b[0;34m(\u001b[0m\u001b[0maxis\u001b[0m\u001b[0;34m=\u001b[0m\u001b[0maxis\u001b[0m\u001b[0;34m,\u001b[0m \u001b[0mkind\u001b[0m\u001b[0;34m=\u001b[0m\u001b[0mkind\u001b[0m\u001b[0;34m,\u001b[0m \u001b[0morder\u001b[0m\u001b[0;34m=\u001b[0m\u001b[0morder\u001b[0m\u001b[0;34m)\u001b[0m\u001b[0;34m\u001b[0m\u001b[0;34m\u001b[0m\u001b[0m\n\u001b[0m\u001b[1;32m    935\u001b[0m     \u001b[0;32mreturn\u001b[0m \u001b[0ma\u001b[0m\u001b[0;34m\u001b[0m\u001b[0;34m\u001b[0m\u001b[0m\n\u001b[1;32m    936\u001b[0m \u001b[0;34m\u001b[0m\u001b[0m\n",
      "\u001b[0;31mAxisError\u001b[0m: axis -1 is out of bounds for array of dimension 0"
     ]
    }
   ],
   "source": [
    "top20(M,r)"
   ]
  },
  {
   "cell_type": "markdown",
   "metadata": {},
   "source": [
    "# Exercício 5\n",
    "Faça uma função `naive(arquivo)` que recebe um digrafo (como no Exercício 1) e considera a relevância de uma página $p$ como o número de páginas apontando para $p$. Compare esse critério com o obtido no Exercício 4 para o digrafo grande."
   ]
  },
  {
   "cell_type": "code",
   "execution_count": 48,
   "metadata": {},
   "outputs": [],
   "source": [
    "n = 8717"
   ]
  },
  {
   "cell_type": "code",
   "execution_count": 55,
   "metadata": {},
   "outputs": [],
   "source": [
    "def naive(arquivo):\n",
    "    \n",
    "    lista_de_edges = np.array(arquivo.readlines())\n",
    "    \n",
    "    print(\"Edges = \", len(lista_de_edges))\n",
    "    \n",
    "    edges = np.zeros((31525,2),dtype=int)\n",
    "    \n",
    "    for i in range(31525):\n",
    "                    \n",
    "        edge = lista_de_edges[i].split()\n",
    "        edges[i,0] = edge[0]\n",
    "        edges[i,1] = edge[1]\n",
    "        \n",
    "    #print(\"Arestas \\n\")\n",
    "    #for i in range(31525):\n",
    "    #    print(edges[i][0],\" \", edges[i][1])\n",
    "            \n",
    "        \n",
    "    rel = np.zeros(n, dtype=int)\n",
    "\n",
    "    for i in range(31525):\n",
    "        rel[edges[i][1]] +=1\n",
    "    \n",
    "    print(\"Relevancia \\n\")\n",
    "    \n",
    "    ordemrel = np.sort(rel)\n",
    "     \n",
    "    for s in range(20):\n",
    "        print(ordemrel[n-s-1])"
   ]
  },
  {
   "cell_type": "code",
   "execution_count": 56,
   "metadata": {},
   "outputs": [
    {
     "name": "stdout",
     "output_type": "stream",
     "text": [
      "Edges =  31525\n",
      "Relevancia \n",
      "\n",
      "64\n",
      "62\n",
      "60\n",
      "60\n",
      "59\n",
      "59\n",
      "59\n",
      "57\n",
      "57\n",
      "56\n",
      "56\n",
      "56\n",
      "56\n",
      "54\n",
      "54\n",
      "54\n",
      "53\n",
      "53\n",
      "53\n",
      "52\n"
     ]
    }
   ],
   "source": [
    "arquivo = open(\"p2p-Gnutella06.txt\",\"r\")\n",
    "naive(arquivo)\n",
    "arquivo.close()"
   ]
  },
  {
   "cell_type": "code",
   "execution_count": null,
   "metadata": {},
   "outputs": [],
   "source": []
  }
 ],
 "metadata": {
  "kernelspec": {
   "display_name": "Python 3",
   "language": "python",
   "name": "python3"
  },
  "language_info": {
   "codemirror_mode": {
    "name": "ipython",
    "version": 3
   },
   "file_extension": ".py",
   "mimetype": "text/x-python",
   "name": "python",
   "nbconvert_exporter": "python",
   "pygments_lexer": "ipython3",
   "version": "3.7.3"
  }
 },
 "nbformat": 4,
 "nbformat_minor": 2
}
