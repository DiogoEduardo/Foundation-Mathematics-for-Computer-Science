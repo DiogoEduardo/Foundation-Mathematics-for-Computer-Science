{
 "cells": [
  {
   "cell_type": "markdown",
   "metadata": {},
   "source": [
    "# Exercício 1\n",
    "Faça uma função `matrixPageRank(arquivo, alpha)` que recebe um digrafo $D$ no arquivo `arquivo` e um número $\\alpha$ e devolve a matriz \n",
    "$$M = \\alpha S + (1-\\alpha) J$$.\n",
    "\n",
    "O digrafo é dado no formato em https://snap.stanford.edu/data/p2p-Gnutella06.html em um arquivo txt.\n",
    "\n",
    "Rode para o digrafo do link (mas não imprima a matriz inteira, o digrafo é grande) com $\\alpha = 0.85$\n",
    "\n",
    "**Definições**: Para um digrafo com $n$ vértices:\n",
    "* $J$ é a matriz $n$ por $n$ em que todas as entradas são 1\n",
    "* $S$ é a matriz obtida da matriz $H$ em que colunas de zeros são substituídas por colunas em que todas as entradas são $1/n$\n",
    "* $H$ é a matriz $n$ por $n$ tal que\n",
    "    * $H(i,j) = 1/links(j)$, se $j$ tem um link para $i$ e $links(j)$ é o número de links saindo de $j$;\n",
    "    * $H(i,j) = 0$, caso contrário.\n",
    "    \n",
    "**Sugestão: use o numpy**\n",
    "\n",
    "**Crie quantas células de código quiser**\n"
   ]
  },
  {
   "cell_type": "code",
   "execution_count": 1,
   "metadata": {},
   "outputs": [],
   "source": [
    "import numpy as np"
   ]
  },
  {
   "cell_type": "code",
   "execution_count": 2,
   "metadata": {},
   "outputs": [],
   "source": [
    "n = 8717"
   ]
  },
  {
   "cell_type": "code",
   "execution_count": 3,
   "metadata": {},
   "outputs": [],
   "source": [
    "def matrixPageRank(arquivo, alpha):\n",
    "    \n",
    "    # Arquivo:\n",
    "    # Directed graph (each unordered pair of nodes is saved once): p2p-Gnutella06.txt \n",
    "    # Directed Gnutella P2P network from August 6 2002\n",
    "    # Nodes: 8717 Edges: 31525\n",
    "    # FromNodeId\tToNodeId   \n",
    "\n",
    "    edges_list = np.array(arquivo.readlines())\n",
    "    \n",
    "    print(\"Edges = \", len(edges_list))\n",
    "    \n",
    "    edges = np.zeros((31525,2),dtype=int)\n",
    "    \n",
    "    for i in range(31525):\n",
    "                    \n",
    "        edge = edges_list[i].split()\n",
    "        edges[i,0] = edge[0]\n",
    "        edges[i,1] = edge[1]\n",
    "        \n",
    "    J = np.ones((n,n))\n",
    "    H = np.zeros((n,n))\n",
    "    \n",
    "    jlinks = np.zeros(n)\n",
    "    \n",
    "    #counting degree of each vextex\n",
    "    for i in range(31525):\n",
    "        jlinks[edges[i][0]] +=1\n",
    "    \n",
    "    #creating matrix H\n",
    "    for s in range(31525):\n",
    "        H[edges[s][1]][edges[s][0]] = 1/jlinks[edges[s][0]]\n",
    "\n",
    "    \n",
    "    #creating matrix S\n",
    "    S = np.copy(H)\n",
    "    for j in range(n):\n",
    "        contzeros = 0\n",
    "        for i in range(n):\n",
    "            if S[i][j] == 0:\n",
    "                contzeros += 1\n",
    "\n",
    "        if contzeros == n:\n",
    "            for s in range(n):\n",
    "                S[s][j] = 1/n\n",
    "\n",
    "        \n",
    "    M = alpha*S + (1-alpha)*J\n",
    "    return M"
   ]
  },
  {
   "cell_type": "code",
   "execution_count": 4,
   "metadata": {},
   "outputs": [
    {
     "name": "stdout",
     "output_type": "stream",
     "text": [
      "Edges =  31525\n"
     ]
    }
   ],
   "source": [
    "arquivo = open(\"p2p-Gnutella06.txt\",\"r\")\n",
    "alpha = 0.85\n",
    "\n",
    "M = matrixPageRank(arquivo, alpha)\n",
    "\n",
    "arquivo.close()"
   ]
  },
  {
   "cell_type": "code",
   "execution_count": 5,
   "metadata": {},
   "outputs": [
    {
     "name": "stdout",
     "output_type": "stream",
     "text": [
      "[[0.15       0.15009751 0.15009751 ... 0.15       0.15009751 0.15      ]\n",
      " [0.235      0.15009751 0.15009751 ... 0.15       0.15009751 0.15      ]\n",
      " [0.235      0.15009751 0.15009751 ... 0.15       0.15009751 0.15      ]\n",
      " ...\n",
      " [0.15       0.15009751 0.15009751 ... 0.15       0.15009751 0.15      ]\n",
      " [0.15       0.15009751 0.15009751 ... 0.15       0.15009751 0.15      ]\n",
      " [0.15       0.15009751 0.15009751 ... 0.235      0.15009751 0.15      ]]\n"
     ]
    }
   ],
   "source": [
    "print(M)"
   ]
  },
  {
   "cell_type": "markdown",
   "metadata": {},
   "source": [
    "# Exercício 2\n",
    "Faça uma função `resolve_ex2(M)` que retorna o vetor de relevância $r$ para a matriz $M$. \n",
    "\n",
    "Para encontrar $r$, sugiro utilizar o pacote numpy.linalg com a função eig.\n",
    "\n",
    "Calcule o tempo que demora para resolver o digrafo grande do link."
   ]
  },
  {
   "cell_type": "code",
   "execution_count": 6,
   "metadata": {},
   "outputs": [],
   "source": [
    "def resolve_ex2(M):\n",
    "    \n",
    "    start = time.time()\n",
    "    \n",
    "    vals, vecs = np.linalg.eig(M)\n",
    "    \n",
    "    end = time.time()\n",
    "\n",
    "    elapsed = end - start\n",
    "    \n",
    "    print(\"Tempo de execucao: \", elapsed, \"segundos\")\n",
    "    \n",
    "    return np.abs(np.real(vecs[:n,0])/np.linalg.norm(vecs[:n,0],1))"
   ]
  },
  {
   "cell_type": "code",
   "execution_count": 7,
   "metadata": {},
   "outputs": [
    {
     "name": "stdout",
     "output_type": "stream",
     "text": [
      "Tempo de execucao:  544.591735124588 segundos\n",
      "Autovetor: \n",
      " [0.0001147  0.00011472 0.00011479 ... 0.00011469 0.0001147  0.00011469]\n"
     ]
    }
   ],
   "source": [
    "import time\n",
    "ave = resolve_ex2(M)\n",
    "print(\"Autovetor: \\n\", ave)"
   ]
  },
  {
   "cell_type": "markdown",
   "metadata": {},
   "source": [
    "# Exercício 3\n",
    "Faça uma função `resolve_ex3(M, k)` que retorna uma aproximação para o vetor de relevância $r$ utilizando o power method.\n",
    "\n",
    "Lembre-se que o power method nos diz que para $M^k x$ converge para $r$ com $k\\to\\infty$ e $x = (1/n,\\dotsc, 1/n)$.\n",
    "\n",
    "Ou seja, basta calcular $M^k x$\n",
    "\n",
    "Calcule o tempo que demora para resolver o digrafo grande do link (com $k=50$)."
   ]
  },
  {
   "cell_type": "code",
   "execution_count": 8,
   "metadata": {},
   "outputs": [],
   "source": [
    "def resolve_ex3(M, k):\n",
    "    \n",
    "    start = time.time()\n",
    "    \n",
    "    i = 0\n",
    "    Mk = np.copy(M)\n",
    "    \n",
    "    while i<k:\n",
    "        \n",
    "        Mk = np.dot(Mk,M)\n",
    "        i += 1\n",
    "        \n",
    "    x = np.ones(n)\n",
    "    \n",
    "    x = x*1/n\n",
    "    \n",
    "    r = np.dot(Mk,x)\n",
    "    \n",
    "    end = time.time()\n",
    "    \n",
    "    elapsed = end - start\n",
    "    print(\"Tempo de execucao: \",elapsed, \"segundos\")\n",
    "    \n",
    "    return r"
   ]
  },
  {
   "cell_type": "code",
   "execution_count": 9,
   "metadata": {},
   "outputs": [
    {
     "name": "stdout",
     "output_type": "stream",
     "text": [
      "Tempo de execucao:  2398.980457305908 segundos\n",
      "Vetor de Relevancia: \n",
      " [1.03118284e+155 1.03132424e+155 1.03199409e+155 ... 1.03111579e+155\n",
      " 1.03116045e+155 1.03111579e+155]\n"
     ]
    }
   ],
   "source": [
    "r = resolve_ex3(M,50)\n",
    "print(\"Vetor de Relevancia: \\n\",r)"
   ]
  },
  {
   "cell_type": "markdown",
   "metadata": {},
   "source": [
    "# Exercício 4\n",
    "Usando os exercícios anteriores, faça uma função `top20` que recebe M e r e imprime os 20 sites mais relevantes de acordo com $r$.\n",
    "\n",
    "Compare essa lista para r obtido no Exercício 2 e no Exercício 3. Qual o menor $k$ para qual as listas de top 20 coincindem?"
   ]
  },
  {
   "cell_type": "code",
   "execution_count": 27,
   "metadata": {},
   "outputs": [],
   "source": [
    "def top20(M,r):\n",
    "    \n",
    "    print(\"Comparando resultado com o metodo de autovetor e PowerMethod com k = 50\")\n",
    "    ordemr = np.sort(r)\n",
    "    ordemave = np.sort(ave)\n",
    "    indicer = []\n",
    "    indiceave = []\n",
    "    \n",
    "    r1 = np.copy(r)\n",
    "    ave1 = np.copy(ave)\n",
    "    \n",
    "    for i in range(20):\n",
    "        for j in range(n):\n",
    "            if ordemr[n-i-1] == r1[j]:\n",
    "                indicer.append(j)\n",
    "                r1[j] = 0\n",
    "            \n",
    "            if ordemave[n-i-1] == ave1[j]:\n",
    "                indiceave.append(j)\n",
    "                ave1[j] = 0\n",
    "    \n",
    "    for i in range(20):        \n",
    "        print(\"PowerMethod: \", indicer[i], \" EigenvectorMethod: \", indiceave[i])\n",
    "                \n",
    "    equal = 0 \n",
    "    k = 0\n",
    "    \n",
    "    Mk = np.copy(M)\n",
    "    \n",
    "    while(equal != 20):\n",
    "        \n",
    "        equal = 0\n",
    "        \n",
    "        k += 1\n",
    "     \n",
    "        Mk = np.dot(Mk,M)    \n",
    "        \n",
    "        x = np.ones(n)\n",
    "        \n",
    "        x = x*1/n\n",
    "        \n",
    "        r2 = np.dot(Mk,x)      \n",
    "        \n",
    "        ordemr2 = np.sort(r2)\n",
    "        \n",
    "        indicer2 = []\n",
    "        \n",
    "        for i in range(20):\n",
    "            for j in range(n):\n",
    "                if ordemr2[n-i-1] == r2[j]:\n",
    "                    indicer2.append(j)\n",
    "                    r2[j] = 0\n",
    "        \n",
    "        for s in range(20):\n",
    "            if indiceave[s] == indicer2[s]:\n",
    "                equal += 1\n",
    "                        \n",
    "    print(\"\\n\\nIdentificando o menor k para o qual o resultado de ambos os metodos coincidem:\")\n",
    "    for i in range(20):        \n",
    "        print(\"PowerMethod: \", indicer2[i], \" EigenvectorMethod: \", indiceave[i])\n",
    "    \n",
    "    print(\"Minimo k = \", k)\n",
    "    return indicer, indiceave"
   ]
  },
  {
   "cell_type": "code",
   "execution_count": 28,
   "metadata": {},
   "outputs": [
    {
     "name": "stdout",
     "output_type": "stream",
     "text": [
      "Comparando resultado com o metodo de autovetor e PowerMethod com k = 50\n",
      "PowerMethod:  1250  EigenvectorMethod:  1250\n",
      "PowerMethod:  556  EigenvectorMethod:  556\n",
      "PowerMethod:  356  EigenvectorMethod:  356\n",
      "PowerMethod:  67  EigenvectorMethod:  67\n",
      "PowerMethod:  176  EigenvectorMethod:  176\n",
      "PowerMethod:  841  EigenvectorMethod:  841\n",
      "PowerMethod:  31  EigenvectorMethod:  31\n",
      "PowerMethod:  300  EigenvectorMethod:  300\n",
      "PowerMethod:  299  EigenvectorMethod:  299\n",
      "PowerMethod:  558  EigenvectorMethod:  558\n",
      "PowerMethod:  293  EigenvectorMethod:  293\n",
      "PowerMethod:  297  EigenvectorMethod:  297\n",
      "PowerMethod:  173  EigenvectorMethod:  173\n",
      "PowerMethod:  174  EigenvectorMethod:  174\n",
      "PowerMethod:  353  EigenvectorMethod:  353\n",
      "PowerMethod:  291  EigenvectorMethod:  291\n",
      "PowerMethod:  461  EigenvectorMethod:  461\n",
      "PowerMethod:  170  EigenvectorMethod:  170\n",
      "PowerMethod:  99  EigenvectorMethod:  99\n",
      "PowerMethod:  294  EigenvectorMethod:  294\n",
      "\n",
      " \n",
      " Identificando o menor k para o qual o resultado de ambos os metodos coincidem:\n",
      "PowerMethod:  1250  EigenvectorMethod:  1250\n",
      "PowerMethod:  556  EigenvectorMethod:  556\n",
      "PowerMethod:  356  EigenvectorMethod:  356\n",
      "PowerMethod:  67  EigenvectorMethod:  67\n",
      "PowerMethod:  176  EigenvectorMethod:  176\n",
      "PowerMethod:  841  EigenvectorMethod:  841\n",
      "PowerMethod:  31  EigenvectorMethod:  31\n",
      "PowerMethod:  300  EigenvectorMethod:  300\n",
      "PowerMethod:  299  EigenvectorMethod:  299\n",
      "PowerMethod:  558  EigenvectorMethod:  558\n",
      "PowerMethod:  293  EigenvectorMethod:  293\n",
      "PowerMethod:  297  EigenvectorMethod:  297\n",
      "PowerMethod:  173  EigenvectorMethod:  173\n",
      "PowerMethod:  174  EigenvectorMethod:  174\n",
      "PowerMethod:  353  EigenvectorMethod:  353\n",
      "PowerMethod:  291  EigenvectorMethod:  291\n",
      "PowerMethod:  461  EigenvectorMethod:  461\n",
      "PowerMethod:  170  EigenvectorMethod:  170\n",
      "PowerMethod:  99  EigenvectorMethod:  99\n",
      "PowerMethod:  294  EigenvectorMethod:  294\n",
      "Minimo k =  1\n"
     ]
    }
   ],
   "source": [
    "indicer, indiceave = top20(M, r)"
   ]
  },
  {
   "cell_type": "markdown",
   "metadata": {},
   "source": [
    "# Exercício 5\n",
    "Faça uma função `naive(arquivo)` que recebe um digrafo (como no Exercício 1) e considera a relevância de uma página $p$ como o número de páginas apontando para $p$. Compare esse critério com o obtido no Exercício 4 para o digrafo grande."
   ]
  },
  {
   "cell_type": "code",
   "execution_count": 29,
   "metadata": {},
   "outputs": [],
   "source": [
    "def naive(arquivo):\n",
    "    \n",
    "    lista_de_edges = np.array(arquivo.readlines())\n",
    "    \n",
    "    print(\"Edges = \", len(lista_de_edges))\n",
    "    \n",
    "    edges = np.zeros((31525,2),dtype=int)\n",
    "    \n",
    "    for i in range(31525):\n",
    "                    \n",
    "        edge = lista_de_edges[i].split()\n",
    "        edges[i,0] = edge[0]\n",
    "        edges[i,1] = edge[1]\n",
    "        \n",
    "    #print(\"Arestas \\n\")\n",
    "    #for i in range(31525):\n",
    "    #    print(edges[i][0],\" \", edges[i][1])\n",
    "            \n",
    "        \n",
    "    rel = np.zeros(n, dtype=int)\n",
    "\n",
    "    for i in range(31525):\n",
    "        rel[edges[i][1]] +=1\n",
    "    \n",
    "    print(\"\\n Relevancia \\n\")\n",
    "    \n",
    "    ordemrel = np.sort(rel)\n",
    "    indicerel = []\n",
    "    \n",
    "    for i in range(20):\n",
    "        for j in range(n):\n",
    "            if ordemrel[n-i-1] == rel[j]:\n",
    "                indicerel.append(j)\n",
    "                rel[j] = 0\n",
    "    \n",
    "    for i in range(20):\n",
    "        print(\"PowerMethod: \", indicer[i], \" EigenvectorMethod: \", indiceave[i], \"DegreeMethod : \", indicerel[i])"
   ]
  },
  {
   "cell_type": "code",
   "execution_count": 30,
   "metadata": {},
   "outputs": [
    {
     "name": "stdout",
     "output_type": "stream",
     "text": [
      "Edges =  31525\n",
      "\n",
      " Relevancia \n",
      "\n",
      "PowerMethod:  1250  EigenvectorMethod:  1250 DegreeMethod :  356\n",
      "PowerMethod:  556  EigenvectorMethod:  556 DegreeMethod :  176\n",
      "PowerMethod:  356  EigenvectorMethod:  356 DegreeMethod :  31\n",
      "PowerMethod:  67  EigenvectorMethod:  67 DegreeMethod :  556\n",
      "PowerMethod:  176  EigenvectorMethod:  176 DegreeMethod :  293\n",
      "PowerMethod:  841  EigenvectorMethod:  841 DegreeMethod :  299\n",
      "PowerMethod:  31  EigenvectorMethod:  31 DegreeMethod :  558\n",
      "PowerMethod:  300  EigenvectorMethod:  300 DegreeMethod :  173\n",
      "PowerMethod:  299  EigenvectorMethod:  299 DegreeMethod :  300\n",
      "PowerMethod:  558  EigenvectorMethod:  558 DegreeMethod :  67\n",
      "PowerMethod:  293  EigenvectorMethod:  293 DegreeMethod :  174\n",
      "PowerMethod:  297  EigenvectorMethod:  297 DegreeMethod :  291\n",
      "PowerMethod:  173  EigenvectorMethod:  173 DegreeMethod :  297\n",
      "PowerMethod:  174  EigenvectorMethod:  174 DegreeMethod :  99\n",
      "PowerMethod:  353  EigenvectorMethod:  353 DegreeMethod :  170\n",
      "PowerMethod:  291  EigenvectorMethod:  291 DegreeMethod :  461\n",
      "PowerMethod:  461  EigenvectorMethod:  461 DegreeMethod :  246\n",
      "PowerMethod:  170  EigenvectorMethod:  170 DegreeMethod :  294\n",
      "PowerMethod:  99  EigenvectorMethod:  99 DegreeMethod :  878\n",
      "PowerMethod:  294  EigenvectorMethod:  294 DegreeMethod :  172\n"
     ]
    }
   ],
   "source": [
    "arquivo = open(\"p2p-Gnutella06.txt\",\"r\")\n",
    "naive(arquivo)\n",
    "arquivo.close()"
   ]
  },
  {
   "cell_type": "markdown",
   "metadata": {},
   "source": [
    "## Como podemos observar nenhuma relevancia no top20 obtida atraves do metodo do grau dos vertices e identica a relevancia obtida pelos outros dois metodos"
   ]
  }
 ],
 "metadata": {
  "kernelspec": {
   "display_name": "Python 3",
   "language": "python",
   "name": "python3"
  },
  "language_info": {
   "codemirror_mode": {
    "name": "ipython",
    "version": 3
   },
   "file_extension": ".py",
   "mimetype": "text/x-python",
   "name": "python",
   "nbconvert_exporter": "python",
   "pygments_lexer": "ipython3",
   "version": "3.7.3"
  }
 },
 "nbformat": 4,
 "nbformat_minor": 2
}
