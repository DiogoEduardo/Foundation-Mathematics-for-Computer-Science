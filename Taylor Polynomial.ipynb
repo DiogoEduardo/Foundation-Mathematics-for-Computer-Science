{
 "cells": [
  {
   "cell_type": "markdown",
   "metadata": {},
   "source": [
    "# Lista 2 - Fundamentos de Matematica para Computacao\n",
    "\n",
    "# Exercicio 1\n",
    "\n",
    "Seguem a funcao e suas respectivas derivadas:\n",
    "\n",
    "$$ f(x) = e^{x^{2}} \\Rightarrow f(x_{0}) = 1$$\n",
    "$$ f'(x) = 2x e^{x^{2}} \\Rightarrow f'(x_{0}) = 0 $$\n",
    "$$ f''(x) = 4x^{2}e^{x^{2}} + 2e^{x^{2}} \\Rightarrow f''(x_{0}) = 2 $$\n",
    "$$ f'''(x) = 8x^{3}e^{x^{2}} + 12xe^{x^{2}} \\Rightarrow f'''(x_{0}) = 0$$\n",
    "$$ f''''(x) = 4e^{x^{2}}(4x^{4} + 12x + 3) \\Rightarrow f''''(x_{0}) = 12$$\n",
    "\n",
    "Usando os valores das derivadas vamos contruir os polinomios de Taylor usando o caso geral $p_{n}(x) = \\sum^{n}_{k=0} f^{(k)}(x_{0}) \\frac{(x-x_{0})^{k}}{k!}$ em torno de $x_0 = 0$\n",
    "\n",
    "$$p_{1}(x) = f(x_0)\\frac{(x - x_{0})^{0}}{1} + f'(x_{0})\\frac{(x-x_{0})^1}{1} \\Rightarrow e^{0} + 0 = 1$$\n",
    "\n",
    "$$p_{2}(x) = f(x_0)\\frac{(x - x_{0})^{0}}{1} + f'(x_{0})\\frac{(x-x_{0})^1}{1} + f''(x_{0})\\frac{(x-x_{0})^{2}}{2!} \\Rightarrow 1 + 0 + \\frac{2x^{2}}{2} = x^2 + 1$$\n",
    "\n",
    "$$p_{3}(x) = f(x_0)\\frac{(x - x_{0})^{0}}{1} + f'(x_{0})\\frac{(x-x_{0})^1}{1} + f''(x_{0})\\frac{(x-x_{0})^{2}}{2!} + f'''(x_{0})\\frac{(x-x_{0})^{3}}{3!} \\Rightarrow x^2 + 1$$\n",
    "\n",
    "$$p_{4}(x) = f(x_0)\\frac{(x - x_{0})^{0}}{1} + f'(x_{0})\\frac{(x-x_{0})^1}{1} + f''(x_{0})\\frac{(x-x_{0})^{2}}{2!} + f'''(x_{0})\\frac{(x-x_{0})^{3}}{3!} + f''''(x_{0})\\frac{(x-x_{0})^ {4}}{4!}\\Rightarrow \\frac{x^{4}}{2} + x^{2} + 1 $$\n",
    "\n",
    "Abaixo sao exibidos os graficos das funcoes e eh possivel ver a melhor aproximacao dos polinomios de grau mais elevado, com excecao do $p_{3}(x)$ que tem a mesma aproximacao do $p_{2}(x)$."
   ]
  },
  {
   "cell_type": "code",
   "execution_count": 24,
   "metadata": {},
   "outputs": [],
   "source": [
    "import numpy as np\n",
    "import matplotlib.pyplot as plt\n",
    "import math"
   ]
  },
  {
   "cell_type": "code",
   "execution_count": 25,
   "metadata": {
    "scrolled": true
   },
   "outputs": [
    {
     "data": {
      "image/png": "[encoded data removed]",
      "text/plain": [
       "<Figure size 432x288 with 1 Axes>"
      ]
     },
     "metadata": {
      "needs_background": "light"
     },
     "output_type": "display_data"
    }
   ],
   "source": [
    "#Vamos definir duas funções para plotar\n",
    "def f0(x):\n",
    "    return(np.exp(x**2))\n",
    "\n",
    "def f1(x):\n",
    "    return(1+x*0) \n",
    "\n",
    "def f2(x):\n",
    "    return(1+x**2)\n",
    "\n",
    "def f3(x):\n",
    "    return(1+x**2)\n",
    "    \n",
    "def f4(x):\n",
    "    return(x**4/2 + x**2 + 1)\n",
    "    \n",
    "x = np.arange(-1,1,0.1)\n",
    "\n",
    "plt.plot(x, f0(x),'b-', x, f1(x),'r-', x, f2(x), 'y-', x, f3(x), 'y-', x, f4(x), '-g')\n",
    "\n",
    "# Desenha o eixo da origem\n",
    "plt.axhline(y=0, color='k')\n",
    "plt.axvline(x=0, color='k')\n",
    "\n",
    "#mostra o gráfico\n",
    "plt.show()"
   ]
  },
  {
   "cell_type": "markdown",
   "metadata": {},
   "source": [
    "# Exercicio 2\n",
    "\n"
   ]
  },
  {
   "cell_type": "markdown",
   "metadata": {},
   "source": [
    "Queremos demonstrar que $(1+t)^n = \\sum_{j=0}^n \\binom{n}{j} t^j$, considerando $t_0 = 0$\n",
    "\n",
    "Fazendo a analise das derivadas da funcao chegamos no caso geral:\n",
    "\n",
    "$$ f(t) = (1+t)^n $$\n",
    "$$ f'(t) = n(t+1)^{n-1} $$\n",
    "$$ f''(t) = n(n-1)(t+1)^{n-2} $$\n",
    "$$ f'''(t) = n(n-1)(n-2)(t+1)^{n-3} $$\n",
    "$$ f^{(j)}(t) = \\binom{n}{j} j! (t+1)^{n-j}$$\n",
    "\n",
    "Substituindo no caso geral do polinomio de Taylor $p_{n}(t) = \\sum^{n}_{j=0} f^{(j)}(t_{0}) \\frac{(t-t_{0})^{j}}{j!}$ em torno de $t_0 = 0$, temos:\n",
    "\n",
    "$$\\sum_{j=0}^{n} \\binom{n}{j}(0+1)^{n-j} j! \\frac{(t-0)^j}{j!} = \\sum_{j=0}^{n} \\binom{n}{j}t^j.$$\n",
    "\n",
    "terminando a demonstracao."
   ]
  },
  {
   "cell_type": "markdown",
   "metadata": {},
   "source": [
    "# Exercicio 3"
   ]
  },
  {
   "cell_type": "markdown",
   "metadata": {},
   "source": [
    "Funcao $f(x) = \\sin(x)$ em torno de $x_{0} = 0$\n",
    "$$ f(x) = \\sin(x) \\Rightarrow f(0) = 0$$\n",
    "$$ f'(x) = \\cos(x) \\Rightarrow f'(0) = 1$$\n",
    "$$ f''(x) = -\\sin(x) \\Rightarrow f''(0) = 0$$\n",
    "$$ f^{(3)}(x) = -\\cos(x) \\Rightarrow f^{(3)}(0)=-1$$\n",
    "$$ f^{(4)}(x) = \\sin(x) \\Rightarrow f^{(4)}(0) = 0$$\n"
   ]
  },
  {
   "cell_type": "markdown",
   "metadata": {},
   "source": [
    "$$P(x) = 0 + x + 0 - \\frac{-1}{3!}x^{3} + 0 + \\frac{1}{5!}x^{5} + 0 - \\frac{1}{7!}x^{7} + ... $$\n",
    "$$ |E_{2k+2}(x)| = \\frac{|f^{(2k+3)}(\\overline{x})|}{(2k+3)!}|x|^{2k+3}$$\n",
    "Como $f^{(2k+3)} \\leq 1$ entao temos:\n",
    "$$|E_{2k+2}(x)| \\leq \\frac{1}{(2k + 3)!}|x|^{2k+3} $$\n",
    "Encontrando a aproximacao para $\\sin 1 < 10^{-7}$\n",
    "$$E_{2k + 2}(1) \\leq \\frac{1}{(2k+3)!}1^{2k+3} < 10^{-7}$$\n",
    "Entao precisamos que\n",
    "$$(2k+3)! > 10^{-7}$$\n",
    "$$\\Rightarrow k=4 $$\n",
    "Entao:\n",
    "$$\\sin 1 \\approx 1 - \\frac{1}{3!} + \\frac{1}{5!} - \\frac{1}{7!} + \\frac{1}{9!}$$"
   ]
  },
  {
   "cell_type": "code",
   "execution_count": 26,
   "metadata": {},
   "outputs": [
    {
     "name": "stdout",
     "output_type": "stream",
     "text": [
      "0.8414709848078965\n",
      "0.8414710097001764\n",
      "Diferenca de:  -2.4892279903987458e-08\n"
     ]
    }
   ],
   "source": [
    "print(math.sin(1))\n",
    "print(1 - 1/math.factorial(3) + 1/math.factorial(5) - 1/math.factorial(7) + 1/math.factorial(9))\n",
    "print(\"Diferenca de: \",math.sin(1) - (1 - 1/math.factorial(3) + 1/math.factorial(5) - 1/math.factorial(7) + 1/math.factorial(9)))"
   ]
  }
 ],
 "metadata": {
  "kernelspec": {
   "display_name": "Python 3",
   "language": "python",
   "name": "python3"
  },
  "language_info": {
   "codemirror_mode": {
    "name": "ipython",
    "version": 3
   },
   "file_extension": ".py",
   "mimetype": "text/x-python",
   "name": "python",
   "nbconvert_exporter": "python",
   "pygments_lexer": "ipython3",
   "version": "3.7.1"
  }
 },
 "nbformat": 4,
 "nbformat_minor": 2
}
