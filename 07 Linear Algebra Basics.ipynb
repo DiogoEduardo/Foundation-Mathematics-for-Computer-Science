{
 "cells": [
  {
   "cell_type": "markdown",
   "metadata": {},
   "source": [
    "# Exercicios"
   ]
  },
  {
   "cell_type": "markdown",
   "metadata": {},
   "source": [
    "![title](img/071.png)\n",
    "![title](img/072.png)"
   ]
  },
  {
   "cell_type": "markdown",
   "metadata": {},
   "source": [
    "# Exercício 1"
   ]
  },
  {
   "cell_type": "code",
   "execution_count": 21,
   "metadata": {},
   "outputs": [],
   "source": [
    "from numpy import linalg as la"
   ]
  },
  {
   "cell_type": "code",
   "execution_count": 22,
   "metadata": {},
   "outputs": [],
   "source": [
    "matriz = ([[1,2,0, -1],\n",
    "         [2,6,-3, -3],\n",
    "         [3,10,-6, -5]])"
   ]
  },
  {
   "cell_type": "code",
   "execution_count": 23,
   "metadata": {},
   "outputs": [
    {
     "data": {
      "text/plain": [
       "[[1, 2, 0, -1], [2, 6, -3, -3], [3, 10, -6, -5]]"
      ]
     },
     "execution_count": 23,
     "metadata": {},
     "output_type": "execute_result"
    }
   ],
   "source": [
    "matriz"
   ]
  },
  {
   "cell_type": "markdown",
   "metadata": {},
   "source": [
    "### Realizando as operações elementares de linhas para escalonar a Matriz:"
   ]
  },
  {
   "cell_type": "code",
   "execution_count": 2,
   "metadata": {},
   "outputs": [
    {
     "ename": "NameError",
     "evalue": "name 'A' is not defined",
     "output_type": "error",
     "traceback": [
      "\u001b[0;31m---------------------------------------------------------------------------\u001b[0m",
      "\u001b[0;31mNameError\u001b[0m                                 Traceback (most recent call last)",
      "\u001b[0;32m<ipython-input-2-9677d16c726c>\u001b[0m in \u001b[0;36m<module>\u001b[0;34m\u001b[0m\n\u001b[1;32m      3\u001b[0m     \u001b[0;32mfor\u001b[0m \u001b[0mi\u001b[0m \u001b[0;32min\u001b[0m \u001b[0mrange\u001b[0m\u001b[0;34m(\u001b[0m\u001b[0ms\u001b[0m\u001b[0;34m+\u001b[0m\u001b[0;36m1\u001b[0m\u001b[0;34m,\u001b[0m\u001b[0;36m3\u001b[0m\u001b[0;34m)\u001b[0m\u001b[0;34m:\u001b[0m\u001b[0;34m\u001b[0m\u001b[0;34m\u001b[0m\u001b[0m\n\u001b[1;32m      4\u001b[0m         \u001b[0msoma\u001b[0m \u001b[0;34m=\u001b[0m \u001b[0;34m[\u001b[0m\u001b[0;34m]\u001b[0m\u001b[0;34m\u001b[0m\u001b[0;34m\u001b[0m\u001b[0m\n\u001b[0;32m----> 5\u001b[0;31m         \u001b[0;32mif\u001b[0m \u001b[0mA\u001b[0m\u001b[0;34m[\u001b[0m\u001b[0ms\u001b[0m\u001b[0;34m]\u001b[0m\u001b[0;34m[\u001b[0m\u001b[0mi\u001b[0m\u001b[0;34m-\u001b[0m\u001b[0;36m1\u001b[0m\u001b[0;34m]\u001b[0m \u001b[0;34m!=\u001b[0m \u001b[0;36m0\u001b[0m\u001b[0;34m:\u001b[0m\u001b[0;34m\u001b[0m\u001b[0;34m\u001b[0m\u001b[0m\n\u001b[0m\u001b[1;32m      6\u001b[0m             \u001b[0mb\u001b[0m \u001b[0;34m=\u001b[0m \u001b[0mmatriz\u001b[0m\u001b[0;34m[\u001b[0m\u001b[0mi\u001b[0m\u001b[0;34m]\u001b[0m\u001b[0;34m[\u001b[0m\u001b[0ms\u001b[0m\u001b[0;34m]\u001b[0m\u001b[0;34m/\u001b[0m\u001b[0mmatriz\u001b[0m\u001b[0;34m[\u001b[0m\u001b[0ms\u001b[0m\u001b[0;34m]\u001b[0m\u001b[0;34m[\u001b[0m\u001b[0ms\u001b[0m\u001b[0;34m]\u001b[0m\u001b[0;34m\u001b[0m\u001b[0;34m\u001b[0m\u001b[0m\n\u001b[1;32m      7\u001b[0m \u001b[0;34m\u001b[0m\u001b[0m\n",
      "\u001b[0;31mNameError\u001b[0m: name 'A' is not defined"
     ]
    }
   ],
   "source": [
    "for s in range(0,2):\n",
    "    \n",
    "    for i in range(s+1,3):\n",
    "        soma = []\n",
    "        if matriz[s][i-1] != 0:\n",
    "            b = matriz[i][s]/matriz[s][s]\n",
    "\n",
    "        for j in range(0,4):\n",
    "            soma.append(matriz[i][j] - b*matriz[s][j])\n",
    "\n",
    "        if matriz[i][s] != 0:\n",
    "            matriz[i] = soma\n",
    "\n",
    "print(matriz)"
   ]
  },
  {
   "cell_type": "markdown",
   "metadata": {},
   "source": [
    "### O $posto (A)$ = número de linhas não nulas da matriz $A$ escalonada, logo $posto(A) = 2$"
   ]
  },
  {
   "cell_type": "code",
   "execution_count": 25,
   "metadata": {},
   "outputs": [
    {
     "data": {
      "text/plain": [
       "2"
      ]
     },
     "execution_count": 25,
     "metadata": {},
     "output_type": "execute_result"
    }
   ],
   "source": [
    "la.matrix_rank(matriz)"
   ]
  },
  {
   "cell_type": "markdown",
   "metadata": {},
   "source": [
    "### Como podemos conferir, a função acima encontrou o mesmo valor para o $posto(A)$"
   ]
  },
  {
   "cell_type": "markdown",
   "metadata": {},
   "source": [
    "# Como Sabemos:\n",
    "1.C(A) possui dimensão r\n",
    "\n",
    "2.N(A) possui dimensão n−r\n",
    "\n",
    "3.C(At) possui dimensão r\n",
    "\n",
    "4.N(At) possui dimensão m−r\n"
   ]
  },
  {
   "cell_type": "markdown",
   "metadata": {},
   "source": [
    "Como temos $n = 3$, $m = 4$ e $r = 2$ segue:\n",
    "\n",
    "1.C(A) possui dimensão 3\n",
    "\n",
    "2.N(A) possui dimensão 1\n",
    "\n",
    "3.C(At) possui dimensão 2\n",
    "\n",
    "4.N(At) possui dimensão 2"
   ]
  },
  {
   "cell_type": "markdown",
   "metadata": {},
   "source": [
    "# Exercicio 2"
   ]
  },
  {
   "cell_type": "code",
   "execution_count": 26,
   "metadata": {},
   "outputs": [],
   "source": [
    "matriz2 = ([[-1,2,0],\n",
    "            [3,2,5],\n",
    "            [2.5,3,5]])"
   ]
  },
  {
   "cell_type": "code",
   "execution_count": 27,
   "metadata": {},
   "outputs": [
    {
     "name": "stdout",
     "output_type": "stream",
     "text": [
      "[[-1, 2, 0], [0.0, 8.0, 5.0], [0.0, 0.0, 0.0]]\n"
     ]
    }
   ],
   "source": [
    "for s in range(0,2):\n",
    "    \n",
    "    for i in range(s+1,3):\n",
    "        soma = []\n",
    "        if matriz2[s][i-1] != 0:\n",
    "            b = matriz2[i][s]/matriz2[s][s]\n",
    "\n",
    "        for j in range(0,3):\n",
    "            soma.append(matriz2[i][j] - b*matriz2[s][j])\n",
    "\n",
    "        if matriz2[i][s] != 0:\n",
    "            matriz2[i] = soma\n",
    "\n",
    "print(matriz2)"
   ]
  },
  {
   "cell_type": "markdown",
   "metadata": {},
   "source": [
    "### Como podemos ver eles não são L.I. logo não formam uma base para o $\\mathbb{R}^3$"
   ]
  },
  {
   "cell_type": "markdown",
   "metadata": {},
   "source": [
    "# Exercicio 3"
   ]
  },
  {
   "cell_type": "markdown",
   "metadata": {},
   "source": [
    "Temos o seguinte sistema linear para resolver:\n",
    "\n",
    "$\\begin{align}\n",
    "x + z &= 0\\\\\n",
    "y + 5z &= 1\\\\\n",
    "3z &= 1\n",
    "\\end{align}$\n",
    "\n",
    "Podemos isolar $x$ e $y$ em termos de $z$:\n",
    "\n",
    "$\\begin{align}\n",
    "x &= -z\\\\\n",
    "y &= 1 - 5z\\\\\n",
    "z &= 1/3\n",
    "\\end{align}$\n",
    "\n",
    "substituindo o valor de $z$ nas equações temos:\n",
    "\n",
    "$\\begin{align}\n",
    "x &= -1/3\\\\\n",
    "y &= -2/3\\\\\n",
    "z &= 1/3\n",
    "\\end{align}$"
   ]
  },
  {
   "cell_type": "markdown",
   "metadata": {},
   "source": [
    "Agora vamos verificar o que acontece quando substituimos $x,y,z$ no nosso sistema:\n",
    "\n",
    "$\\begin{align}\n",
    "1x + 0y + 1z &= 0\\\\\n",
    "0x + 1y + 5z &= 1\\\\\n",
    "0x + 0y + 3z &= 1\n",
    "\\end{align}\n",
    "$\n",
    "$\\Rightarrow$\n",
    "$\n",
    "\\begin{align}\n",
    "0 &= 0\\\\\n",
    "1 &= 1\\\\\n",
    "1 &= 1\n",
    "\\end{align}\n",
    "$"
   ]
  },
  {
   "cell_type": "markdown",
   "metadata": {},
   "source": [
    "### Como acabamos de conferir encontramos os escalares $x,y,z$ que nos permitem representar o vetor $(0,1,1)^t$ como combinação linear de $a_1, a_2$ e $a_3$."
   ]
  }
 ],
 "metadata": {
  "kernelspec": {
   "display_name": "Python 3",
   "language": "python",
   "name": "python3"
  },
  "language_info": {
   "codemirror_mode": {
    "name": "ipython",
    "version": 3
   },
   "file_extension": ".py",
   "mimetype": "text/x-python",
   "name": "python",
   "nbconvert_exporter": "python",
   "pygments_lexer": "ipython3",
   "version": "3.7.3"
  }
 },
 "nbformat": 4,
 "nbformat_minor": 2
}
