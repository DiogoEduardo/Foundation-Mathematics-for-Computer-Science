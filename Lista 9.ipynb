{
 "cells": [
  {
   "cell_type": "markdown",
   "metadata": {},
   "source": [
    "# Lista 9"
   ]
  },
  {
   "cell_type": "markdown",
   "metadata": {},
   "source": [
    "# Exercicio 1\n",
    "\n",
    "Definindo as bases para $N(A)$, $C(A)$, $C(A^t)$ e $N(A^t)$"
   ]
  },
  {
   "cell_type": "code",
   "execution_count": 3,
   "metadata": {},
   "outputs": [],
   "source": [
    "import numpy as np\n",
    "import math\n",
    "import matplotlib.pyplot as plt\n",
    "\n",
    "A = np.array([[4,0,-1,4],[1,0,-1,2]])\n",
    "\n",
    "CA= [[1,-1],[4,1]]\n",
    "\n",
    "\n",
    "NA = [[0,1,0,0],[-7,0,-1,3]]\n",
    "\n",
    "CAt = [[1,0,-1,2],[4,0,-1,9]]\n",
    "\n",
    "\n",
    "#N(A^t) = vazio"
   ]
  },
  {
   "cell_type": "code",
   "execution_count": 2,
   "metadata": {},
   "outputs": [
    {
     "name": "stdout",
     "output_type": "stream",
     "text": [
      "Matriz A =  [[ 4  0 -1  4]\n",
      " [ 1  0 -1  2]] \n",
      "C(A) =  [[1, -1], [4, 1]] \n",
      "N(A) =  [[0, 1, 0, 0], [-7, 0, -1, 3]] \n",
      "C(A^t) =  [[1, 0, -1, 2], [4, 0, -1, 9]]\n"
     ]
    }
   ],
   "source": [
    "print(\"Matriz A = \", A, \"\\nC(A) = \", CA, \"\\nN(A) = \", NA, \"\\nC(A^t) = \", CAt)"
   ]
  },
  {
   "cell_type": "markdown",
   "metadata": {},
   "source": [
    "## Verificando que $N(A)$ e $C(A^t)$ sao ortogonais:"
   ]
  },
  {
   "cell_type": "code",
   "execution_count": 4,
   "metadata": {},
   "outputs": [
    {
     "name": "stdout",
     "output_type": "stream",
     "text": [
      "0\n",
      "0\n",
      "0\n",
      "0\n"
     ]
    }
   ],
   "source": [
    "for i in range(0,2):\n",
    "    for j in range(0,2):\n",
    "        print(np.dot(NA[i], CAt[j]))"
   ]
  },
  {
   "cell_type": "markdown",
   "metadata": {},
   "source": [
    "## Como $N(A^t)$ eh vazio, entao $N(A^t)$ e $C(A)$ sao ortogonais"
   ]
  },
  {
   "cell_type": "markdown",
   "metadata": {},
   "source": [
    "# Exercicio 2"
   ]
  },
  {
   "cell_type": "code",
   "execution_count": 60,
   "metadata": {},
   "outputs": [],
   "source": [
    "a = [1,2,3,4]\n",
    "b = [0,-1,0,4]\n",
    "c = [1,0,1,1]"
   ]
  },
  {
   "cell_type": "markdown",
   "metadata": {},
   "source": [
    "### Sao LI"
   ]
  },
  {
   "cell_type": "code",
   "execution_count": 61,
   "metadata": {},
   "outputs": [
    {
     "data": {
      "text/plain": [
       "array([0.18257419, 0.36514837, 0.54772256, 0.73029674])"
      ]
     },
     "execution_count": 61,
     "metadata": {},
     "output_type": "execute_result"
    }
   ],
   "source": [
    "q1 = np.divide(a, np.linalg.norm(a))\n",
    "q1"
   ]
  },
  {
   "cell_type": "code",
   "execution_count": 62,
   "metadata": {},
   "outputs": [
    {
     "data": {
      "text/plain": [
       "array([-0.1442456 , -0.59758893, -0.43273681,  0.65940847])"
      ]
     },
     "execution_count": 62,
     "metadata": {},
     "output_type": "execute_result"
    }
   ],
   "source": [
    "b1 = b - np.dot(np.dot(q1,b),q1)\n",
    "q2 = np.divide(b1, np.linalg.norm(b1))\n",
    "q2"
   ]
  },
  {
   "cell_type": "code",
   "execution_count": 63,
   "metadata": {},
   "outputs": [
    {
     "data": {
      "text/plain": [
       "array([ 0.80365408, -0.52203171,  0.25414702, -0.13050793])"
      ]
     },
     "execution_count": 63,
     "metadata": {},
     "output_type": "execute_result"
    }
   ],
   "source": [
    "c1 = (c-np.dot(np.dot(q1,c),q1)-np.dot(np.dot(q2,c),q2))\n",
    "q3 = np.divide(c1, np.linalg.norm(c1))\n",
    "q3"
   ]
  },
  {
   "cell_type": "code",
   "execution_count": 64,
   "metadata": {},
   "outputs": [
    {
     "name": "stdout",
     "output_type": "stream",
     "text": [
      "Q =  [[ 0.18257419 -0.1442456   0.80365408]\n",
      " [ 0.36514837 -0.59758893 -0.52203171]\n",
      " [ 0.54772256 -0.43273681  0.25414702]\n",
      " [ 0.73029674  0.65940847 -0.13050793]]\n",
      "\n",
      "R =  [[5.47722558 2.5560386  1.46059349]\n",
      " [0.         3.23522282 0.08242606]\n",
      " [0.         0.         0.92729316]]\n"
     ]
    }
   ],
   "source": [
    "Q = np.array([[q1[0],q2[0],q3[0]],[q1[1],q2[1],q3[1]],[q1[2],q2[2],q3[2]],[q1[3],q2[3],q3[3]]])\n",
    "R = np.array([[np.dot(q1,a),np.dot(q1,b), np.dot(q1,c)],[0,np.dot(q2,b), np.dot(q2,c)],[0,0,np.dot(q3,c)]])\n",
    "\n",
    "print(\"Q = \",Q)\n",
    "print(\"\\nR = \",R)"
   ]
  },
  {
   "cell_type": "code",
   "execution_count": 65,
   "metadata": {},
   "outputs": [
    {
     "name": "stdout",
     "output_type": "stream",
     "text": [
      "[[ 1.00000000e+00 -5.55111512e-17  1.00000000e+00]\n",
      " [ 2.00000000e+00 -1.00000000e+00 -1.66533454e-16]\n",
      " [ 3.00000000e+00  0.00000000e+00  1.00000000e+00]\n",
      " [ 4.00000000e+00  4.00000000e+00  1.00000000e+00]]\n",
      "[1, 2, 3, 4] [0, -1, 0, 4] [1, 0, 1, 1]\n"
     ]
    }
   ],
   "source": [
    "QR = np.dot(Q,R)\n",
    "print(QR)\n",
    "print(a,b,c)"
   ]
  },
  {
   "cell_type": "markdown",
   "metadata": {},
   "source": [
    "## Como podemos ver acima, de fato QR = A (desprezando as aproximacoes)"
   ]
  },
  {
   "cell_type": "markdown",
   "metadata": {},
   "source": [
    "# Exercicio 3"
   ]
  },
  {
   "cell_type": "markdown",
   "metadata": {},
   "source": [
    "$g_1 = e^x$\n",
    "\n",
    "$g_2 = e^{-x}$"
   ]
  },
  {
   "cell_type": "code",
   "execution_count": 66,
   "metadata": {},
   "outputs": [],
   "source": [
    "x = [0,0.5,1.0,1.5,2.0,2.5]\n",
    "y = [5.02,5.21,6.49,9.54,16.02,24.53]"
   ]
  },
  {
   "cell_type": "code",
   "execution_count": 67,
   "metadata": {},
   "outputs": [
    {
     "name": "stdout",
     "output_type": "stream",
     "text": [
      "A =  [[ 1.          1.        ]\n",
      " [ 1.64872127  0.60653066]\n",
      " [ 2.71828183  0.36787944]\n",
      " [ 4.48168907  0.22313016]\n",
      " [ 7.3890561   0.13533528]\n",
      " [12.18249396  0.082085  ]]\n"
     ]
    }
   ],
   "source": [
    "A = np.zeros((6,2))\n",
    "for i in range(0,6):\n",
    "    for j in range(0,3):\n",
    "        if j==0:\n",
    "            A[i][j] = math.e**x[i]\n",
    "        if j==1:\n",
    "            A[i][j] = math.e**(-x[i])\n",
    "b = y\n",
    "print(\"A = \", A)"
   ]
  },
  {
   "cell_type": "code",
   "execution_count": 68,
   "metadata": {},
   "outputs": [],
   "source": [
    "Q,R = np.linalg.qr(A)"
   ]
  },
  {
   "cell_type": "markdown",
   "metadata": {},
   "source": [
    "### Lembrando que para resolvermos este problema usando a fatoracao $QR$ temos que resolver $R\\overline{x} =Q^tb$"
   ]
  },
  {
   "cell_type": "code",
   "execution_count": 69,
   "metadata": {},
   "outputs": [
    {
     "data": {
      "text/plain": [
       "array([2.02015891, 3.01439791])"
      ]
     },
     "execution_count": 69,
     "metadata": {},
     "output_type": "execute_result"
    }
   ],
   "source": [
    "x1 = np.linalg.solve(R, np.dot(Q.T, b))\n",
    "x1"
   ]
  },
  {
   "cell_type": "code",
   "execution_count": 70,
   "metadata": {},
   "outputs": [
    {
     "data": {
      "image/png": "[encoded data removed]",
      "text/plain": [
       "<Figure size 432x288 with 1 Axes>"
      ]
     },
     "metadata": {
      "needs_background": "light"
     },
     "output_type": "display_data"
    }
   ],
   "source": [
    "W = []\n",
    "W = np.arange(0,2.6,0.1)\n",
    "Yw = []\n",
    "for w in W:\n",
    "    p = np.dot([math.e**w, math.e**(-w)], x1)\n",
    "    Yw.append(p)\n",
    "\n",
    "plt.plot(W, Yw, \"-r\", label=\"Funcao Aproximada\")\n",
    "\n",
    "plt.scatter(x, y, label = \"Dados\")\n",
    "\n",
    "plt.legend(loc='upper left')\n",
    "\n",
    "plt.show()"
   ]
  }
 ],
 "metadata": {
  "kernelspec": {
   "display_name": "Python 3",
   "language": "python",
   "name": "python3"
  },
  "language_info": {
   "codemirror_mode": {
    "name": "ipython",
    "version": 3
   },
   "file_extension": ".py",
   "mimetype": "text/x-python",
   "name": "python",
   "nbconvert_exporter": "python",
   "pygments_lexer": "ipython3",
   "version": "3.7.1"
  }
 },
 "nbformat": 4,
 "nbformat_minor": 2
}
