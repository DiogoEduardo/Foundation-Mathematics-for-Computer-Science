{
 "cells": [
  {
   "cell_type": "markdown",
   "metadata": {},
   "source": [
    "# Lista 8\n",
    "\n",
    "# Exercicio 1"
   ]
  },
  {
   "cell_type": "markdown",
   "metadata": {},
   "source": [
    "Temos o algoritmo:\n",
    "\n",
    "1. $x_n = b_n/a{nn}$\n",
    "2. para $k$ de $n-1$ até $1$ faça\n",
    "3.    $\\hspace{1.5cm}x_k = (b_k - \\sum_{j = k+1}^n a_{kj}x_j)/a_{kk}$\n",
    "4. end\n",
    "5. return $x$"
   ]
  },
  {
   "cell_type": "markdown",
   "metadata": {},
   "source": [
    "Para a análise, vamos desconsiderar a linha 1 que é executada apenas uma vez. Dentro do laço todos os passos são executados $n$ vezes. Na linha 3 temos uma divisão (então temos $n$ divisões no total) e o somatório de uma multiplicação, que é dependente de $k$, temos a seguinte tabela para as multiplicações desse somatório: \n",
    "\n",
    "\n",
    "$k\\hspace{2cm}$        somatório inicia em $k+1\\hspace{2cm}$ e vai até $n\\hspace{3cm} Temos:$     \n",
    "\n",
    "$\n",
    "n-1\\hspace{3cm} n\\hspace{5cm}n\\hspace{3cm} 1 \\text{ multiplicação}\\\\\n",
    "n-2\\hspace{3cm} n-1\\hspace{4.3cm}n\\hspace{3cm} 2 \\text{ multiplicações}\\\\\n",
    "n-3\\hspace{3cm} n-2\\hspace{4.3cm}n\\hspace{3cm} 3\\text{ multiplicações}\\\\\n",
    ".\\\\\n",
    ".\\\\\n",
    ".\\\\\n",
    "1\\hspace{3.8cm} 2\\hspace{5cm}n\\hspace{3cm} n-1 \\text{ multiplicações}\\\\\n",
    "$"
   ]
  },
  {
   "cell_type": "markdown",
   "metadata": {},
   "source": [
    "Então temos o seguinte: $1 + 2 + 3 + ... + n-1$ multiplicações\n",
    "que podemos resolver da seguinte maneira:\n",
    "\n",
    "$((n-1)+1)(n-1)/2$\n",
    "\n",
    "Logo temos:\n",
    "\n",
    "$\\frac{n²-n}{2}$ multiplições na linha 3\n",
    "\n",
    "Considerando apenas o maior termo assintoticamente temos que o algoritmo é da ordem de $O\\left(\\frac{n²-n}{2}\\right) = O(n²)$"
   ]
  },
  {
   "cell_type": "markdown",
   "metadata": {},
   "source": [
    "# Exercicio 2"
   ]
  },
  {
   "cell_type": "code",
   "execution_count": null,
   "metadata": {},
   "outputs": [],
   "source": []
  }
 ],
 "metadata": {
  "kernelspec": {
   "display_name": "Python 3",
   "language": "python",
   "name": "python3"
  },
  "language_info": {
   "codemirror_mode": {
    "name": "ipython",
    "version": 3
   },
   "file_extension": ".py",
   "mimetype": "text/x-python",
   "name": "python",
   "nbconvert_exporter": "python",
   "pygments_lexer": "ipython3",
   "version": "3.7.1"
  }
 },
 "nbformat": 4,
 "nbformat_minor": 2
}
