{
 "cells": [
  {
   "cell_type": "markdown",
   "metadata": {},
   "source": [
    "# Exercício 1\n",
    "Faça uma função `matrixPageRank(arquivo, alpha)` que recebe um digrafo $D$ no arquivo `arquivo` e um número $\\alpha$ e devolve a matriz \n",
    "$$M = \\alpha S + (1-\\alpha) J$$.\n",
    "\n",
    "O digrafo é dado no formato em https://snap.stanford.edu/data/p2p-Gnutella06.html em um arquivo txt.\n",
    "\n",
    "Rode para o digrafo do link (mas não imprima a matriz inteira, o digrafo é grande) com $\\alpha = 0.85$\n",
    "\n",
    "**Definições**: Para um digrafo com $n$ vértices:\n",
    "* $J$ é a matriz $n$ por $n$ em que todas as entradas são 1\n",
    "* $S$ é a matriz obtida da matriz $H$ em que colunas de zeros são substituídas por colunas em que todas as entradas são $1/n$\n",
    "* $H$ é a matriz $n$ por $n$ tal que\n",
    "    * $H(i,j) = 1/links(j)$, se $j$ tem um link para $i$ e $links(j)$ é o número de links saindo de $j$;\n",
    "    * $H(i,j) = 0$, caso contrário.\n",
    "    \n",
    "**Sugestão: use o numpy**\n",
    "\n",
    "**Crie quantas células de código quiser**\n"
   ]
  },
  {
   "cell_type": "code",
   "execution_count": null,
   "metadata": {},
   "outputs": [],
   "source": []
  },
  {
   "cell_type": "markdown",
   "metadata": {},
   "source": [
    "# Exercício 2\n",
    "Faça uma função `resolve_ex2(M)` que retorna o vetor de relevância $r$ para a matriz $M$. \n",
    "\n",
    "Para encontrar $r$, sugiro utilizar o pacote numpy.linalg com a função eig.\n",
    "\n",
    "Calcule o tempo que demora para resolver o digrafo grande do link."
   ]
  },
  {
   "cell_type": "code",
   "execution_count": null,
   "metadata": {},
   "outputs": [],
   "source": [
    "# para calcular tempo\n",
    "import time\n",
    "\n",
    "start = time.time()\n",
    "# codigo\n",
    "end = time.time()\n",
    "\n",
    "elapsed = end - start\n",
    "print(elapsed)"
   ]
  },
  {
   "cell_type": "code",
   "execution_count": null,
   "metadata": {},
   "outputs": [],
   "source": []
  },
  {
   "cell_type": "markdown",
   "metadata": {},
   "source": [
    "# Exercício 3\n",
    "Faça uma função `resolve_ex3(M, k)` que retorna uma aproximação para o vetor de relevância $r$ utilizando o power method.\n",
    "\n",
    "Lembre-se que o power method nos diz que para $M^k x$ converge para $r$ com $k\\to\\infty$ e $x = (1/n,\\dotsc, 1/n)$.\n",
    "\n",
    "Ou seja, basta calcular $M^k x$\n",
    "\n",
    "Calcule o tempo que demora para resolver o digrafo grande do link (com $k=50$)."
   ]
  },
  {
   "cell_type": "code",
   "execution_count": null,
   "metadata": {},
   "outputs": [],
   "source": []
  },
  {
   "cell_type": "markdown",
   "metadata": {},
   "source": [
    "# Exercício 4\n",
    "Usando os exercícios anteriores, faça uma função `top20` que recebe M e r e imprime os 20 sites mais relevantes de acordo com $r$.\n",
    "\n",
    "Compare essa lista para r obtido no Exercício 2 e no Exercício 3. Qual o menor $k$ para qual as listas de top 20 coincindem?"
   ]
  },
  {
   "cell_type": "code",
   "execution_count": null,
   "metadata": {},
   "outputs": [],
   "source": []
  },
  {
   "cell_type": "markdown",
   "metadata": {},
   "source": [
    "# Exercício 5\n",
    "Faça uma função `naive(arquivo)` que recebe um digrafo (como no Exercício 1) e considera a relevância de uma página $p$ como o número de páginas apontando para $p$. Compare esse critério com o obtido no Exercício 4 para o digrafo grande."
   ]
  },
  {
   "cell_type": "code",
   "execution_count": null,
   "metadata": {},
   "outputs": [],
   "source": []
  }
 ],
 "metadata": {
  "kernelspec": {
   "display_name": "Python 3",
   "language": "python",
   "name": "python3"
  },
  "language_info": {
   "codemirror_mode": {
    "name": "ipython",
    "version": 3
   },
   "file_extension": ".py",
   "mimetype": "text/x-python",
   "name": "python",
   "nbconvert_exporter": "python",
   "pygments_lexer": "ipython3",
   "version": "3.7.1"
  }
 },
 "nbformat": 4,
 "nbformat_minor": 2
}
