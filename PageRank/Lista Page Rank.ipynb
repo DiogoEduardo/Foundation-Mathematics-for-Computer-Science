{
 "cells": [
  {
   "cell_type": "markdown",
   "metadata": {},
   "source": [
    "# Exercício 1\n",
    "Faça uma função `matrixPageRank(arquivo, alpha)` que recebe um digrafo $D$ no arquivo `arquivo` e um número $\\alpha$ e devolve a matriz \n",
    "$$M = \\alpha S + (1-\\alpha) J$$.\n",
    "\n",
    "O digrafo é dado no formato em https://snap.stanford.edu/data/p2p-Gnutella06.html em um arquivo txt.\n",
    "\n",
    "Rode para o digrafo do link (mas não imprima a matriz inteira, o digrafo é grande) com $\\alpha = 0.85$\n",
    "\n",
    "**Definições**: Para um digrafo com $n$ vértices:\n",
    "* $J$ é a matriz $n$ por $n$ em que todas as entradas são 1\n",
    "* $S$ é a matriz obtida da matriz $H$ em que colunas de zeros são substituídas por colunas em que todas as entradas são $1/n$\n",
    "* $H$ é a matriz $n$ por $n$ tal que\n",
    "    * $H(i,j) = 1/links(j)$, se $j$ tem um link para $i$ e $links(j)$ é o número de links saindo de $j$;\n",
    "    * $H(i,j) = 0$, caso contrário.\n",
    "    \n",
    "**Sugestão: use o numpy**\n",
    "\n",
    "**Crie quantas células de código quiser**\n"
   ]
  },
  {
   "cell_type": "code",
   "execution_count": 25,
   "metadata": {},
   "outputs": [],
   "source": [
    "import numpy as np"
   ]
  },
  {
   "cell_type": "code",
   "execution_count": 26,
   "metadata": {},
   "outputs": [],
   "source": [
    "def matrixPageRank(arquivo, alpha):\n",
    "    \n",
    "    # Informacoes do arquivo txt:\n",
    "    # Directed graph (each unordered pair of nodes is saved once): p2p-Gnutella06.txt \n",
    "    # Directed Gnutella P2P network from August 6 2002\n",
    "    # Nodes: 8717 Edges: 31525\n",
    "    # FromNodeId\tToNodeId   \n",
    "\n",
    "    lista_de_edges = np.array(arquivo.readlines())\n",
    "\n",
    "    print(\"Edges = \", len(lista_de_edges))\n",
    "\n",
    "    J = np.ones((8717,8717))\n",
    "    H = np.zeros((8717,8717))\n",
    "\n",
    "    for i in range(0,8717):\n",
    "        for j in range(0,8717):\n",
    "\n",
    "            jiedge = False\n",
    "            contjlinks = 0\n",
    "\n",
    "            for s in range(0,31525):\n",
    "                if lista_de_edges[s][0] == j and lista_de_edges[s][2] == i:\n",
    "                    jiedge = True\n",
    "\n",
    "                if lista_de_edges[s][0] == j:\n",
    "                    contjlinks += 1 \n",
    "\n",
    "            if jiedge:        \n",
    "                H[i][j] = 1/contjlinks\n",
    "\n",
    "\n",
    "    for j in range(0, 8717):\n",
    "        contzeros = 0\n",
    "        for i in range(0,8717):\n",
    "            if H[i][j] == 0:\n",
    "                contzeros += 1\n",
    "\n",
    "        if contzeros == 8717:\n",
    "            for s in range(0,8717):\n",
    "                H[i][j] = 1/8717\n",
    "\n",
    "    M = alpha*H + (1-alpha)*J\n",
    "    return M"
   ]
  },
  {
   "cell_type": "code",
   "execution_count": null,
   "metadata": {},
   "outputs": [
    {
     "name": "stdout",
     "output_type": "stream",
     "text": [
      "Edges =  31525\n"
     ]
    }
   ],
   "source": [
    "arquivo = open(\"p2p-Gnutella06.txt\",\"r\")\n",
    "alpha = 0.85\n",
    "\n",
    "M = matrixPageRank(arquivo, alpha)\n",
    "\n",
    "arquivo.close()"
   ]
  },
  {
   "cell_type": "code",
   "execution_count": 22,
   "metadata": {},
   "outputs": [
    {
     "ename": "NameError",
     "evalue": "name 'M' is not defined",
     "output_type": "error",
     "traceback": [
      "\u001b[0;31m---------------------------------------------------------------------------\u001b[0m",
      "\u001b[0;31mNameError\u001b[0m                                 Traceback (most recent call last)",
      "\u001b[0;32m<ipython-input-22-c9f77ca0a50d>\u001b[0m in \u001b[0;36m<module>\u001b[0;34m\u001b[0m\n\u001b[0;32m----> 1\u001b[0;31m \u001b[0mprint\u001b[0m\u001b[0;34m(\u001b[0m\u001b[0mM\u001b[0m\u001b[0;34m)\u001b[0m\u001b[0;34m\u001b[0m\u001b[0;34m\u001b[0m\u001b[0m\n\u001b[0m",
      "\u001b[0;31mNameError\u001b[0m: name 'M' is not defined"
     ]
    }
   ],
   "source": [
    "print(M)"
   ]
  },
  {
   "cell_type": "markdown",
   "metadata": {},
   "source": [
    "# Exercício 2\n",
    "Faça uma função `resolve_ex2(M)` que retorna o vetor de relevância $r$ para a matriz $M$. \n",
    "\n",
    "Para encontrar $r$, sugiro utilizar o pacote numpy.linalg com a função eig.\n",
    "\n",
    "Calcule o tempo que demora para resolver o digrafo grande do link."
   ]
  },
  {
   "cell_type": "code",
   "execution_count": null,
   "metadata": {},
   "outputs": [],
   "source": [
    "# para calcular tempo\n",
    "import time\n",
    "\n",
    "def resolve_ex2(M):\n",
    "    \n",
    "    start = time.time()\n",
    "    np.linalg.eig(M)\n",
    "    end = time.time()\n",
    "\n",
    "    elapsed = end - start\n",
    "    print(elapsed)\n"
   ]
  },
  {
   "cell_type": "code",
   "execution_count": null,
   "metadata": {},
   "outputs": [],
   "source": []
  },
  {
   "cell_type": "markdown",
   "metadata": {},
   "source": [
    "# Exercício 3\n",
    "Faça uma função `resolve_ex3(M, k)` que retorna uma aproximação para o vetor de relevância $r$ utilizando o power method.\n",
    "\n",
    "Lembre-se que o power method nos diz que para $M^k x$ converge para $r$ com $k\\to\\infty$ e $x = (1/n,\\dotsc, 1/n)$.\n",
    "\n",
    "Ou seja, basta calcular $M^k x$\n",
    "\n",
    "Calcule o tempo que demora para resolver o digrafo grande do link (com $k=50$)."
   ]
  },
  {
   "cell_type": "code",
   "execution_count": null,
   "metadata": {},
   "outputs": [],
   "source": []
  },
  {
   "cell_type": "markdown",
   "metadata": {},
   "source": [
    "# Exercício 4\n",
    "Usando os exercícios anteriores, faça uma função `top20` que recebe M e r e imprime os 20 sites mais relevantes de acordo com $r$.\n",
    "\n",
    "Compare essa lista para r obtido no Exercício 2 e no Exercício 3. Qual o menor $k$ para qual as listas de top 20 coincindem?"
   ]
  },
  {
   "cell_type": "code",
   "execution_count": null,
   "metadata": {},
   "outputs": [],
   "source": []
  },
  {
   "cell_type": "markdown",
   "metadata": {},
   "source": [
    "# Exercício 5\n",
    "Faça uma função `naive(arquivo)` que recebe um digrafo (como no Exercício 1) e considera a relevância de uma página $p$ como o número de páginas apontando para $p$. Compare esse critério com o obtido no Exercício 4 para o digrafo grande."
   ]
  }
 ],
 "metadata": {
  "kernelspec": {
   "display_name": "Python 3",
   "language": "python",
   "name": "python3"
  },
  "language_info": {
   "codemirror_mode": {
    "name": "ipython",
    "version": 3
   },
   "file_extension": ".py",
   "mimetype": "text/x-python",
   "name": "python",
   "nbconvert_exporter": "python",
   "pygments_lexer": "ipython3",
   "version": "3.7.3"
  }
 },
 "nbformat": 4,
 "nbformat_minor": 2
}
