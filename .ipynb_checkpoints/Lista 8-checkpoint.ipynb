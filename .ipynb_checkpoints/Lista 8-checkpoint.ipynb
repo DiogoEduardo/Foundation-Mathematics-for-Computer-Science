{
 "cells": [
  {
   "cell_type": "markdown",
   "metadata": {},
   "source": [
    "# Lista 8\n",
    "\n",
    "# Exercicio 1"
   ]
  },
  {
   "cell_type": "markdown",
   "metadata": {},
   "source": [
    "Temos o algoritmo:\n",
    "\n",
    "1. $x_n = b_n/a{nn}$\n",
    "2. para $k$ de $n-1$ até $1$ faça\n",
    "3.    $\\hspace{1.5cm}x_k = (b_k - \\sum_{j = k+1}^n a_{kj}x_j)/a_{kk}$\n",
    "4. end\n",
    "5. return $x$"
   ]
  },
  {
   "cell_type": "markdown",
   "metadata": {},
   "source": [
    "Para a análise, vamos desconsiderar a linha 1 que é executada apenas uma vez. Dentro do laço todos os passos são executados $n$ vezes. Na linha 3 temos uma divisão (então temos $n$ divisões no total) e o somatório de uma multiplicação, que é dependente de $k$, temos a seguinte tabela para as multiplicações desse somatório: \n",
    "\n",
    "\n",
    "$k\\hspace{2cm}$        somatório inicia em $k+1\\hspace{2cm}$ e vai até $n\\hspace{3cm} Temos:$     \n",
    "\n",
    "$\n",
    "n-1\\hspace{3cm} n\\hspace{5cm}n\\hspace{3cm} 1 \\text{ multiplicação}\\\\\n",
    "n-2\\hspace{3cm} n-1\\hspace{4.3cm}n\\hspace{3cm} 2 \\text{ multiplicações}\\\\\n",
    "n-3\\hspace{3cm} n-2\\hspace{4.3cm}n\\hspace{3cm} 3\\text{ multiplicações}\\\\\n",
    ".\\\\\n",
    ".\\\\\n",
    ".\\\\\n",
    "1\\hspace{3.8cm} 2\\hspace{5cm}n\\hspace{3cm} n-1 \\text{ multiplicações}\\\\\n",
    "$"
   ]
  },
  {
   "cell_type": "markdown",
   "metadata": {},
   "source": [
    "Então temos o seguinte: $1 + 2 + 3 + ... + n-1$ multiplicações\n",
    "que podemos resolver da seguinte maneira:\n",
    "\n",
    "$((n-1)+1)(n-1)/2$\n",
    "\n",
    "Logo temos:\n",
    "\n",
    "$\\frac{n²-n}{2}$ multiplições na linha 3\n",
    "\n",
    "Considerando apenas o maior termo assintoticamente temos que o algoritmo é da ordem de $O\\left(\\frac{n²-n}{2}\\right) = O(n²)$"
   ]
  },
  {
   "cell_type": "markdown",
   "metadata": {},
   "source": [
    "# Exercicio 2"
   ]
  },
  {
   "cell_type": "code",
   "execution_count": 220,
   "metadata": {},
   "outputs": [],
   "source": [
    "import numpy as np"
   ]
  },
  {
   "cell_type": "code",
   "execution_count": 221,
   "metadata": {},
   "outputs": [],
   "source": [
    "n = 4\n",
    "A = [[1, 3, 7, 8],[1, -1, 0, 1],[7, 10, 1, 9],[-1, 0, 1, 1]]"
   ]
  },
  {
   "cell_type": "code",
   "execution_count": 222,
   "metadata": {},
   "outputs": [
    {
     "data": {
      "text/plain": [
       "[1, 2, 3, 4]"
      ]
     },
     "execution_count": 222,
     "metadata": {},
     "output_type": "execute_result"
    }
   ],
   "source": [
    "p = []\n",
    "for i in range(1, n+1):\n",
    "    p.append(i)\n",
    "p"
   ]
  },
  {
   "cell_type": "code",
   "execution_count": 223,
   "metadata": {},
   "outputs": [
    {
     "name": "stdout",
     "output_type": "stream",
     "text": [
      "Matriz A =  [[7, 10, 1, 9], [0.14285714285714285, 1.5714285714285716, 6.857142857142857, 6.714285714285714], [0.14285714285714285, -1.5454545454545452, 10.454545454545453, 10.09090909090909], [-0.14285714285714285, 0.9090909090909088, -0.48695652173913023, 1.0956521739130425]]\n",
      "Vetor P =  [3, 1, 2, 4]\n",
      "Matriz P =  [[0 0 1 0]\n",
      " [1 0 0 0]\n",
      " [0 1 0 0]\n",
      " [0 0 0 1]]\n"
     ]
    }
   ],
   "source": [
    "for i in range(0, n-1):\n",
    "    maxindice = i\n",
    "    maxelemento = A[i][i]\n",
    "    for j in range(i+1,n):\n",
    "        if A[j][i] > maxelemento: \n",
    "            maxindice = j\n",
    "            maxelemento = A[j][i]\n",
    "\n",
    "    \n",
    "    #trocando linhas na matriz\n",
    "    if A[i][i] != maxelemento:\n",
    "        aux = A[i]\n",
    "        A[i] = A[maxindice]\n",
    "        A[maxindice] = aux\n",
    "        \n",
    "        #trocando linhas na matriz de permutacao\n",
    "        aux2 = p[i]\n",
    "        p[i] = p[maxindice]\n",
    "        p[maxindice] = aux2\n",
    "\n",
    "    #anulando elementos abaixo do pivo\n",
    "    for j in range(i+1, n):\n",
    "        m = A[j][i]/A[i][i]\n",
    "        for s in range(i, n):\n",
    "            A[j][s] = A[j][s]-(m*A[i][s])\n",
    "        A[j][i] = m\n",
    "        \n",
    "print('Matriz A = ',A)\n",
    "print('Vetor P = ',p)\n",
    "\n",
    "P = np.zeros((4,4),dtype = np.int)\n",
    "\n",
    "for i in range(0,n):\n",
    "    for j in range(0,n):\n",
    "        if p[i] == j+1:\n",
    "            P[i][j] = 1\n",
    "print('Matriz P = ', P)"
   ]
  },
  {
   "cell_type": "code",
   "execution_count": 224,
   "metadata": {},
   "outputs": [
    {
     "name": "stdout",
     "output_type": "stream",
     "text": [
      "Matiz L = [[1, 0, 0, 0], [0.14285714285714285, 1, 0, 0], [0.14285714285714285, -1.5454545454545452, 1, 0], [-0.14285714285714285, 0.9090909090909088, -0.48695652173913023, 1]]\n",
      "Matriz U = [[7, 10, 1, 9], [0, 1.5714285714285716, 6.857142857142857, 6.714285714285714], [0, 0, 10.454545454545453, 10.09090909090909], [0, 0, 0, 1.0956521739130425]]\n"
     ]
    }
   ],
   "source": [
    "L =[[0,0,0,0],[0,0,0,0],[0,0,0,0],[0,0,0,0]]\n",
    "U =[[0,0,0,0],[0,0,0,0],[0,0,0,0],[0,0,0,0]]\n",
    "for i in range(0, n):\n",
    "    for j in range(0, n):\n",
    "        if i == j:\n",
    "            L[i][j] = 1\n",
    "            U[i][j] = A[i][j]\n",
    "        if i > j:\n",
    "            L[i][j] = A[i][j]\n",
    "        if j > i:\n",
    "            U[i][j] = A[i][j]\n",
    "print('Matiz L =',L)\n",
    "print('Matriz U =',U)"
   ]
  },
  {
   "cell_type": "markdown",
   "metadata": {},
   "source": [
    "# Aqui Verificamos que PA = LU:"
   ]
  },
  {
   "cell_type": "code",
   "execution_count": 225,
   "metadata": {},
   "outputs": [
    {
     "name": "stdout",
     "output_type": "stream",
     "text": [
      "Matriz PA =  [[ 7. 10.  1.  9.]\n",
      " [ 1.  3.  7.  8.]\n",
      " [ 1. -1.  0.  1.]\n",
      " [-1.  0.  1.  1.]] \n",
      "\n",
      "Matriz LU =  [[ 7. 10.  1.  9.]\n",
      " [ 1.  3.  7.  8.]\n",
      " [ 1. -1.  0.  1.]\n",
      " [-1.  0.  1.  1.]]\n"
     ]
    }
   ],
   "source": [
    "PA = np.zeros((n,n),dtype = np.float)\n",
    "LU = np.zeros((n,n),dtype = np.float)\n",
    "\n",
    "Aoriginal = [[1, 3, 7, 8],[1, -1, 0, 1],[7, 10, 1, 9],[-1, 0, 1, 1]]\n",
    "\n",
    "for i in range(0,n):\n",
    "    for j in range(0,n):\n",
    "         for k in range(0,n):\n",
    "                PA[i][j] += P[i][k] * Aoriginal[k][j]\n",
    "\n",
    "for i in range(0,n):\n",
    "    for j in range(0,n):\n",
    "         for k in range(0,n):\n",
    "                LU[i][j] += L[i][k] * U[k][j]\n",
    "                \n",
    "\n",
    "print('Matriz PA = ',PA,'\\n\\nMatriz LU = ', LU)"
   ]
  },
  {
   "cell_type": "code",
   "execution_count": 226,
   "metadata": {},
   "outputs": [],
   "source": [
    "b = np.ones((n), dtype = np.float)"
   ]
  },
  {
   "cell_type": "markdown",
   "metadata": {},
   "source": [
    "### Montando Matriz Pb"
   ]
  },
  {
   "cell_type": "code",
   "execution_count": 227,
   "metadata": {},
   "outputs": [],
   "source": [
    "Pb = np.zeros(n)\n",
    "\n",
    "for i in range(0,n):\n",
    "    for k in range(0,n):\n",
    "        Pb[i] += P[i][k] * b[k]"
   ]
  },
  {
   "cell_type": "markdown",
   "metadata": {},
   "source": [
    "# Resolvendo $Ly = Pb$ por substituicao sucessiva"
   ]
  },
  {
   "cell_type": "code",
   "execution_count": 228,
   "metadata": {},
   "outputs": [
    {
     "data": {
      "text/plain": [
       "array([1.        , 0.85714286, 2.18181818, 1.42608696])"
      ]
     },
     "execution_count": 228,
     "metadata": {},
     "output_type": "execute_result"
    }
   ],
   "source": [
    "y = np.zeros(n)\n",
    "\n",
    "y[0] = Pb[0]/L[0][0]\n",
    "\n",
    "for i in range(1, n):\n",
    "    y[i] = Pb[i]\n",
    "    \n",
    "    for j in range(0, i):\n",
    "        y[i] -= L[i][j]*y[j] \n",
    "    \n",
    "    y[i] = y[i]/L[i][i]\n",
    "y"
   ]
  },
  {
   "cell_type": "markdown",
   "metadata": {},
   "source": [
    "# Resolvendo $Ux = y$ por substituicao retroativa"
   ]
  },
  {
   "cell_type": "code",
   "execution_count": 229,
   "metadata": {},
   "outputs": [],
   "source": [
    "x = np.zeros(n)\n",
    "\n",
    "x[n-1] = y[n-1]/U[n-1][n-1]\n",
    "\n",
    "for i in range(0, n-1):\n",
    "    x[n-2-i] = y[n-2-i]\n",
    "    \n",
    "    for j in range(n-1-i, n):\n",
    "        x[n-2-i] -= U[n-2-i][j]*x[j] \n",
    "        \n",
    "    x[n-2-i] = x[n-2-i]/U[n-2-i][n-2-i]"
   ]
  },
  {
   "cell_type": "markdown",
   "metadata": {},
   "source": [
    "## Entao pela fatoracao temos o vetor $x$:"
   ]
  },
  {
   "cell_type": "code",
   "execution_count": 230,
   "metadata": {},
   "outputs": [
    {
     "data": {
      "text/plain": [
       "array([-0.74603175, -0.44444444, -1.04761905,  1.3015873 ])"
      ]
     },
     "execution_count": 230,
     "metadata": {},
     "output_type": "execute_result"
    }
   ],
   "source": [
    "x"
   ]
  },
  {
   "cell_type": "markdown",
   "metadata": {},
   "source": [
    "### Verificacao usando funcao pronta:"
   ]
  },
  {
   "cell_type": "code",
   "execution_count": 231,
   "metadata": {},
   "outputs": [
    {
     "data": {
      "text/plain": [
       "array([-0.74603175, -0.44444444, -1.04761905,  1.3015873 ])"
      ]
     },
     "execution_count": 231,
     "metadata": {},
     "output_type": "execute_result"
    }
   ],
   "source": [
    "np.linalg.solve(Aoriginal, b)"
   ]
  },
  {
   "cell_type": "markdown",
   "metadata": {},
   "source": [
    "### Como vimos o resultado da fatoracao PA = LU foi o mesmo obtido pelo metodo"
   ]
  },
  {
   "cell_type": "markdown",
   "metadata": {},
   "source": [
    "# Exercicio 3"
   ]
  },
  {
   "cell_type": "markdown",
   "metadata": {},
   "source": [
    "# Utilizando $n=100$"
   ]
  },
  {
   "cell_type": "code",
   "execution_count": 232,
   "metadata": {},
   "outputs": [],
   "source": [
    "n = 100"
   ]
  },
  {
   "cell_type": "code",
   "execution_count": 233,
   "metadata": {},
   "outputs": [],
   "source": [
    "D = np.zeros((n,n),dtype = np.float)\n",
    "b1 = np.ones((n), dtype = np.float)"
   ]
  },
  {
   "cell_type": "code",
   "execution_count": 234,
   "metadata": {},
   "outputs": [],
   "source": [
    "for i in range(0,n):\n",
    "    for j in range(0,n):\n",
    "        D[i][j] = 1/((i+j+1)**10)"
   ]
  },
  {
   "cell_type": "code",
   "execution_count": 235,
   "metadata": {},
   "outputs": [
    {
     "data": {
      "text/plain": [
       "array([[1.00000000e+00, 9.76562500e-04, 1.69350878e-05, ...,\n",
       "        1.22388114e-20, 1.10572736e-20, 1.00000000e-20],\n",
       "       [9.76562500e-04, 1.69350878e-05, 9.53674316e-07, ...,\n",
       "        1.10572736e-20, 1.00000000e-20, 9.05286955e-21],\n",
       "       [1.69350878e-05, 9.53674316e-07, 1.02400000e-07, ...,\n",
       "        1.00000000e-20, 9.05286955e-21, 8.20348300e-21],\n",
       "       ...,\n",
       "       [1.22388114e-20, 1.10572736e-20, 1.00000000e-20, ...,\n",
       "        1.25792250e-23, 1.19519643e-23, 1.13589382e-23],\n",
       "       [1.10572736e-20, 1.00000000e-20, 9.05286955e-21, ...,\n",
       "        1.19519643e-23, 1.13589382e-23, 1.07981187e-23],\n",
       "       [1.00000000e-20, 9.05286955e-21, 8.20348300e-21, ...,\n",
       "        1.13589382e-23, 1.07981187e-23, 1.02676070e-23]])"
      ]
     },
     "execution_count": 235,
     "metadata": {},
     "output_type": "execute_result"
    }
   ],
   "source": [
    "D"
   ]
  },
  {
   "cell_type": "markdown",
   "metadata": {},
   "source": [
    "### Verificando o numero de condicionamento:"
   ]
  },
  {
   "cell_type": "code",
   "execution_count": 236,
   "metadata": {},
   "outputs": [
    {
     "data": {
      "text/plain": [
       "1.2899345697454888e+39"
      ]
     },
     "execution_count": 236,
     "metadata": {},
     "output_type": "execute_result"
    }
   ],
   "source": [
    "np.linalg.cond(D, 'fro')"
   ]
  },
  {
   "cell_type": "markdown",
   "metadata": {},
   "source": [
    "### Resultado Computacional:"
   ]
  },
  {
   "cell_type": "code",
   "execution_count": 237,
   "metadata": {},
   "outputs": [],
   "source": [
    "x = np.linalg.solve(D, b1)"
   ]
  },
  {
   "cell_type": "code",
   "execution_count": 238,
   "metadata": {},
   "outputs": [],
   "source": [
    "b2 = np.dot(D, x)"
   ]
  },
  {
   "cell_type": "markdown",
   "metadata": {},
   "source": [
    "### Calculando a qualidade da solucao"
   ]
  },
  {
   "cell_type": "code",
   "execution_count": 239,
   "metadata": {},
   "outputs": [],
   "source": [
    "qualidade100 = np.linalg.norm(b2-b1)/np.linalg.norm(b1)"
   ]
  },
  {
   "cell_type": "code",
   "execution_count": 240,
   "metadata": {
    "scrolled": false
   },
   "outputs": [
    {
     "data": {
      "text/plain": [
       "3.6949513001541527"
      ]
     },
     "execution_count": 240,
     "metadata": {},
     "output_type": "execute_result"
    }
   ],
   "source": [
    "qualidade100"
   ]
  },
  {
   "cell_type": "markdown",
   "metadata": {},
   "source": [
    "# utilizando $n = 1000$"
   ]
  },
  {
   "cell_type": "code",
   "execution_count": 241,
   "metadata": {},
   "outputs": [],
   "source": [
    "n = 1000"
   ]
  },
  {
   "cell_type": "code",
   "execution_count": 242,
   "metadata": {},
   "outputs": [],
   "source": [
    "D = np.zeros((n,n),dtype = np.float)\n",
    "b1 = np.ones((n), dtype = np.float)"
   ]
  },
  {
   "cell_type": "code",
   "execution_count": 243,
   "metadata": {},
   "outputs": [],
   "source": [
    "for i in range(0,n):\n",
    "    for j in range(0,n):\n",
    "        D[i][j] = 1/((i+j+1)**10)"
   ]
  },
  {
   "cell_type": "code",
   "execution_count": 244,
   "metadata": {},
   "outputs": [
    {
     "data": {
      "text/plain": [
       "array([[1.00000000e+00, 9.76562500e-04, 1.69350878e-05, ...,\n",
       "        1.02022177e-30, 1.01005522e-30, 1.00000000e-30],\n",
       "       [9.76562500e-04, 1.69350878e-05, 9.53674316e-07, ...,\n",
       "        1.01005522e-30, 1.00000000e-30, 9.90054781e-31],\n",
       "       [1.69350878e-05, 9.53674316e-07, 1.02400000e-07, ...,\n",
       "        1.00000000e-30, 9.90054781e-31, 9.80218251e-31],\n",
       "       ...,\n",
       "       [1.02022177e-30, 1.01005522e-30, 1.00000000e-30, ...,\n",
       "        1.00131564e-33, 9.96310324e-34, 9.91332516e-34],\n",
       "       [1.01005522e-30, 1.00000000e-30, 9.90054781e-31, ...,\n",
       "        9.96310324e-34, 9.91332516e-34, 9.86382051e-34],\n",
       "       [1.00000000e-30, 9.90054781e-31, 9.80218251e-31, ...,\n",
       "        9.91332516e-34, 9.86382051e-34, 9.81458767e-34]])"
      ]
     },
     "execution_count": 244,
     "metadata": {},
     "output_type": "execute_result"
    }
   ],
   "source": [
    "D"
   ]
  },
  {
   "cell_type": "markdown",
   "metadata": {},
   "source": [
    "### Verificando o numero de condicionamento:"
   ]
  },
  {
   "cell_type": "code",
   "execution_count": 245,
   "metadata": {},
   "outputs": [
    {
     "data": {
      "text/plain": [
       "2.7806201164923075e+49"
      ]
     },
     "execution_count": 245,
     "metadata": {},
     "output_type": "execute_result"
    }
   ],
   "source": [
    "np.linalg.cond(D, 'fro')"
   ]
  },
  {
   "cell_type": "markdown",
   "metadata": {},
   "source": [
    "### Resultado Computacional:"
   ]
  },
  {
   "cell_type": "code",
   "execution_count": 246,
   "metadata": {},
   "outputs": [],
   "source": [
    "x = np.linalg.solve(D, b1)"
   ]
  },
  {
   "cell_type": "code",
   "execution_count": 247,
   "metadata": {},
   "outputs": [],
   "source": [
    "b2 = np.dot(D, x)"
   ]
  },
  {
   "cell_type": "markdown",
   "metadata": {},
   "source": [
    "### Calculando a qualidade da solucao"
   ]
  },
  {
   "cell_type": "code",
   "execution_count": 248,
   "metadata": {},
   "outputs": [],
   "source": [
    "qualidade1000 = np.linalg.norm(b2-b1)/np.linalg.norm(b1)"
   ]
  },
  {
   "cell_type": "code",
   "execution_count": 249,
   "metadata": {
    "scrolled": false
   },
   "outputs": [
    {
     "data": {
      "text/plain": [
       "278173.7322634765"
      ]
     },
     "execution_count": 249,
     "metadata": {},
     "output_type": "execute_result"
    }
   ],
   "source": [
    "qualidade1000"
   ]
  },
  {
   "cell_type": "markdown",
   "metadata": {},
   "source": [
    "## Diferenca de Qualidade:"
   ]
  },
  {
   "cell_type": "code",
   "execution_count": 250,
   "metadata": {},
   "outputs": [
    {
     "data": {
      "text/plain": [
       "278170.0373121763"
      ]
     },
     "execution_count": 250,
     "metadata": {},
     "output_type": "execute_result"
    }
   ],
   "source": [
    "qualidade1000 - qualidade100"
   ]
  },
  {
   "cell_type": "markdown",
   "metadata": {},
   "source": [
    "# Como podemos observar a qualidade eh bem baixa e fica muito pior para valores altos de $n$ a diferenca do valor real de $b$ para o obtido eh muito grande"
   ]
  }
 ],
 "metadata": {
  "kernelspec": {
   "display_name": "Python 3",
   "language": "python",
   "name": "python3"
  },
  "language_info": {
   "codemirror_mode": {
    "name": "ipython",
    "version": 3
   },
   "file_extension": ".py",
   "mimetype": "text/x-python",
   "name": "python",
   "nbconvert_exporter": "python",
   "pygments_lexer": "ipython3",
   "version": "3.7.1"
  }
 },
 "nbformat": 4,
 "nbformat_minor": 2
}
