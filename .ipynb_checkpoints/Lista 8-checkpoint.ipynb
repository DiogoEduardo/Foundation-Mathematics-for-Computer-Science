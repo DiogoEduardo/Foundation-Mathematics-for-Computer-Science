{
 "cells": [
  {
   "cell_type": "markdown",
   "metadata": {},
   "source": [
    "# Lista 8\n",
    "\n",
    "# Exercicio 1"
   ]
  },
  {
   "cell_type": "markdown",
   "metadata": {},
   "source": [
    "Temos o algoritmo:\n",
    "\n",
    "1. $x_n = b_n/a{nn}$\n",
    "2. para $k$ de $n-1$ até $1$ faça\n",
    "3.    $\\hspace{1.5cm}x_k = (b_k - \\sum_{j = k+1}^n a_{kj}x_j)/a_{kk}$\n",
    "4. end\n",
    "5. return $x$"
   ]
  },
  {
   "cell_type": "markdown",
   "metadata": {},
   "source": [
    "Para a análise, vamos desconsiderar a linha 1 que é executada apenas uma vez. Dentro do laço todos os passos são executados $n$ vezes. Na linha 3 temos uma divisão (então temos $n$ divisões no total) e o somatório de uma multiplicação, que é dependente de $k$, temos a seguinte tabela para as multiplicações desse somatório: \n",
    "\n",
    "\n",
    "$k\\hspace{2cm}$        somatório inicia em $k+1\\hspace{2cm}$ e vai até $n\\hspace{3cm} Temos:$     \n",
    "\n",
    "$\n",
    "n-1\\hspace{3cm} n\\hspace{5cm}n\\hspace{3cm} 1 \\text{ multiplicação}\\\\\n",
    "n-2\\hspace{3cm} n-1\\hspace{4.3cm}n\\hspace{3cm} 2 \\text{ multiplicações}\\\\\n",
    "n-3\\hspace{3cm} n-2\\hspace{4.3cm}n\\hspace{3cm} 3\\text{ multiplicações}\\\\\n",
    ".\\\\\n",
    ".\\\\\n",
    ".\\\\\n",
    "1\\hspace{3.8cm} 2\\hspace{5cm}n\\hspace{3cm} n-1 \\text{ multiplicações}\\\\\n",
    "$"
   ]
  },
  {
   "cell_type": "markdown",
   "metadata": {},
   "source": [
    "Então temos o seguinte: $1 + 2 + 3 + ... + n-1$ multiplicações\n",
    "que podemos resolver da seguinte maneira:\n",
    "\n",
    "$((n-1)+1)(n-1)/2$\n",
    "\n",
    "Logo temos:\n",
    "\n",
    "$\\frac{n²-n}{2}$ multiplições na linha 3\n",
    "\n",
    "Considerando apenas o maior termo assintoticamente temos que o algoritmo é da ordem de $O\\left(\\frac{n²-n}{2}\\right) = O(n²)$"
   ]
  },
  {
   "cell_type": "markdown",
   "metadata": {},
   "source": [
    "# Exercicio 2"
   ]
  },
  {
   "cell_type": "code",
   "execution_count": 167,
   "metadata": {},
   "outputs": [],
   "source": [
    "import numpy as np"
   ]
  },
  {
   "cell_type": "code",
   "execution_count": 168,
   "metadata": {},
   "outputs": [],
   "source": [
    "n = 4\n",
    "A = [[1, 3, 7, 8],[1, -1, 0, 1],[7, 10, 1, 9],[-1, 0, 1, 1]]"
   ]
  },
  {
   "cell_type": "code",
   "execution_count": 169,
   "metadata": {},
   "outputs": [
    {
     "data": {
      "text/plain": [
       "[1, 2, 3, 4]"
      ]
     },
     "execution_count": 169,
     "metadata": {},
     "output_type": "execute_result"
    }
   ],
   "source": [
    "p = []\n",
    "for i in range(1, n+1):\n",
    "    p.append(i)\n",
    "p"
   ]
  },
  {
   "cell_type": "code",
   "execution_count": 170,
   "metadata": {},
   "outputs": [
    {
     "name": "stdout",
     "output_type": "stream",
     "text": [
      "Matriz A =  [[7, 10, 1, 9], [0.14285714285714285, 1.5714285714285716, 6.857142857142857, 6.714285714285714], [0.14285714285714285, -1.5454545454545452, 10.454545454545453, 10.09090909090909], [-0.14285714285714285, 0.9090909090909088, -0.48695652173913023, 1.0956521739130425]]\n",
      "Vetor P =  [3, 1, 2, 4]\n",
      "Matriz P =  [[0 0 1 0]\n",
      " [1 0 0 0]\n",
      " [0 1 0 0]\n",
      " [0 0 0 1]]\n"
     ]
    }
   ],
   "source": [
    "for i in range(0, n-1):\n",
    "    maxindice = i\n",
    "    maxelemento = A[i][i]\n",
    "    for j in range(i+1,n):\n",
    "        if A[j][i] > maxelemento: \n",
    "            maxindice = j\n",
    "            maxelemento = A[j][i]\n",
    "\n",
    "    \n",
    "    #trocando linhas na matriz\n",
    "    if A[i][i] != maxelemento:\n",
    "        aux = A[i]\n",
    "        A[i] = A[maxindice]\n",
    "        A[maxindice] = aux\n",
    "        \n",
    "        #trocando linhas na matriz de permutacao\n",
    "        aux2 = p[i]\n",
    "        p[i] = p[maxindice]\n",
    "        p[maxindice] = aux2\n",
    "\n",
    "    #anulando elementos abaixo do pivo\n",
    "    for j in range(i+1, n):\n",
    "        m = A[j][i]/A[i][i]\n",
    "        for s in range(i, n):\n",
    "            A[j][s] = A[j][s]-(m*A[i][s])\n",
    "        A[j][i] = m\n",
    "        \n",
    "print('Matriz A = ',A)\n",
    "print('Vetor P = ',p)\n",
    "\n",
    "P = np.zeros((4,4),dtype = np.int)\n",
    "\n",
    "for i in range(0,n):\n",
    "    for j in range(0,n):\n",
    "        if p[i] == j+1:\n",
    "            P[i][j] = 1\n",
    "print('Matriz P = ', P)"
   ]
  },
  {
   "cell_type": "code",
   "execution_count": 171,
   "metadata": {},
   "outputs": [
    {
     "name": "stdout",
     "output_type": "stream",
     "text": [
      "Matiz L = [[1, 0, 0, 0], [0.14285714285714285, 1, 0, 0], [0.14285714285714285, -1.5454545454545452, 1, 0], [-0.14285714285714285, 0.9090909090909088, -0.48695652173913023, 1]]\n",
      "Matriz U = [[7, 10, 1, 9], [0, 1.5714285714285716, 6.857142857142857, 6.714285714285714], [0, 0, 10.454545454545453, 10.09090909090909], [0, 0, 0, 1.0956521739130425]]\n"
     ]
    }
   ],
   "source": [
    "L =[[0,0,0,0],[0,0,0,0],[0,0,0,0],[0,0,0,0]]\n",
    "U =[[0,0,0,0],[0,0,0,0],[0,0,0,0],[0,0,0,0]]\n",
    "for i in range(0, n):\n",
    "    for j in range(0, n):\n",
    "        if i == j:\n",
    "            L[i][j] = 1\n",
    "            U[i][j] = A[i][j]\n",
    "        if i > j:\n",
    "            L[i][j] = A[i][j]\n",
    "        if j > i:\n",
    "            U[i][j] = A[i][j]\n",
    "print('Matiz L =',L)\n",
    "print('Matriz U =',U)"
   ]
  },
  {
   "cell_type": "markdown",
   "metadata": {},
   "source": [
    "# Aqui Verificamos que PA = LU:"
   ]
  },
  {
   "cell_type": "code",
   "execution_count": 178,
   "metadata": {},
   "outputs": [
    {
     "name": "stdout",
     "output_type": "stream",
     "text": [
      "Matriz PA =  [[ 7. 10.  1.  9.]\n",
      " [ 1.  3.  7.  8.]\n",
      " [ 1. -1.  0.  1.]\n",
      " [-1.  0.  1.  1.]] \n",
      "\n",
      "Matriz LU =  [[ 7. 10.  1.  9.]\n",
      " [ 1.  3.  7.  8.]\n",
      " [ 1. -1.  0.  1.]\n",
      " [-1.  0.  1.  1.]]\n"
     ]
    }
   ],
   "source": [
    "PA = np.zeros((4,4),dtype = np.float)\n",
    "LU = np.zeros((4,4),dtype = np.float)\n",
    "\n",
    "Aoriginal = [[1, 3, 7, 8],[1, -1, 0, 1],[7, 10, 1, 9],[-1, 0, 1, 1]]\n",
    "\n",
    "for i in range(0,n):\n",
    "    for j in range(0,n):\n",
    "         for k in range(0,n):\n",
    "                PA[i][j] += P[i][k] * Aoriginal[k][j]\n",
    "\n",
    "for i in range(0,n):\n",
    "    for j in range(0,n):\n",
    "         for k in range(0,n):\n",
    "                LU[i][j] += L[i][k] * U[k][j]\n",
    "                \n",
    "\n",
    "print('Matriz PA = ',PA,'\\n\\nMatriz LU = ', LU)"
   ]
  },
  {
   "cell_type": "code",
   "execution_count": null,
   "metadata": {},
   "outputs": [],
   "source": [
    "b = []\n",
    "for i in range(0,n):\n",
    "    b.append(1)\n",
    "print('vetor b = ', b)"
   ]
  },
  {
   "cell_type": "markdown",
   "metadata": {},
   "source": [
    "$LUx = Pb$"
   ]
  },
  {
   "cell_type": "code",
   "execution_count": 179,
   "metadata": {},
   "outputs": [
    {
     "ename": "SyntaxError",
     "evalue": "can't assign to operator (<ipython-input-179-cf4fd8712970>, line 1)",
     "output_type": "error",
     "traceback": [
      "\u001b[0;36m  File \u001b[0;32m\"<ipython-input-179-cf4fd8712970>\"\u001b[0;36m, line \u001b[0;32m1\u001b[0m\n\u001b[0;31m    LU * x = P* b\u001b[0m\n\u001b[0m                 ^\u001b[0m\n\u001b[0;31mSyntaxError\u001b[0m\u001b[0;31m:\u001b[0m can't assign to operator\n"
     ]
    }
   ],
   "source": [
    "LU * x = P*b"
   ]
  },
  {
   "cell_type": "markdown",
   "metadata": {},
   "source": [
    "### Verificacao usando funcao pronta:"
   ]
  },
  {
   "cell_type": "code",
   "execution_count": 159,
   "metadata": {},
   "outputs": [
    {
     "data": {
      "text/plain": [
       "array([-0.67705922,  0.12592051, -0.3998505 ,  0.54222889])"
      ]
     },
     "execution_count": 159,
     "metadata": {},
     "output_type": "execute_result"
    }
   ],
   "source": [
    "np.linalg.solve(A, b)"
   ]
  },
  {
   "cell_type": "code",
   "execution_count": null,
   "metadata": {},
   "outputs": [],
   "source": []
  }
 ],
 "metadata": {
  "kernelspec": {
   "display_name": "Python 3",
   "language": "python",
   "name": "python3"
  },
  "language_info": {
   "codemirror_mode": {
    "name": "ipython",
    "version": 3
   },
   "file_extension": ".py",
   "mimetype": "text/x-python",
   "name": "python",
   "nbconvert_exporter": "python",
   "pygments_lexer": "ipython3",
   "version": "3.7.1"
  }
 },
 "nbformat": 4,
 "nbformat_minor": 2
}
