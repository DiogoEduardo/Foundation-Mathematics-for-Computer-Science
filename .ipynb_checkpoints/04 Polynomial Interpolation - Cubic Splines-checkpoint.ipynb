{
 "cells": [
  {
   "cell_type": "markdown",
   "metadata": {},
   "source": [
    "# Mesma Interpolacao do caso do Pato, porém usando Splines"
   ]
  },
  {
   "cell_type": "code",
   "execution_count": 3,
   "metadata": {
    "scrolled": true
   },
   "outputs": [
    {
     "data": {
      "image/png": "[encoded data removed]",
      "text/plain": [
       "<Figure size 432x288 with 1 Axes>"
      ]
     },
     "metadata": {
      "needs_background": "light"
     },
     "output_type": "display_data"
    }
   ],
   "source": [
    "import matplotlib.pyplot as plt\n",
    "import numpy as np\n",
    "\n",
    "# Valores tabelados do pato\n",
    "x = np.array([0.9, 1.3, 1.9, 2.1, 2.6, 3.0, 3.9, 4.4, 4.7, 5.0, 6.0, 7.0, 8.0, 9.2, 10.5, 11.3, 11.6, 12.0, 12.6, 13.0, 13.3])\n",
    "y = np.array([1.3, 1.5, 1.85, 2.1, 2.6, 2.7, 2.4, 2.15, 1.95, 2.1, 2.25, 2.3, 2.25, 1.95, 1.4, 0.9, 0.7, 0.6, 0.5, 0.4, 0.25])\n",
    "\n",
    "#Definindo h\n",
    "h = []\n",
    "for i in range(1, 21):\n",
    "    h.append(x[i]-x[i-1])\n",
    "\n",
    "#print(h)\n",
    "    \n",
    "# Definindo a matriz A\n",
    "A = np.zeros((21, 21))\n",
    "\n",
    "A[0][0] = 1.0\n",
    "A[20][20]= 1.0\n",
    "for i in range(1, 20):\n",
    "    for j in range(0, 21):\n",
    "        if i-1==j:\n",
    "            A[i][j] = h[i-1]\n",
    "            \n",
    "        if i==j:\n",
    "            A[i][j] = 2*(h[i-1]+h[i])\n",
    "            \n",
    "        if i==j-1:\n",
    "            A[i][j] = h[i]\n",
    "#print(A)\n",
    "            \n",
    "# Definindo o vetor b\n",
    "b= np.zeros((21))\n",
    "\n",
    "for i in range(1,20):\n",
    "    b[i] = 6*((( (y[i+1]-y[i])/h[i])) - ((y[i]-y[i-1])/h[i-1]))\n",
    "    \n",
    "# Calculando os coeficientes g\n",
    "g = np.linalg.solve(A, b)\n",
    "\n",
    "a = []\n",
    "b = []\n",
    "c = []\n",
    "d = []\n",
    "for i in range(1,21):\n",
    "    # Calculando os coeficientes a\n",
    "    a.append((g[i]-g[i-1])/(6*h[i-1]))\n",
    "    \n",
    "    # Calculando os coeficientes b\n",
    "    b.append(g[i]/2)\n",
    "\n",
    "    # Calculando os coeficientes c\n",
    "    c.append((y[i]-y[i-1])/h[i-1] + (2*g[i]*h[i-1]+g[i-1]*h[i-1])/6)\n",
    "\n",
    "    # Calculando os coeficientes d\n",
    "    d.append(y[i])\n",
    "\n",
    "# Definindo a nossa Spline\n",
    "def S3(y,x,a,b,c,d):\n",
    "    if y <= x[1] : #Define o intervalo em que a 1 equacao sera usada\n",
    "        \n",
    "        return(a[0]*(y-x[1])**3+b[0]*(y-x[1])**2+c[0]*(y-x[1])+d[0])\n",
    "    \n",
    "    elif y <= x[2]: #Define o intervalo em que a 2 equacao sera usada\n",
    "        \n",
    "        return(a[1]*(y-x[2])**3+b[1]*(y-x[2])**2+c[1]*(y-x[2])+d[1])\n",
    "    \n",
    "    else: #Define o intervalo em que a 3 equacao sera usada\n",
    "        \n",
    "        return(a[2]*(y-x[3])**3+b[2]*(y-x[3])**2+c[2]*(y-x[3])+d[2])\n",
    "    \n",
    "xplt = []\n",
    "for i in range(0,6):\n",
    "    # Gerando pontos para fazer o gráfico de cade Spline cubica  \n",
    "    xplt.append(np.arange(x[i*3],x[i*3+3]+0.1,0.1))\n",
    "\n",
    "# Como o numero de pontos que temos nao eh multiplo de 4 a ultima spline fica diferente para englobar todos os pontos\n",
    "xplt.append(np.arange(x[17],x[20],0.1))\n",
    "\n",
    "# Inicializando a lista que vai guardar os resultados das Splines\n",
    "S3plt = []\n",
    "for i in range(0,7):\n",
    "    S3plt.append(np.zeros(len(xplt[i])))\n",
    "\n",
    "#Para cada conjunto consecutivo de 4 pontos geramos a Spline e salvamos os resultados em S3plt\n",
    "for i in range(0,14):\n",
    "    S3plt[0][i] = S3(xplt[0][i],x[0:4],a[0:3],b[0:3],c[0:3],d[0:3])\n",
    "\n",
    "for i in range(0,19):\n",
    "    S3plt[1][i] = S3(xplt[1][i],x[3:7],a[3:6],b[3:6],c[3:6],d[3:6])\n",
    "    \n",
    "for i in range(0,12):\n",
    "    S3plt[2][i] = S3(xplt[2][i],x[6:10],a[6:9],b[6:9],c[6:9],d[6:9])\n",
    "    \n",
    "for i in range(0,31):\n",
    "    S3plt[3][i] = S3(xplt[3][i],x[9:13],a[9:12],b[9:12],c[9:12],d[9:12])\n",
    "\n",
    "for i in range(0,34):\n",
    "    S3plt[4][i] = S3(xplt[4][i],x[12:16],a[12:15],b[12:15],c[12:15],d[12:15])\n",
    "    \n",
    "for i in range(0,14):\n",
    "    S3plt[5][i] = S3(xplt[5][i],x[15:19],a[15:18],b[15:18],c[15:18],d[15:18])\n",
    "    \n",
    "for i in range(0,14):\n",
    "    S3plt[6][i] = S3(xplt[6][i],x[17:21],a[17:20],b[17:20],c[17:20],d[17:20])\n",
    "        \n",
    "# Faz o gráfico de cada S3(x) e os pontos gerados para teste em xplt\n",
    "\n",
    "#plt.plot(x, y, 'ro')\n",
    "plt.plot(xplt[0], S3plt[0],'b-')\n",
    "plt.plot(xplt[1], S3plt[1],'b-')\n",
    "plt.plot(xplt[2], S3plt[2],'b-')\n",
    "plt.plot(xplt[3], S3plt[3],'b-')\n",
    "plt.plot(xplt[4], S3plt[4],'b-')\n",
    "plt.plot(xplt[5], S3plt[5],'b-')\n",
    "plt.plot(xplt[6], S3plt[6],'b-')\n",
    "\n",
    "plt.ylim(0, 10)\n",
    "plt.xlim(0, 14)\n",
    "plt.show()"
   ]
  },
  {
   "cell_type": "markdown",
   "metadata": {},
   "source": [
    "# O grafico gerado com as Splines ficou \"suave\" como esperado"
   ]
  }
 ],
 "metadata": {
  "kernelspec": {
   "display_name": "Python 3",
   "language": "python",
   "name": "python3"
  },
  "language_info": {
   "codemirror_mode": {
    "name": "ipython",
    "version": 3
   },
   "file_extension": ".py",
   "mimetype": "text/x-python",
   "name": "python",
   "nbconvert_exporter": "python",
   "pygments_lexer": "ipython3",
   "version": "3.7.3"
  }
 },
 "nbformat": 4,
 "nbformat_minor": 2
}
