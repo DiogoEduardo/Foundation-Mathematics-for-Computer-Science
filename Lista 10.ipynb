{
 "cells": [
  {
   "cell_type": "markdown",
   "metadata": {},
   "source": [
    "# Lista 10"
   ]
  },
  {
   "cell_type": "markdown",
   "metadata": {},
   "source": [
    "# Exercicio 1"
   ]
  },
  {
   "cell_type": "code",
   "execution_count": 64,
   "metadata": {},
   "outputs": [
    {
     "name": "stdout",
     "output_type": "stream",
     "text": [
      "[[ 1  0  4]\n",
      " [ 1  3  1]\n",
      " [ 2  4 -1]]\n"
     ]
    }
   ],
   "source": [
    "import numpy as np\n",
    "import math\n",
    "\n",
    "A = np.array([[1,0,4],[1,3,1],[2,4,-1]])\n",
    "\n",
    "print(A)"
   ]
  },
  {
   "cell_type": "markdown",
   "metadata": {},
   "source": [
    "### Temos como Polinomio caracteristico:\n",
    "$(1-\\lambda)(3-\\lambda)(-1-\\lambda) + 16 -4(3-\\lambda)2 - 4(1-\\lambda)$\n",
    "\n",
    "$-15 + 13\\lambda + 3 \\lambda^2 - \\lambda^3$"
   ]
  },
  {
   "cell_type": "code",
   "execution_count": 65,
   "metadata": {},
   "outputs": [
    {
     "data": {
      "text/plain": [
       "array([-3.,  1.,  5.])"
      ]
     },
     "execution_count": 65,
     "metadata": {},
     "output_type": "execute_result"
    }
   ],
   "source": [
    "z = [-15,13,3,-1]\n",
    "ava1 = np.polynomial.polynomial.polyroots(z)\n",
    "ava1"
   ]
  },
  {
   "cell_type": "code",
   "execution_count": 66,
   "metadata": {},
   "outputs": [],
   "source": [
    "ava2, ave = np.linalg.eig(A)"
   ]
  },
  {
   "cell_type": "code",
   "execution_count": 67,
   "metadata": {},
   "outputs": [
    {
     "data": {
      "text/plain": [
       "array([ 5.,  1., -3.])"
      ]
     },
     "execution_count": 67,
     "metadata": {},
     "output_type": "execute_result"
    }
   ],
   "source": [
    "ava2"
   ]
  },
  {
   "cell_type": "markdown",
   "metadata": {},
   "source": [
    "### Temos que das duas formas chegamos aos mesmos autovalores"
   ]
  },
  {
   "cell_type": "markdown",
   "metadata": {},
   "source": [
    "## Construindo as matrizes caracteristicas para cada autovalor:"
   ]
  },
  {
   "cell_type": "code",
   "execution_count": 68,
   "metadata": {},
   "outputs": [
    {
     "name": "stdout",
     "output_type": "stream",
     "text": [
      "A1 = \n",
      " [[-4  0  4]\n",
      " [ 1 -2  1]\n",
      " [ 2  4 -6]] \n",
      "A2 = \n",
      " [[ 2  4 -2]\n",
      " [ 1  2  1]\n",
      " [ 0  0  4]] \n",
      "A3 = \n",
      " [[4 0 4]\n",
      " [1 6 1]\n",
      " [2 4 2]]\n"
     ]
    }
   ],
   "source": [
    "A1 = np.array([[1,0,4],[1,3,1],[2,4,-1]])\n",
    "\n",
    "for i in range(0,3):\n",
    "    for j in range(0,3):\n",
    "        if i==j:\n",
    "            A1[i][j] = A1[i][j] - np.round(ava2[0])\n",
    "\n",
    "A2 = np.array([[1,0,4],[1,3,1],[2,4,-1]])\n",
    "\n",
    "for i in range(0,3):\n",
    "    for j in range(0,3):\n",
    "        if i==j:\n",
    "            A2[i][j] = A2[i][j] - np.round(ava2[1])\n",
    "\n",
    "A3 = np.array([[1,0,4],[1,3,1],[2,4,-1]])\n",
    "\n",
    "for i in range(0,3):\n",
    "    for j in range(0,3):\n",
    "        if i==j:\n",
    "            A3[i][j] = A3[i][j] - np.round(ava2[2])\n",
    "            \n",
    "A2[0] = A2[2]\n",
    "A2[2] = [0,0,4]\n",
    "\n",
    "print('A1 = \\n', A1, '\\nA2 = \\n', A2, '\\nA3 = \\n', A3)"
   ]
  },
  {
   "cell_type": "markdown",
   "metadata": {},
   "source": [
    "### Escalonando Matrix $A_1$"
   ]
  },
  {
   "cell_type": "code",
   "execution_count": 69,
   "metadata": {},
   "outputs": [
    {
     "name": "stdout",
     "output_type": "stream",
     "text": [
      "[[-4  0  4]\n",
      " [ 0 -2  2]\n",
      " [ 0  0  0]]\n"
     ]
    }
   ],
   "source": [
    "for s in range(0,2):\n",
    "    \n",
    "    for i in range(s+1,3):\n",
    "        soma = []\n",
    "        \n",
    "        b = A1[i][s]/A1[s][s]\n",
    "\n",
    "        for j in range(0,3):\n",
    "            soma.append(A1[i][j]-b*A1[s][j])\n",
    "\n",
    "        \n",
    "        A1[i] = soma\n",
    "\n",
    "print(A1)"
   ]
  },
  {
   "cell_type": "markdown",
   "metadata": {},
   "source": [
    "### Assim sabemos que temos $dim(N(A_1)) = 1$ e fica facil ver que $v = (1,1,1)^t \\in N(A_1)$"
   ]
  },
  {
   "cell_type": "markdown",
   "metadata": {},
   "source": [
    "### Escalonando Matrix $A_2$"
   ]
  },
  {
   "cell_type": "code",
   "execution_count": 70,
   "metadata": {},
   "outputs": [
    {
     "name": "stdout",
     "output_type": "stream",
     "text": [
      "[[ 2  4 -2]\n",
      " [ 0  0  2]\n",
      " [ 0  0  4]]\n"
     ]
    }
   ],
   "source": [
    "for s in range(0,2):\n",
    "    \n",
    "    for i in range(s+1,3):\n",
    "        \n",
    "        if A2[s][s] != 0:\n",
    "            soma = [] \n",
    "            b = A2[i][s]/A2[s][s]\n",
    "\n",
    "            for j in range(0,3):\n",
    "                soma.append(A2[i][j]-b*A2[s][j])\n",
    "\n",
    "        \n",
    "            A2[i] = soma\n",
    "\n",
    "print(A2)"
   ]
  },
  {
   "cell_type": "markdown",
   "metadata": {},
   "source": [
    "### Assim sabemos que temos $dim(N(A_2)) = 1$ (linha 2 e 3 sao LD) e fica facil ver que $v = (-2,1,0)^t \\in N(A_2)$"
   ]
  },
  {
   "cell_type": "markdown",
   "metadata": {},
   "source": [
    "### Escalonando Matrix $A_3$"
   ]
  },
  {
   "cell_type": "code",
   "execution_count": 71,
   "metadata": {},
   "outputs": [
    {
     "name": "stdout",
     "output_type": "stream",
     "text": [
      "[[4 0 4]\n",
      " [0 6 0]\n",
      " [0 0 0]]\n"
     ]
    }
   ],
   "source": [
    "for s in range(0,2):\n",
    "    \n",
    "    for i in range(s+1,3):\n",
    "        \n",
    "        if A3[s][s] != 0:\n",
    "            soma = [] \n",
    "            b = A3[i][s]/A3[s][s]\n",
    "\n",
    "            for j in range(0,3):\n",
    "                soma.append(A3[i][j]-b*A3[s][j])\n",
    "\n",
    "        \n",
    "            A3[i] = soma\n",
    "\n",
    "print(A3)"
   ]
  },
  {
   "cell_type": "markdown",
   "metadata": {},
   "source": [
    "### Assim sabemos que temos $dim(N(A_3)) = 1$e fica facil ver que $v = (-1,0,1)^t \\in N(A_3)$"
   ]
  },
  {
   "cell_type": "markdown",
   "metadata": {},
   "source": [
    "## Temos entao como autovetores:"
   ]
  },
  {
   "cell_type": "code",
   "execution_count": 72,
   "metadata": {},
   "outputs": [],
   "source": [
    "v1 = [1,1,1]\n",
    "v2 = [-2,1,0]\n",
    "v3 = [-1,0,1]"
   ]
  },
  {
   "cell_type": "markdown",
   "metadata": {},
   "source": [
    "# Verificando que $Av=λv$ para cada par de autovalor e autovetor obtido:"
   ]
  },
  {
   "cell_type": "code",
   "execution_count": 73,
   "metadata": {},
   "outputs": [
    {
     "name": "stdout",
     "output_type": "stream",
     "text": [
      "[5 5 5] = [5. 5. 5.]\n"
     ]
    }
   ],
   "source": [
    "print(np.dot(A, v1), '=', np.dot(ava2[0], v1))"
   ]
  },
  {
   "cell_type": "code",
   "execution_count": 74,
   "metadata": {},
   "outputs": [
    {
     "name": "stdout",
     "output_type": "stream",
     "text": [
      "[-2  1  0] = [-2.  1.  0.]\n"
     ]
    }
   ],
   "source": [
    "print(np.dot(A, v2), '=', np.dot(ava2[1], v2))"
   ]
  },
  {
   "cell_type": "code",
   "execution_count": 75,
   "metadata": {},
   "outputs": [
    {
     "name": "stdout",
     "output_type": "stream",
     "text": [
      "[ 3  0 -3] = [ 3.  0. -3.]\n"
     ]
    }
   ],
   "source": [
    "print(np.dot(A, v3), '=', np.dot(ava2[2], v3))"
   ]
  },
  {
   "cell_type": "markdown",
   "metadata": {},
   "source": [
    "## Podemos diagonalizar A, pois $A \\in \\mathbb{R}^{nxn}$ e possui $n$ autovetores L.I."
   ]
  },
  {
   "cell_type": "markdown",
   "metadata": {},
   "source": [
    "## Encontrando fatores S e Λ"
   ]
  },
  {
   "cell_type": "code",
   "execution_count": 76,
   "metadata": {},
   "outputs": [
    {
     "name": "stdout",
     "output_type": "stream",
     "text": [
      "S = \n",
      " [[ 1 -2 -1]\n",
      " [ 1  1  0]\n",
      " [ 1  0  1]] \n",
      " Λ =\n",
      " [[ 5.  0.  0.]\n",
      " [ 0.  1.  0.]\n",
      " [ 0.  0. -3.]]\n"
     ]
    }
   ],
   "source": [
    "S = np.array([[1,-2,-1],\n",
    "     [1, 1, 0],\n",
    "     [1, 0, 1]])\n",
    "\n",
    "Λ = np.zeros((3,3))\n",
    "\n",
    "for i in range(0, 3):\n",
    "    for j in range(0, 3):\n",
    "        if i == j:\n",
    "            Λ[i][j] = ava2[i]\n",
    "print('S = \\n',S,'\\n Λ =\\n', Λ)"
   ]
  },
  {
   "cell_type": "code",
   "execution_count": 77,
   "metadata": {},
   "outputs": [],
   "source": [
    "Sinv = np.linalg.inv(S)"
   ]
  },
  {
   "cell_type": "code",
   "execution_count": 78,
   "metadata": {},
   "outputs": [
    {
     "name": "stdout",
     "output_type": "stream",
     "text": [
      "[[ 1  0  4]\n",
      " [ 1  3  1]\n",
      " [ 2  4 -1]] \n",
      " = \n",
      " [[ 1.00000000e+00  1.55431223e-15  4.00000000e+00]\n",
      " [ 1.00000000e+00  3.00000000e+00  1.00000000e+00]\n",
      " [ 2.00000000e+00  4.00000000e+00 -1.00000000e+00]]\n"
     ]
    }
   ],
   "source": [
    "print(A, '\\n = \\n', np.dot(np.dot(S, Λ), Sinv))"
   ]
  },
  {
   "cell_type": "markdown",
   "metadata": {},
   "source": [
    "# Assim verificamos que $A=SΛS^{−1}$"
   ]
  },
  {
   "cell_type": "markdown",
   "metadata": {},
   "source": [
    "# Exercicio 2"
   ]
  },
  {
   "cell_type": "code",
   "execution_count": 79,
   "metadata": {},
   "outputs": [
    {
     "data": {
      "text/plain": [
       "array([[ 4,  0, -2],\n",
       "       [ 0,  2,  0],\n",
       "       [-2,  0,  4]])"
      ]
     },
     "execution_count": 79,
     "metadata": {},
     "output_type": "execute_result"
    }
   ],
   "source": [
    "B = np.array([[4,0,-2],\n",
    "    [0,2,0],\n",
    "    [-2,0,4]])\n",
    "B"
   ]
  },
  {
   "cell_type": "markdown",
   "metadata": {},
   "source": [
    "### Temos como Polinomio caracteristico:\n",
    "$(4-\\lambda)(2 -\\lambda)(4-\\lambda) - 4(2-\\lambda)$\n",
    "\n",
    "$40 - 36\\lambda + 10\\lambda^2 - \\lambda^3$"
   ]
  },
  {
   "cell_type": "code",
   "execution_count": 80,
   "metadata": {},
   "outputs": [
    {
     "data": {
      "text/plain": [
       "array([2., 2., 6.])"
      ]
     },
     "execution_count": 80,
     "metadata": {},
     "output_type": "execute_result"
    }
   ],
   "source": [
    "z = [24,-28,10,-1]\n",
    "\n",
    "ava = np.round(np.polynomial.polynomial.polyroots(z))\n",
    "ava"
   ]
  },
  {
   "cell_type": "code",
   "execution_count": 81,
   "metadata": {},
   "outputs": [
    {
     "data": {
      "text/plain": [
       "array([6., 2., 2.])"
      ]
     },
     "execution_count": 81,
     "metadata": {},
     "output_type": "execute_result"
    }
   ],
   "source": [
    "ava2, ave = np.linalg.eig(B)\n",
    "ava2"
   ]
  },
  {
   "cell_type": "markdown",
   "metadata": {},
   "source": [
    "### Temos que das duas formas chegamos aos mesmos autovalores"
   ]
  },
  {
   "cell_type": "markdown",
   "metadata": {},
   "source": [
    "## Construindo as matrizes caracteristicas para cada autovalor:"
   ]
  },
  {
   "cell_type": "code",
   "execution_count": 82,
   "metadata": {},
   "outputs": [
    {
     "name": "stdout",
     "output_type": "stream",
     "text": [
      "B1 = \n",
      " [[-2  0 -2]\n",
      " [ 0 -4  0]\n",
      " [-2  0 -2]] \n",
      "B2 = \n",
      " [[ 2  0 -2]\n",
      " [ 0  0  0]\n",
      " [-2  0  2]] \n",
      "B3 = \n",
      " [[ 2  0 -2]\n",
      " [ 0  0  0]\n",
      " [-2  0  2]]\n"
     ]
    }
   ],
   "source": [
    "B1 = np.array([[4,0,-2],[0,2,0],[-2,0,4]])\n",
    "\n",
    "for i in range(0,3):\n",
    "    for j in range(0,3):\n",
    "        if i==j:\n",
    "            B1[i][j] = B1[i][j] - np.round(ava2[0])\n",
    "\n",
    "B2 = np.array([[4,0,-2],[0,2,0],[-2,0,4]])\n",
    "\n",
    "for i in range(0,3):\n",
    "    for j in range(0,3):\n",
    "        if i==j:\n",
    "            B2[i][j] = B2[i][j] - np.round(ava2[1])\n",
    "\n",
    "B3 = np.array([[4,0,-2],[0,2,0],[-2,0,4]])\n",
    "\n",
    "for i in range(0,3):\n",
    "    for j in range(0,3):\n",
    "        if i==j:\n",
    "            B3[i][j] = B3[i][j] - np.round(ava2[2])\n",
    "\n",
    "print('B1 = \\n', B1, '\\nB2 = \\n', B2, '\\nB3 = \\n', B3)"
   ]
  },
  {
   "cell_type": "markdown",
   "metadata": {},
   "source": [
    "### Escalonando Matrix $B_1$"
   ]
  },
  {
   "cell_type": "code",
   "execution_count": 83,
   "metadata": {},
   "outputs": [
    {
     "name": "stdout",
     "output_type": "stream",
     "text": [
      "[[-2  0 -2]\n",
      " [ 0 -4  0]\n",
      " [ 0  0  0]]\n"
     ]
    }
   ],
   "source": [
    "for s in range(0,2):\n",
    "    \n",
    "    for i in range(s+1,3):\n",
    "        \n",
    "        if B1[s][s] != 0:\n",
    "            soma = [] \n",
    "            b = B1[i][s]/B1[s][s]\n",
    "\n",
    "            for j in range(0,3):\n",
    "                soma.append(B1[i][j]-b*B1[s][j])\n",
    "\n",
    "        \n",
    "            B1[i] = soma\n",
    "\n",
    "print(B1)"
   ]
  },
  {
   "cell_type": "markdown",
   "metadata": {},
   "source": [
    "### Assim sabemos que temos $dim(N(B_1)) = 1$ e fica facil ver que $v = (-1,0,1)^t \\in N(B_1)$"
   ]
  },
  {
   "cell_type": "markdown",
   "metadata": {},
   "source": [
    "### Escalonando Matrix $B_2$"
   ]
  },
  {
   "cell_type": "code",
   "execution_count": 84,
   "metadata": {},
   "outputs": [
    {
     "name": "stdout",
     "output_type": "stream",
     "text": [
      "[[ 2  0 -2]\n",
      " [ 0  0  0]\n",
      " [ 0  0  0]]\n"
     ]
    }
   ],
   "source": [
    "for s in range(0,2):\n",
    "    \n",
    "    for i in range(s+1,3):\n",
    "        \n",
    "        if B2[s][s] != 0:\n",
    "            soma = [] \n",
    "            b = B2[i][s]/B2[s][s]\n",
    "\n",
    "            for j in range(0,3):\n",
    "                soma.append(B2[i][j]-b*B2[s][j])\n",
    "\n",
    "        \n",
    "            B2[i] = soma\n",
    "\n",
    "print(B2)"
   ]
  },
  {
   "cell_type": "markdown",
   "metadata": {},
   "source": [
    "### Assim sabemos que temos $dim(N(B_2)) = 2$ e fica facil ver que $v_1 = (0,1,0)^t$ e $v_2 = (1,0,1)^t \\colon v_1, v_2 \\in N(B_2)$"
   ]
  },
  {
   "cell_type": "markdown",
   "metadata": {},
   "source": [
    "### Como temos $2$ autovalores iguais, na matriz $B_3$ temos os mesmos autovetores de $B_2$"
   ]
  },
  {
   "cell_type": "markdown",
   "metadata": {},
   "source": [
    "## Temos entao como autovetores:"
   ]
  },
  {
   "cell_type": "code",
   "execution_count": 85,
   "metadata": {},
   "outputs": [],
   "source": [
    "v1 = [-1,0,1]\n",
    "v2 = [0,1,0]\n",
    "v3 = [1,0,1]"
   ]
  },
  {
   "cell_type": "markdown",
   "metadata": {},
   "source": [
    "# Verificando que $Bv=λv$ para cada par de autovalor e autovetor obtido:"
   ]
  },
  {
   "cell_type": "code",
   "execution_count": 86,
   "metadata": {},
   "outputs": [
    {
     "name": "stdout",
     "output_type": "stream",
     "text": [
      "[-6  0  6] = [-6.  0.  6.]\n"
     ]
    }
   ],
   "source": [
    "print(np.dot(B, v1), '=', np.dot(ava2[0], v1))"
   ]
  },
  {
   "cell_type": "code",
   "execution_count": 87,
   "metadata": {},
   "outputs": [
    {
     "name": "stdout",
     "output_type": "stream",
     "text": [
      "[0 2 0] = [0. 2. 0.]\n"
     ]
    }
   ],
   "source": [
    "print(np.dot(B, v2), '=', np.dot(ava2[1], v2))"
   ]
  },
  {
   "cell_type": "code",
   "execution_count": 88,
   "metadata": {},
   "outputs": [
    {
     "name": "stdout",
     "output_type": "stream",
     "text": [
      "[2 0 2] = [2. 0. 2.]\n"
     ]
    }
   ],
   "source": [
    "print(np.dot(B, v3), '=', np.dot(ava2[2], v3))"
   ]
  },
  {
   "cell_type": "markdown",
   "metadata": {},
   "source": [
    "## Encontrando $Q$:"
   ]
  },
  {
   "cell_type": "code",
   "execution_count": 89,
   "metadata": {},
   "outputs": [
    {
     "data": {
      "text/plain": [
       "array([[-0.70710678,  0.        ,  0.70710678],\n",
       "       [ 0.        ,  1.        ,  0.        ],\n",
       "       [ 0.70710678,  0.        ,  0.70710678]])"
      ]
     },
     "execution_count": 89,
     "metadata": {},
     "output_type": "execute_result"
    }
   ],
   "source": [
    "q1 = np.divide(v1, np.linalg.norm(v1))\n",
    "q2 = np.divide(v2, np.linalg.norm(v2))\n",
    "\n",
    "v3l = v3 - np.dot(np.dot(q2,v3),q2)\n",
    "q3 = np.divide(v3l, np.linalg.norm(v3l))\n",
    "\n",
    "Q = np.array([[q1[0],q2[0],q3[0]],[q1[1],q2[1],q3[1]],[q1[2],q2[2],q3[2]]])\n",
    "Q"
   ]
  },
  {
   "cell_type": "markdown",
   "metadata": {},
   "source": [
    "## Encontrando Λ:"
   ]
  },
  {
   "cell_type": "code",
   "execution_count": 90,
   "metadata": {},
   "outputs": [
    {
     "name": "stdout",
     "output_type": "stream",
     "text": [
      "Λ =\n",
      " [[6. 0. 0.]\n",
      " [0. 2. 0.]\n",
      " [0. 0. 2.]]\n"
     ]
    }
   ],
   "source": [
    "Λ = np.zeros((3,3))\n",
    "\n",
    "for i in range(0, 3):\n",
    "    for j in range(0, 3):\n",
    "        if i == j:\n",
    "            Λ[i][j] = ava2[i]\n",
    "            \n",
    "print('Λ =\\n', Λ)"
   ]
  },
  {
   "cell_type": "markdown",
   "metadata": {},
   "source": [
    "# Agora podemos verificar $B=QΛQ^t$"
   ]
  },
  {
   "cell_type": "code",
   "execution_count": 91,
   "metadata": {},
   "outputs": [
    {
     "name": "stdout",
     "output_type": "stream",
     "text": [
      "B = \n",
      " [[ 4  0 -2]\n",
      " [ 0  2  0]\n",
      " [-2  0  4]] \n",
      " = \n",
      " [[ 4.  0. -2.]\n",
      " [ 0.  2.  0.]\n",
      " [-2.  0.  4.]]\n"
     ]
    }
   ],
   "source": [
    "Qinv = np.linalg.inv(Q)\n",
    "\n",
    "print('B = \\n', B, '\\n = \\n', np.dot(np.dot(Q,Λ),Qinv))"
   ]
  },
  {
   "cell_type": "markdown",
   "metadata": {},
   "source": [
    "# Exercicio 3"
   ]
  },
  {
   "cell_type": "code",
   "execution_count": 92,
   "metadata": {},
   "outputs": [
    {
     "data": {
      "text/plain": [
       "array([[1, 4],\n",
       "       [2, 8]])"
      ]
     },
     "execution_count": 92,
     "metadata": {},
     "output_type": "execute_result"
    }
   ],
   "source": [
    "C = np.array([[1,4],[2,8]])\n",
    "C"
   ]
  },
  {
   "cell_type": "code",
   "execution_count": 93,
   "metadata": {},
   "outputs": [
    {
     "name": "stdout",
     "output_type": "stream",
     "text": [
      "For CC^t:\n",
      " [ 0. 85.] \n",
      " [[-0.89442719 -0.4472136 ]\n",
      " [ 0.4472136  -0.89442719]] \n",
      "For C^tC: \n",
      " [ 0. 85.] \n",
      " [[-0.9701425  -0.24253563]\n",
      " [ 0.24253563 -0.9701425 ]]\n",
      "CC^t = \n",
      " [[17 34]\n",
      " [34 68]] \n",
      "C^tC = \n",
      " [[ 5 20]\n",
      " [20 80]]\n"
     ]
    }
   ],
   "source": [
    "ava3,ave3 = np.linalg.eig(np.dot(C,C.T))\n",
    "ava4,ave4 = np.linalg.eig(np.dot(C.T,C))\n",
    "\n",
    "print('For CC^t:\\n', ava3,'\\n',ave3,'\\nFor C^tC: \\n',ava4,'\\n',ave4)\n",
    "\n",
    "print('CC^t = \\n', np.dot(C,C.T), '\\nC^tC = \\n', np.dot(C.T,C))"
   ]
  },
  {
   "cell_type": "markdown",
   "metadata": {},
   "source": [
    "## Definindo Σ"
   ]
  },
  {
   "cell_type": "code",
   "execution_count": 165,
   "metadata": {},
   "outputs": [],
   "source": [
    "Σ = np.zeros((2,2))\n",
    "Σ[0][0] = np.sqrt(ava3[0])\n",
    "Σ[1][1] = np.sqrt(ava3[1])"
   ]
  },
  {
   "cell_type": "markdown",
   "metadata": {},
   "source": [
    "# Como podemos ver sao todos ortogonais os autovetores:"
   ]
  },
  {
   "cell_type": "code",
   "execution_count": 166,
   "metadata": {},
   "outputs": [
    {
     "data": {
      "text/plain": [
       "(0.0, 0.0)"
      ]
     },
     "execution_count": 166,
     "metadata": {},
     "output_type": "execute_result"
    }
   ],
   "source": [
    "np.dot(ave3[0], ave3[1]), np.dot(ave4[0], ave4[1])"
   ]
  },
  {
   "cell_type": "code",
   "execution_count": 167,
   "metadata": {},
   "outputs": [],
   "source": [
    "U = ave3\n",
    "V = ave4"
   ]
  },
  {
   "cell_type": "code",
   "execution_count": 175,
   "metadata": {},
   "outputs": [
    {
     "name": "stdout",
     "output_type": "stream",
     "text": [
      "[[-0.89442719 -0.4472136 ]\n",
      " [ 0.4472136  -0.89442719]] \n",
      "\n",
      " [[0.         0.        ]\n",
      " [0.         9.21954446]] \n",
      "\n",
      " [[-0.9701425   0.24253563]\n",
      " [-0.24253563 -0.9701425 ]] \n",
      "\n",
      "\n",
      "[[-0.4472136  -0.89442719]\n",
      " [-0.89442719  0.4472136 ]] \n",
      "\n",
      " [[9.21954446e+00 0.00000000e+00]\n",
      " [0.00000000e+00 2.15414908e-16]] \n",
      "\n",
      " [[-0.24253563 -0.9701425 ]\n",
      " [-0.9701425   0.24253563]]\n"
     ]
    }
   ],
   "source": [
    "\n",
    "print(U,'\\n\\n',Σ,'\\n\\n',V.T, '\\n\\n')\n",
    "\n",
    "U1,s,Vh1 = np.linalg.svd(C, full_matrices=True)\n",
    "S1 = np.diag(s)\n",
    "print(U1,'\\n\\n', S1,'\\n\\n', Vh1)"
   ]
  },
  {
   "cell_type": "markdown",
   "metadata": {},
   "source": [
    "# Verificando que $C=UΣV^t$"
   ]
  },
  {
   "cell_type": "code",
   "execution_count": 97,
   "metadata": {},
   "outputs": [
    {
     "name": "stdout",
     "output_type": "stream",
     "text": [
      "[[1 4]\n",
      " [2 8]] \n",
      " = \n",
      " [[1. 4.]\n",
      " [2. 8.]]\n"
     ]
    }
   ],
   "source": [
    "print(C, \"\\n = \\n\", np.dot(np.dot(U,Σ),V.T))"
   ]
  },
  {
   "cell_type": "markdown",
   "metadata": {},
   "source": [
    "# $C(C), N(C), C(C^t) e N(C^t)$:"
   ]
  },
  {
   "cell_type": "code",
   "execution_count": 98,
   "metadata": {},
   "outputs": [
    {
     "name": "stdout",
     "output_type": "stream",
     "text": [
      "C(C) = \n",
      " [1, 2] \n",
      "N(C) = \n",
      " [-4, 1] \n",
      "C(Ct) = \n",
      " [1, 4] \n",
      "N(Ct) = \n",
      " [-2, 1]\n"
     ]
    }
   ],
   "source": [
    "CC = [1,2]\n",
    "NC = [-4,1]\n",
    "CCt = [1,4]\n",
    "NCt = [-2,1]\n",
    "print('C(C) = \\n', CC, '\\nN(C) = \\n', NC, '\\nC(Ct) = \\n', CCt, '\\nN(Ct) = \\n', NCt) "
   ]
  },
  {
   "cell_type": "markdown",
   "metadata": {},
   "source": [
    "# Exercicio 4"
   ]
  },
  {
   "cell_type": "code",
   "execution_count": 129,
   "metadata": {},
   "outputs": [
    {
     "data": {
      "text/plain": [
       "array([[ 1,  2,  3,  4],\n",
       "       [ 3,  1,  0, -1]])"
      ]
     },
     "execution_count": 129,
     "metadata": {},
     "output_type": "execute_result"
    }
   ],
   "source": [
    "E = np.array([[1,2,3,4],[3,1,0,-1]])\n",
    "E"
   ]
  },
  {
   "cell_type": "code",
   "execution_count": 187,
   "metadata": {},
   "outputs": [
    {
     "name": "stdout",
     "output_type": "stream",
     "text": [
      "[[-0.99862542 -0.05241444]\n",
      " [-0.05241444  0.99862542]] \n",
      "\n",
      " [[5.48201483 0.        ]\n",
      " [0.         3.30870268]] \n",
      "\n",
      " [[-0.21084743 -0.37388904 -0.54649182 -0.7190946 ]\n",
      " [ 0.88961206  0.27013504 -0.04752416 -0.36518337]\n",
      " [-0.31273004  0.34855329  0.65805694 -0.58963684]\n",
      " [-0.25755322  0.81593177 -0.51579959  0.04327211]]\n"
     ]
    }
   ],
   "source": [
    "U,s,Vh = np.linalg.svd(E, full_matrices=True)\n",
    "S = np.diag(s)\n",
    "\n",
    "print(U, '\\n\\n',S,'\\n\\n', Vh)"
   ]
  },
  {
   "cell_type": "code",
   "execution_count": 188,
   "metadata": {},
   "outputs": [
    {
     "ename": "ValueError",
     "evalue": "shapes (4,4) and (2,2) not aligned: 4 (dim 1) != 2 (dim 0)",
     "output_type": "error",
     "traceback": [
      "\u001b[0;31m---------------------------------------------------------------------------\u001b[0m",
      "\u001b[0;31mValueError\u001b[0m                                Traceback (most recent call last)",
      "\u001b[0;32m<ipython-input-188-64576c49fea0>\u001b[0m in \u001b[0;36m<module>\u001b[0;34m\u001b[0m\n\u001b[1;32m      1\u001b[0m \u001b[0mSinv\u001b[0m \u001b[0;34m=\u001b[0m \u001b[0mnp\u001b[0m\u001b[0;34m.\u001b[0m\u001b[0mdiag\u001b[0m\u001b[0;34m(\u001b[0m\u001b[0;36m1\u001b[0m\u001b[0;34m/\u001b[0m\u001b[0ms\u001b[0m\u001b[0;34m)\u001b[0m\u001b[0;34m\u001b[0m\u001b[0;34m\u001b[0m\u001b[0m\n\u001b[0;32m----> 2\u001b[0;31m \u001b[0mEpseudoinv\u001b[0m \u001b[0;34m=\u001b[0m \u001b[0mnp\u001b[0m\u001b[0;34m.\u001b[0m\u001b[0mdot\u001b[0m\u001b[0;34m(\u001b[0m\u001b[0mnp\u001b[0m\u001b[0;34m.\u001b[0m\u001b[0mdot\u001b[0m\u001b[0;34m(\u001b[0m\u001b[0mVh\u001b[0m\u001b[0;34m.\u001b[0m\u001b[0mT\u001b[0m\u001b[0;34m,\u001b[0m \u001b[0mSinv\u001b[0m\u001b[0;34m)\u001b[0m\u001b[0;34m,\u001b[0m \u001b[0mU\u001b[0m\u001b[0;34m.\u001b[0m\u001b[0mT\u001b[0m\u001b[0;34m)\u001b[0m\u001b[0;34m\u001b[0m\u001b[0;34m\u001b[0m\u001b[0m\n\u001b[0m",
      "\u001b[0;31mValueError\u001b[0m: shapes (4,4) and (2,2) not aligned: 4 (dim 1) != 2 (dim 0)"
     ]
    }
   ],
   "source": [
    "Sinv = np.diag(1/s)\n",
    "Epseudoinv = np.dot(np.dot(Vh.T, Sinv), U.T)"
   ]
  },
  {
   "cell_type": "code",
   "execution_count": 189,
   "metadata": {},
   "outputs": [
    {
     "name": "stdout",
     "output_type": "stream",
     "text": [
      "[[-0.21084743  0.88961206 -0.31273004 -0.25755322]\n",
      " [-0.37388904  0.27013504  0.34855329  0.81593177]\n",
      " [-0.54649182 -0.04752416  0.65805694 -0.51579959]\n",
      " [-0.7190946  -0.36518337 -0.58963684  0.04327211]] \n",
      "\n",
      " [[0.18241468 0.        ]\n",
      " [0.         0.30223326]] \n",
      "\n",
      " [[-0.99862542 -0.05241444]\n",
      " [-0.05241444  0.99862542]]\n"
     ]
    }
   ],
   "source": [
    "#A=U Σ Vt\n",
    "#A†=V Σ† Ut\n",
    "print(Vh.T, '\\n\\n',Sinv,'\\n\\n', U.T)"
   ]
  },
  {
   "cell_type": "code",
   "execution_count": null,
   "metadata": {},
   "outputs": [],
   "source": []
  }
 ],
 "metadata": {
  "kernelspec": {
   "display_name": "Python 3",
   "language": "python",
   "name": "python3"
  },
  "language_info": {
   "codemirror_mode": {
    "name": "ipython",
    "version": 3
   },
   "file_extension": ".py",
   "mimetype": "text/x-python",
   "name": "python",
   "nbconvert_exporter": "python",
   "pygments_lexer": "ipython3",
   "version": "3.7.3"
  }
 },
 "nbformat": 4,
 "nbformat_minor": 2
}
